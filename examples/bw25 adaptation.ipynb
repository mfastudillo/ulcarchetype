{
 "cells": [
  {
   "cell_type": "code",
   "execution_count": 1,
   "metadata": {},
   "outputs": [],
   "source": [
    "from ulcarchetype import ulcarchetype\n",
    "import bw2data\n",
    "import bw2io"
   ]
  },
  {
   "cell_type": "code",
   "execution_count": 2,
   "metadata": {},
   "outputs": [],
   "source": [
    "bw2data.projects.set_current('uncertain archetype IV')"
   ]
  },
  {
   "cell_type": "markdown",
   "metadata": {},
   "source": [
    "configuration "
   ]
  },
  {
   "cell_type": "code",
   "execution_count": 3,
   "metadata": {},
   "outputs": [
    {
     "name": "stdout",
     "output_type": "stream",
     "text": [
      "Creating default biosphere\n",
      "\n",
      "Applying strategy: normalize_units\n",
      "Applying strategy: drop_unspecified_subcategories\n",
      "Applying strategy: ensure_categories_are_tuples\n",
      "Applied 3 strategies in 0.02 seconds\n",
      "Warning: No valid output stream.\n",
      "Title: Writing activities to SQLite3 database:\n",
      "  Started: 12/10/2022 23:00:57\n",
      "  Finished: 12/10/2022 23:00:58\n",
      "  Total time elapsed: 00:00:00\n",
      "  CPU %: 71.50\n",
      "  Memory %: 2.80\n",
      "Created database: biosphere3\n",
      "Creating default LCIA methods\n",
      "\n",
      "Applying strategy: normalize_units\n",
      "Applying strategy: set_biosphere_type\n",
      "Applying strategy: fix_ecoinvent_38_lcia_implementation\n",
      "Applying strategy: drop_unspecified_subcategories\n",
      "Applying strategy: link_iterable_by_fields\n",
      "Applied 5 strategies in 2.35 seconds\n",
      "Wrote 975 LCIA methods with 254388 characterization factors\n",
      "Creating core data migrations\n",
      "\n"
     ]
    }
   ],
   "source": [
    "if 'biosphere3' not in bw2data.databases:\n",
    "    bw2io.bw2setup()"
   ]
  },
  {
   "cell_type": "markdown",
   "metadata": {},
   "source": [
    "test database"
   ]
  },
  {
   "cell_type": "code",
   "execution_count": 4,
   "metadata": {},
   "outputs": [
    {
     "name": "stdout",
     "output_type": "stream",
     "text": [
      "Not able to determine geocollections for all datasets. This database is not ready for regionalization.\n",
      "Warning: No valid output stream.\n",
      "Title: Writing activities to SQLite3 database:\n",
      "  Started: 12/10/2022 23:13:27\n",
      "  Finished: 12/10/2022 23:13:27\n",
      "  Total time elapsed: 00:00:00\n",
      "  CPU %: 0.00\n",
      "  Memory %: 3.53\n"
     ]
    }
   ],
   "source": [
    "# activity 1\n",
    "e1 = ('biosphere3', '051aaf7a-6c1a-4e86-999f-85d5f0830df6')\n",
    "act1_key=('test_db2','activity_1')\n",
    "# a unique emission of PM in an uncertain archetype\n",
    "biosphere_exchange_1={'amount':1,\n",
    "                     'input':e1,\n",
    "                     'output':act1_key,\n",
    "                     'type':'biosphere',\n",
    "                     'uncertainty type': 4, # uniform\n",
    "                     'minimum':1,\n",
    "                     'maximum':3}\n",
    "                     \n",
    "production_exchange_1={'amount':1,\n",
    "                     'input':act1_key,\n",
    "                     'output':act1_key,\n",
    "                     'type':'production',\n",
    "                     'uncertainty type':0}\n",
    "act_1_dict={'name':'test_activity_1',\n",
    " 'unit':'megajoule',\n",
    " 'exchanges':[production_exchange_1,biosphere_exchange_1]}\n",
    "# activity 2\n",
    "act2_key=('test_db2','activity_2')\n",
    "\n",
    "production_exchange_2={'amount':1,\n",
    "                     'input':act2_key,\n",
    "                     'output':act2_key,\n",
    "                     'type':'production',\n",
    "                     'uncertainty type':0}\n",
    "\n",
    "technosphere_exchange_1={\n",
    "    'amount':10, # or negative?\n",
    "    'input':act1_key,\n",
    "    'output':act2_key,\n",
    "    'type':'technosphere',\n",
    "    'uncertainty type':3,\n",
    "    'loc':10,\n",
    "    'scale':1,\n",
    "}\n",
    "# a unique emission of PM in an uncertain archetype\n",
    "biosphere_exchange_2={'amount':1,\n",
    "                     'input':e1,\n",
    "                     'output':act2_key,\n",
    "                     'type':'biosphere',\n",
    "                     'uncertainty type': 4, # uniform\n",
    "                     'minimum':1,\n",
    "                     'maximum':1.1}\n",
    "\n",
    "act_2_dict={'name':'test_activity_2','unit':'megajoule',\n",
    "            'exchanges':[production_exchange_2,\n",
    "            technosphere_exchange_1,\n",
    "            biosphere_exchange_2]}\n",
    "#act2_data={act2_key:act_2_dict}\n",
    "database_dict={act1_key:act_1_dict,\n",
    "               act2_key:act_2_dict}\n",
    "db=bw2data.Database('test_db2')\n",
    "db.write(database_dict)"
   ]
  },
  {
   "cell_type": "markdown",
   "metadata": {},
   "source": [
    "create a test method"
   ]
  },
  {
   "cell_type": "code",
   "execution_count": 5,
   "metadata": {},
   "outputs": [],
   "source": [
    "e1 = ('biosphere3', '051aaf7a-6c1a-4e86-999f-85d5f0830df6')\n",
    "e2 = ('biosphere3', 'ddd99a3a-be86-423d-b36a-a9dc8af1b1f8')\n",
    "e3 = ('biosphere3', '66f50b33-fd62-4fdd-a373-c5b0de7de00d')\n",
    "e4 = ('biosphere3', '21e46cb8-6233-4c99-bac3-c41d2ab99498')\n",
    "e5 = ('biosphere3', '230d8a0a-517c-43fe-8357-1818dd12997a')"
   ]
  },
  {
   "cell_type": "code",
   "execution_count": null,
   "metadata": {},
   "outputs": [],
   "source": []
  },
  {
   "cell_type": "code",
   "execution_count": 6,
   "metadata": {},
   "outputs": [
    {
     "name": "stdout",
     "output_type": "stream",
     "text": [
      "Particulates, < 2.5 um ('air', 'low population density, long-term')\n",
      "Particulates, < 2.5 um ('air', 'lower stratosphere + upper troposphere')\n",
      "Particulates, < 2.5 um ('air', 'non-urban air or from high stacks')\n",
      "Particulates, < 2.5 um ('air',)\n",
      "Particulates, < 2.5 um ('air', 'urban air close to ground')\n"
     ]
    }
   ],
   "source": [
    "for e in [e1,e2,e3,e4,e5]:\n",
    "    emission = bw2data.get_activity(e)\n",
    "    print(emission['name'],emission['categories'])\n",
    "    \n",
    "cfs=[(e1,1),\n",
    "     (e2,1),\n",
    "     (e3,1),\n",
    "     (e4,10),#unspecified\n",
    "     (e5,10)]\n",
    "\n",
    "test_method_name_1=('test method','1 unspecified')\n",
    "\n",
    "test_method_1=bw2data.Method(test_method_name_1)\n",
    "\n",
    "metadata_test_method={\n",
    "'description':'method to test uncertainty on archetype',\n",
    "'unit':'DALY'}\n",
    "test_method_1.register(**metadata_test_method)"
   ]
  },
  {
   "cell_type": "code",
   "execution_count": 7,
   "metadata": {},
   "outputs": [],
   "source": [
    "test_method_1.write(cfs)"
   ]
  },
  {
   "cell_type": "code",
   "execution_count": 8,
   "metadata": {},
   "outputs": [],
   "source": [
    "## 0 unnespecified\n",
    "\n",
    "cfs=[(e1,1),\n",
    " (e2,1),\n",
    " (e3,1),\n",
    " #(e4,10),#unspecified\n",
    " (e5,10)]\n",
    "\n",
    "test_method_name_2=('test method','0 unspecified')\n",
    "\n",
    "test_method_2=bw2data.Method(test_method_name_2)\n",
    "\n",
    "metadata_test_method_2={'description':'method to test uncertainty on archetype',\n",
    " 'unit':'DALY'}\n",
    "\n",
    "test_method_2.register(**metadata_test_method_2)\n",
    "\n",
    "test_method_2.write(cfs)"
   ]
  },
  {
   "cell_type": "code",
   "execution_count": 45,
   "metadata": {},
   "outputs": [],
   "source": [
    "method_reimplemented = ulcarchetype.LCIAMethod()\n",
    "method_reimplemented.transform_method2(method=bw2data.Method(test_method_name_1))"
   ]
  },
  {
   "cell_type": "code",
   "execution_count": 46,
   "metadata": {},
   "outputs": [
    {
     "data": {
      "text/plain": [
       "LCIAMethod(cfs=[CharacterisationFactor(database='biosphere3', code='051aaf7a-6c1a-4e86-999f-85d5f0830df6', name='Particulates, < 2.5 um', unit='kilogram', directionality='emission', context=('air', 'low population density, long-term'), value=1, values_possible=[{'value': 1, 'freq': 0.25}], level=2, uncertainty_param={}), CharacterisationFactor(database='biosphere3', code='ddd99a3a-be86-423d-b36a-a9dc8af1b1f8', name='Particulates, < 2.5 um', unit='kilogram', directionality='emission', context=('air', 'lower stratosphere + upper troposphere'), value=1, values_possible=[{'value': 1, 'freq': 0.25}], level=2, uncertainty_param={}), CharacterisationFactor(database='biosphere3', code='66f50b33-fd62-4fdd-a373-c5b0de7de00d', name='Particulates, < 2.5 um', unit='kilogram', directionality='emission', context=('air', 'non-urban air or from high stacks'), value=1, values_possible=[{'value': 1, 'freq': 0.25}], level=2, uncertainty_param={}), CharacterisationFactor(database='biosphere3', code='21e46cb8-6233-4c99-bac3-c41d2ab99498', name='Particulates, < 2.5 um', unit='kilogram', directionality='emission', context=('air',), value=10, values_possible=[{'value': 1, 'freq': 0.25}, {'value': 1, 'freq': 0.25}, {'value': 1, 'freq': 0.25}, {'value': 10, 'freq': 0.25}], level=1, uncertainty_param={}), CharacterisationFactor(database='biosphere3', code='230d8a0a-517c-43fe-8357-1818dd12997a', name='Particulates, < 2.5 um', unit='kilogram', directionality='emission', context=('air', 'urban air close to ground'), value=10, values_possible=[{'value': 10, 'freq': 0.25}], level=2, uncertainty_param={})])"
      ]
     },
     "execution_count": 46,
     "metadata": {},
     "output_type": "execute_result"
    }
   ],
   "source": [
    "# improve this is not very nice\n",
    "method_reimplemented"
   ]
  },
  {
   "cell_type": "code",
   "execution_count": 47,
   "metadata": {},
   "outputs": [],
   "source": [
    "method_reimplemented.set_uncertainty_type(4)"
   ]
  },
  {
   "cell_type": "code",
   "execution_count": 50,
   "metadata": {},
   "outputs": [],
   "source": [
    "method_reimplemented.set_uncertainty_from_possiblevalues()"
   ]
  },
  {
   "cell_type": "code",
   "execution_count": 51,
   "metadata": {},
   "outputs": [],
   "source": [
    "cfs_list = method_reimplemented.build_cf_list()"
   ]
  },
  {
   "cell_type": "code",
   "execution_count": 52,
   "metadata": {},
   "outputs": [
    {
     "data": {
      "text/plain": [
       "[(('biosphere3', '051aaf7a-6c1a-4e86-999f-85d5f0830df6'), 1),\n",
       " (('biosphere3', 'ddd99a3a-be86-423d-b36a-a9dc8af1b1f8'), 1),\n",
       " (('biosphere3', '66f50b33-fd62-4fdd-a373-c5b0de7de00d'), 1),\n",
       " (('biosphere3', '21e46cb8-6233-4c99-bac3-c41d2ab99498'),\n",
       "  {'uncertainty type': 1,\n",
       "   'minimum': 1,\n",
       "   'maximum': 10,\n",
       "   'amount': 10,\n",
       "   'loc': 3.25,\n",
       "   'scale': 3.897114317029974}),\n",
       " (('biosphere3', '230d8a0a-517c-43fe-8357-1818dd12997a'), 10)]"
      ]
     },
     "execution_count": 52,
     "metadata": {},
     "output_type": "execute_result"
    }
   ],
   "source": [
    "cfs_list"
   ]
  },
  {
   "cell_type": "markdown",
   "metadata": {},
   "source": [
    "***"
   ]
  },
  {
   "cell_type": "code",
   "execution_count": 24,
   "metadata": {},
   "outputs": [
    {
     "data": {
      "text/plain": [
       "('EF v2.0 2018',\n",
       " 'eutrophication: marine',\n",
       " 'fraction of nutrients reaching marine end compartment (N)')"
      ]
     },
     "execution_count": 24,
     "metadata": {},
     "output_type": "execute_result"
    }
   ],
   "source": [
    "method_rdm_name = bw2data.methods.random()\n",
    "method_rdm_name"
   ]
  },
  {
   "cell_type": "code",
   "execution_count": 25,
   "metadata": {},
   "outputs": [],
   "source": [
    "method_rdm = bw2data.Method(method_rdm_name)"
   ]
  },
  {
   "cell_type": "code",
   "execution_count": 26,
   "metadata": {},
   "outputs": [],
   "source": [
    "method_reimplemented = ulcarchetype.LCIAMethod()"
   ]
  },
  {
   "cell_type": "code",
   "execution_count": 27,
   "metadata": {},
   "outputs": [
    {
     "data": {
      "text/plain": [
       "LCIAMethod(cfs=[])"
      ]
     },
     "execution_count": 27,
     "metadata": {},
     "output_type": "execute_result"
    }
   ],
   "source": [
    "method_reimplemented"
   ]
  },
  {
   "cell_type": "code",
   "execution_count": 28,
   "metadata": {},
   "outputs": [],
   "source": [
    "method_reimplemented.transform_method2(method=method_rdm)"
   ]
  },
  {
   "cell_type": "code",
   "execution_count": 29,
   "metadata": {},
   "outputs": [
    {
     "data": {
      "text/plain": [
       "CharacterisationFactor(database='biosphere3', code='2b50f643-216a-412b-a0e5-5946867aa2ed', name='Ammonia', unit='kilogram', directionality='emission', context=('air', 'low population density, long-term'), value=0.092, values_possible=[{'value': 0.092, 'freq': 0.25}], level=2, uncertainty_param={})"
      ]
     },
     "execution_count": 29,
     "metadata": {},
     "output_type": "execute_result"
    }
   ],
   "source": [
    "method_reimplemented.cfs[0]"
   ]
  },
  {
   "cell_type": "code",
   "execution_count": 30,
   "metadata": {},
   "outputs": [],
   "source": [
    "method_reimplemented.set_uncertainty_type(4)"
   ]
  },
  {
   "cell_type": "code",
   "execution_count": 31,
   "metadata": {},
   "outputs": [
    {
     "data": {
      "text/plain": [
       "CharacterisationFactor(database='biosphere3', code='2b50f643-216a-412b-a0e5-5946867aa2ed', name='Ammonia', unit='kilogram', directionality='emission', context=('air', 'low population density, long-term'), value=0.092, values_possible=[{'value': 0.092, 'freq': 0.25}], level=2, uncertainty_param={})"
      ]
     },
     "execution_count": 31,
     "metadata": {},
     "output_type": "execute_result"
    }
   ],
   "source": [
    "method_reimplemented.cfs[0]"
   ]
  },
  {
   "cell_type": "code",
   "execution_count": 32,
   "metadata": {},
   "outputs": [],
   "source": [
    "cfs_list = method_reimplemented.build_cf_list()"
   ]
  },
  {
   "cell_type": "code",
   "execution_count": 33,
   "metadata": {},
   "outputs": [
    {
     "name": "stdout",
     "output_type": "stream",
     "text": [
      "('biosphere3', '0c150bb4-fd1a-43f8-b6c9-5dfda8dadb6c')\n"
     ]
    }
   ],
   "source": [
    "for cf_key,cf_value in cfs_list:\n",
    "    if isinstance(cf_value,float) is False:\n",
    "        print(cf_key)\n",
    "        break\n"
   ]
  },
  {
   "cell_type": "code",
   "execution_count": 34,
   "metadata": {},
   "outputs": [],
   "source": [
    "cf_list_uncertain = [cf for cf in cfs_list if isinstance(cf[1],dict)]"
   ]
  },
  {
   "cell_type": "code",
   "execution_count": 35,
   "metadata": {},
   "outputs": [
    {
     "data": {
      "text/plain": [
       "[]"
      ]
     },
     "execution_count": 35,
     "metadata": {},
     "output_type": "execute_result"
    }
   ],
   "source": [
    "cf_list_uncertain"
   ]
  },
  {
   "attachments": {},
   "cell_type": "markdown",
   "metadata": {},
   "source": [
    "# reborn"
   ]
  },
  {
   "cell_type": "code",
   "execution_count": 54,
   "metadata": {},
   "outputs": [],
   "source": [
    "bio3 = bw2data.Database('biosphere3')"
   ]
  },
  {
   "cell_type": "code",
   "execution_count": 58,
   "metadata": {},
   "outputs": [
    {
     "data": {
      "text/plain": [
       "('air', 'urban air close to ground')"
      ]
     },
     "execution_count": 58,
     "metadata": {},
     "output_type": "execute_result"
    }
   ],
   "source": [
    "bio3.random()['categories']"
   ]
  },
  {
   "cell_type": "code",
   "execution_count": 60,
   "metadata": {},
   "outputs": [],
   "source": [
    "bio3_categories = {f['categories'] for f in bio3}"
   ]
  },
  {
   "cell_type": "code",
   "execution_count": 61,
   "metadata": {},
   "outputs": [
    {
     "data": {
      "text/plain": [
       "{('air',),\n",
       " ('air', 'indoor'),\n",
       " ('air', 'low population density, long-term'),\n",
       " ('air', 'lower stratosphere + upper troposphere'),\n",
       " ('air', 'non-urban air or from high stacks'),\n",
       " ('air', 'urban air close to ground'),\n",
       " ('economic', 'primary production factor'),\n",
       " ('inventory indicator', 'output flow'),\n",
       " ('inventory indicator', 'resource use'),\n",
       " ('inventory indicator', 'waste'),\n",
       " ('natural resource', 'biotic'),\n",
       " ('natural resource', 'fossil well'),\n",
       " ('natural resource', 'in air'),\n",
       " ('natural resource', 'in ground'),\n",
       " ('natural resource', 'in water'),\n",
       " ('natural resource', 'land'),\n",
       " ('social',),\n",
       " ('soil',),\n",
       " ('soil', 'agricultural'),\n",
       " ('soil', 'forestry'),\n",
       " ('soil', 'industrial'),\n",
       " ('water',),\n",
       " ('water', 'fossil well'),\n",
       " ('water', 'ground-'),\n",
       " ('water', 'ground-, long-term'),\n",
       " ('water', 'ocean'),\n",
       " ('water', 'surface water')}"
      ]
     },
     "execution_count": 61,
     "metadata": {},
     "output_type": "execute_result"
    }
   ],
   "source": [
    "bio3_categories"
   ]
  },
  {
   "cell_type": "code",
   "execution_count": 64,
   "metadata": {},
   "outputs": [
    {
     "data": {
      "text/plain": [
       "Databases dictionary with 2 object(s):\n",
       "\tbiosphere3\n",
       "\ttest_db2"
      ]
     },
     "execution_count": 64,
     "metadata": {},
     "output_type": "execute_result"
    }
   ],
   "source": [
    "bw2data.databases"
   ]
  },
  {
   "attachments": {},
   "cell_type": "markdown",
   "metadata": {},
   "source": [
    "relative frequency of each subcompartment use ?"
   ]
  },
  {
   "cell_type": "markdown",
   "metadata": {},
   "source": []
  }
 ],
 "metadata": {
  "kernelspec": {
   "display_name": "lca",
   "language": "python",
   "name": "python3"
  },
  "language_info": {
   "codemirror_mode": {
    "name": "ipython",
    "version": 3
   },
   "file_extension": ".py",
   "mimetype": "text/x-python",
   "name": "python",
   "nbconvert_exporter": "python",
   "pygments_lexer": "ipython3",
   "version": "3.9.13"
  },
  "orig_nbformat": 4,
  "vscode": {
   "interpreter": {
    "hash": "de431c6aac09989c6c1021845fa6ed3c0ed0893fd0b654e78c791a221de17bde"
   }
  }
 },
 "nbformat": 4,
 "nbformat_minor": 2
}
