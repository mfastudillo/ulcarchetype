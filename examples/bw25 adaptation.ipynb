{
 "cells": [
  {
   "cell_type": "code",
   "execution_count": 1,
   "metadata": {},
   "outputs": [],
   "source": [
    "from ulcarchetype import ulcarchetype\n",
    "import bw2data\n",
    "import bw2io"
   ]
  },
  {
   "cell_type": "code",
   "execution_count": 2,
   "metadata": {},
   "outputs": [],
   "source": [
    "bw2data.projects.set_current('uncertain archetype IV')"
   ]
  },
  {
   "cell_type": "markdown",
   "metadata": {},
   "source": [
    "configuration "
   ]
  },
  {
   "cell_type": "code",
   "execution_count": 3,
   "metadata": {},
   "outputs": [],
   "source": [
    "if 'biosphere3' not in bw2data.databases:\n",
    "    bw2io.bw2setup()"
   ]
  },
  {
   "cell_type": "markdown",
   "metadata": {},
   "source": [
    "test database"
   ]
  },
  {
   "cell_type": "code",
   "execution_count": 36,
   "metadata": {},
   "outputs": [],
   "source": [
    "# activity 1\n",
    "e1 = ('biosphere3', '051aaf7a-6c1a-4e86-999f-85d5f0830df6')\n",
    "act1_key=('test_db2','activity_1')\n",
    "# a unique emission of PM in an uncertain archetype\n",
    "biosphere_exchange_1={'amount':1,\n",
    "                     'input':e1,\n",
    "                     'output':act1_key,\n",
    "                     'type':'biosphere',\n",
    "                     'uncertainty type': 4, # uniform\n",
    "                     'minimum':1,\n",
    "                     'maximum':3}\n",
    "production_exchange_1={'amount':1,\n",
    "                     'input':act1_key,\n",
    "                     'output':act1_key,\n",
    "                     'type':'production',\n",
    "                     'uncertainty type':0}\n",
    "act_1_dict={'name':'test_activity_1',\n",
    " 'unit':'megajoule',\n",
    " 'exchanges':[production_exchange_1,biosphere_exchange_1]}\n",
    "# activity 2\n",
    "act2_key=('test_db2','activity_2')\n",
    "\n",
    "production_exchange_2={'amount':1,\n",
    "                     'input':act2_key,\n",
    "                     'output':act2_key,\n",
    "                     'type':'production',\n",
    "                     'uncertainty type':0}\n",
    "\n",
    "technosphere_exchange_1={\n",
    "    'amount':10, # or negative?\n",
    "    'input':act1_key,\n",
    "    'output':act2_key,\n",
    "    'type':'technosphere',\n",
    "    'uncertainty type':3,\n",
    "    'loc':10,\n",
    "    'scale':1,\n",
    "}\n",
    "# a unique emission of PM in an uncertain archetype\n",
    "biosphere_exchange_2={'amount':1,\n",
    "                     'input':e1,\n",
    "                     'output':act2_key,\n",
    "                     'type':'biosphere',\n",
    "                     'uncertainty type': 4, # uniform\n",
    "                     'minimum':1,\n",
    "                     'maximum':1.1}\n",
    "\n",
    "act_2_dict={'name':'test_activity_2','unit':'megajoule',\n",
    "            'exchanges':[production_exchange_2,\n",
    "            technosphere_exchange_1,\n",
    "            biosphere_exchange_2]}\n",
    "#act2_data={act2_key:act_2_dict}\n",
    "database_dict={act1_key:act_1_dict,\n",
    "               act2_key:act_2_dict}\n",
    "db=bw2data.Database('test_db2')\n",
    "db.write(database_dict)"
   ]
  },
  {
   "cell_type": "markdown",
   "metadata": {},
   "source": [
    "create a test method"
   ]
  },
  {
   "cell_type": "code",
   "execution_count": 52,
   "metadata": {},
   "outputs": [],
   "source": [
    "e1 = ('biosphere3', '051aaf7a-6c1a-4e86-999f-85d5f0830df6')\n",
    "e2 = ('biosphere3', 'ddd99a3a-be86-423d-b36a-a9dc8af1b1f8')\n",
    "e3 = ('biosphere3', '66f50b33-fd62-4fdd-a373-c5b0de7de00d')\n",
    "e4 = ('biosphere3', '21e46cb8-6233-4c99-bac3-c41d2ab99498')\n",
    "e5 = ('biosphere3', '230d8a0a-517c-43fe-8357-1818dd12997a')"
   ]
  },
  {
   "cell_type": "code",
   "execution_count": 54,
   "metadata": {},
   "outputs": [
    {
     "data": {
      "text/plain": [
       "'Particulates, < 2.5 um'"
      ]
     },
     "execution_count": 54,
     "metadata": {},
     "output_type": "execute_result"
    }
   ],
   "source": []
  },
  {
   "cell_type": "code",
   "execution_count": 58,
   "metadata": {},
   "outputs": [
    {
     "name": "stdout",
     "output_type": "stream",
     "text": [
      "Particulates, < 2.5 um ('air', 'low population density, long-term')\n",
      "Particulates, < 2.5 um ('air', 'lower stratosphere + upper troposphere')\n",
      "Particulates, < 2.5 um ('air', 'non-urban air or from high stacks')\n",
      "Particulates, < 2.5 um ('air',)\n",
      "Particulates, < 2.5 um ('air', 'urban air close to ground')\n"
     ]
    }
   ],
   "source": [
    "for e in [e1,e2,e3,e4,e5]:\n",
    "    emission = bw2data.get_activity(e)\n",
    "    print(emission['name'],emission['categories'])\n",
    "    \n",
    "cfs=[(e1,1),\n",
    "     (e2,1),\n",
    "     (e3,1),\n",
    "     (e4,10),#unspecified\n",
    "     (e5,10)]\n",
    "\n",
    "test_method_name_1=('test method','1 unspecified')\n",
    "\n",
    "test_method_1=bw2data.Method(test_method_name_1)\n",
    "\n",
    "metadata_test_method={\n",
    "'description':'method to test uncertainty on archetype',\n",
    "'unit':'DALY'}\n",
    "test_method_1.register(**metadata_test_method)"
   ]
  },
  {
   "cell_type": "code",
   "execution_count": 62,
   "metadata": {},
   "outputs": [],
   "source": [
    "test_method_1.write(cfs)"
   ]
  },
  {
   "cell_type": "code",
   "execution_count": 63,
   "metadata": {},
   "outputs": [],
   "source": [
    "## 0 unnespecified\n",
    "\n",
    "cfs=[(e1,1),\n",
    " (e2,1),\n",
    " (e3,1),\n",
    " #(e4,10),#unspecified\n",
    " (e5,10)]\n",
    "\n",
    "test_method_name_2=('test method','0 unspecified')\n",
    "\n",
    "test_method_2=bw2data.Method(test_method_name_2)\n",
    "\n",
    "metadata_test_method_2={'description':'method to test uncertainty on archetype',\n",
    " 'unit':'DALY'}\n",
    "\n",
    "test_method_2.register(**metadata_test_method_2)\n",
    "\n",
    "test_method_2.write(cfs)"
   ]
  },
  {
   "cell_type": "markdown",
   "metadata": {},
   "source": [
    "***"
   ]
  },
  {
   "cell_type": "code",
   "execution_count": 13,
   "metadata": {},
   "outputs": [],
   "source": [
    "method_rdm_name = bw2data.methods.random()"
   ]
  },
  {
   "cell_type": "code",
   "execution_count": 14,
   "metadata": {},
   "outputs": [],
   "source": [
    "method_rdm = bw2data.Method(method_rdm_name)"
   ]
  },
  {
   "cell_type": "code",
   "execution_count": 15,
   "metadata": {},
   "outputs": [],
   "source": [
    "method_reimplemented = ulcarchetype.LCIAMethod()"
   ]
  },
  {
   "cell_type": "code",
   "execution_count": 9,
   "metadata": {},
   "outputs": [
    {
     "data": {
      "text/plain": [
       "LCIAMethod(cfs=[])"
      ]
     },
     "execution_count": 9,
     "metadata": {},
     "output_type": "execute_result"
    }
   ],
   "source": [
    "method_reimplemented"
   ]
  },
  {
   "cell_type": "code",
   "execution_count": 16,
   "metadata": {},
   "outputs": [],
   "source": [
    "method_reimplemented.transform_method2(method=method_rdm)"
   ]
  },
  {
   "cell_type": "code",
   "execution_count": 18,
   "metadata": {},
   "outputs": [
    {
     "data": {
      "text/plain": [
       "CharacterisationFactor(database='biosphere3', code='9dd01d5b-3677-4822-9cd4-36d21b0e23d1', name='1-Pentanol', unit='kilogram', directionality='emission', context=['air', 'low population density', ' long-term'], value=0.2, values_possible=[{'value': 0.2, 'freq': 0.25}], level=3, uncertainty_param={})"
      ]
     },
     "execution_count": 18,
     "metadata": {},
     "output_type": "execute_result"
    }
   ],
   "source": [
    "method_reimplemented.cfs[0]"
   ]
  },
  {
   "cell_type": "code",
   "execution_count": 24,
   "metadata": {},
   "outputs": [],
   "source": [
    "method_reimplemented.set_uncertainty_type(4)"
   ]
  },
  {
   "cell_type": "code",
   "execution_count": 25,
   "metadata": {},
   "outputs": [
    {
     "data": {
      "text/plain": [
       "CharacterisationFactor(database='biosphere3', code='9dd01d5b-3677-4822-9cd4-36d21b0e23d1', name='1-Pentanol', unit='kilogram', directionality='emission', context=['air', 'low population density', ' long-term'], value=0.2, values_possible=[{'value': 0.2, 'freq': 0.25}], level=3, uncertainty_param={})"
      ]
     },
     "execution_count": 25,
     "metadata": {},
     "output_type": "execute_result"
    }
   ],
   "source": [
    "method_reimplemented.cfs[0]"
   ]
  },
  {
   "cell_type": "code",
   "execution_count": 27,
   "metadata": {},
   "outputs": [],
   "source": [
    "cfs_list = method_reimplemented.build_cf_list()"
   ]
  },
  {
   "cell_type": "code",
   "execution_count": 30,
   "metadata": {},
   "outputs": [],
   "source": [
    "for cf_key,cf_value in cfs_list:\n",
    "    if isinstance(cf_value,float) is False:\n",
    "        break\n"
   ]
  },
  {
   "cell_type": "code",
   "execution_count": 32,
   "metadata": {},
   "outputs": [],
   "source": [
    "cf_list_uncertain = [cf for cf in cfs_list if isinstance(cf[1],dict)]"
   ]
  },
  {
   "cell_type": "code",
   "execution_count": 35,
   "metadata": {},
   "outputs": [
    {
     "data": {
      "text/plain": [
       "(('biosphere3', 'ec9b8886-22ef-452b-9347-88dd1ab3a6a5'),\n",
       " {'uncertainty type': 4,\n",
       "  'minimum': 0.69002,\n",
       "  'maximum': 0.69002,\n",
       "  'amount': 0.69002,\n",
       "  'loc': 0.69002,\n",
       "  'scale': 0.0})"
      ]
     },
     "execution_count": 35,
     "metadata": {},
     "output_type": "execute_result"
    }
   ],
   "source": [
    "cf_list_uncertain[2]"
   ]
  },
  {
   "cell_type": "code",
   "execution_count": null,
   "metadata": {},
   "outputs": [],
   "source": []
  }
 ],
 "metadata": {
  "interpreter": {
   "hash": "488e128655bbf7bcd346aeafb90f631286011da7a4b6b788e201898f52d3f0d6"
  },
  "kernelspec": {
   "display_name": "Python 3.9.7 64-bit ('bw25': conda)",
   "language": "python",
   "name": "python3"
  },
  "language_info": {
   "codemirror_mode": {
    "name": "ipython",
    "version": 3
   },
   "file_extension": ".py",
   "mimetype": "text/x-python",
   "name": "python",
   "nbconvert_exporter": "python",
   "pygments_lexer": "ipython3",
   "version": "3.9.7"
  },
  "orig_nbformat": 4
 },
 "nbformat": 4,
 "nbformat_minor": 2
}
