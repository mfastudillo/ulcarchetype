{
 "cells": [
  {
   "cell_type": "code",
   "execution_count": 1,
   "metadata": {},
   "outputs": [],
   "source": [
    "import bw2data as bwd\n",
    "import bw2calc as bwc\n",
    "import matplotlib.pyplot as plt\n",
    "from ulcarchetype.ulcarchetype import LCIAMethod\n",
    "import statistics\n",
    "import stats_arrays\n",
    "import pandas as pd\n",
    "import numpy as np"
   ]
  },
  {
   "cell_type": "code",
   "execution_count": 2,
   "metadata": {},
   "outputs": [],
   "source": [
    "from bw2calc.monte_carlo import MonteCarloLCA"
   ]
  },
  {
   "cell_type": "code",
   "execution_count": 3,
   "metadata": {},
   "outputs": [],
   "source": [
    "bwd.projects.set_current('test_ulcarchetype')"
   ]
  },
  {
   "cell_type": "code",
   "execution_count": 4,
   "metadata": {},
   "outputs": [],
   "source": [
    "testdb = bwd.Database('test_db')\n",
    "act2 = testdb.get('activity_2')\n",
    "act1 = testdb.get('activity_1')"
   ]
  },
  {
   "cell_type": "code",
   "execution_count": 5,
   "metadata": {},
   "outputs": [
    {
     "data": {
      "text/plain": [
       "Brightway2 Method: test method: 1 unspecified"
      ]
     },
     "execution_count": 5,
     "metadata": {},
     "output_type": "execute_result"
    }
   ],
   "source": [
    "m = bwd.Method(('test method','1 unspecified'))\n",
    "m"
   ]
  },
  {
   "cell_type": "code",
   "execution_count": 6,
   "metadata": {},
   "outputs": [
    {
     "name": "stdout",
     "output_type": "stream",
     "text": [
      "'Particulate Matter, < 2.5 um' (kilogram, None, ('air', 'low population density, long-term')) 1\n",
      "'Particulate Matter, < 2.5 um' (kilogram, None, ('air', 'lower stratosphere + upper troposphere')) 1\n",
      "'Particulate Matter, < 2.5 um' (kilogram, None, ('air', 'non-urban air or from high stacks')) 1\n",
      "'Particulate Matter, < 2.5 um' (kilogram, None, ('air',)) 10\n",
      "'Particulate Matter, < 2.5 um' (kilogram, None, ('air', 'urban air close to ground')) 10\n"
     ]
    }
   ],
   "source": [
    "for k,v in m.load():\n",
    "    f = bwd.get_activity(k)\n",
    "    print(f,v)"
   ]
  },
  {
   "cell_type": "markdown",
   "metadata": {},
   "source": [
    "define uncertain impact assessment methods"
   ]
  },
  {
   "cell_type": "markdown",
   "metadata": {},
   "source": [
    "### uniform"
   ]
  },
  {
   "cell_type": "code",
   "execution_count": 7,
   "metadata": {},
   "outputs": [],
   "source": [
    "testmethod_u = LCIAMethod()\n",
    "testmethod_u.transform_method(m)\n",
    "testmethod_u.set_uncertainty_type(4)"
   ]
  },
  {
   "cell_type": "code",
   "execution_count": 8,
   "metadata": {},
   "outputs": [
    {
     "data": {
      "text/plain": [
       "[(('biosphere3', '051aaf7a-6c1a-4e86-999f-85d5f0830df6'), 1),\n",
       " (('biosphere3', 'ddd99a3a-be86-423d-b36a-a9dc8af1b1f8'), 1),\n",
       " (('biosphere3', '66f50b33-fd62-4fdd-a373-c5b0de7de00d'), 1),\n",
       " (('biosphere3', '21e46cb8-6233-4c99-bac3-c41d2ab99498'),\n",
       "  {'uncertainty type': 4,\n",
       "   'minimum': 1,\n",
       "   'maximum': 10,\n",
       "   'amount': 10,\n",
       "   'loc': 5.5}),\n",
       " (('biosphere3', '230d8a0a-517c-43fe-8357-1818dd12997a'), 10)]"
      ]
     },
     "execution_count": 8,
     "metadata": {},
     "output_type": "execute_result"
    }
   ],
   "source": [
    "testmethod_u.build_cf_list()"
   ]
  },
  {
   "cell_type": "markdown",
   "metadata": {},
   "source": [
    "***"
   ]
  },
  {
   "cell_type": "code",
   "execution_count": 9,
   "metadata": {},
   "outputs": [],
   "source": [
    "new_method_name=('test method','1 unspecified','uncertain','uniform','v2')"
   ]
  },
  {
   "cell_type": "code",
   "execution_count": 10,
   "metadata": {},
   "outputs": [],
   "source": [
    "metadata_test_method={'description':'method to test uncertainty on archetype using dataclasses',\n",
    "                      'unit':'DALY'}"
   ]
  },
  {
   "cell_type": "markdown",
   "metadata": {},
   "source": [
    "instantiate a new bw method, store the metadata"
   ]
  },
  {
   "cell_type": "code",
   "execution_count": 11,
   "metadata": {},
   "outputs": [],
   "source": [
    "new_method = bwd.Method(new_method_name)"
   ]
  },
  {
   "cell_type": "code",
   "execution_count": 12,
   "metadata": {},
   "outputs": [],
   "source": [
    "new_method.register(**metadata_test_method)"
   ]
  },
  {
   "cell_type": "code",
   "execution_count": 13,
   "metadata": {},
   "outputs": [],
   "source": [
    "new_method.write(testmethod_u.build_cf_list())"
   ]
  },
  {
   "cell_type": "code",
   "execution_count": 14,
   "metadata": {},
   "outputs": [
    {
     "data": {
      "text/plain": [
       "100.0"
      ]
     },
     "execution_count": 14,
     "metadata": {},
     "output_type": "execute_result"
    }
   ],
   "source": [
    "lca = bwc.LCA({act2:1},\n",
    "             method=('test method','1 unspecified','uncertain','uniform','v2'))\n",
    "\n",
    "lca.lci()\n",
    "lca.lcia()\n",
    "lca.score"
   ]
  },
  {
   "cell_type": "code",
   "execution_count": 15,
   "metadata": {},
   "outputs": [
    {
     "data": {
      "text/plain": [
       "100.0"
      ]
     },
     "execution_count": 15,
     "metadata": {},
     "output_type": "execute_result"
    }
   ],
   "source": [
    "next(lca)\n",
    "lca.score"
   ]
  },
  {
   "cell_type": "code",
   "execution_count": 16,
   "metadata": {},
   "outputs": [],
   "source": [
    "mc_u = MonteCarloLCA({act2:1},\n",
    "             method=('test method','1 unspecified','uncertain','uniform','v2'))"
   ]
  },
  {
   "cell_type": "code",
   "execution_count": 17,
   "metadata": {},
   "outputs": [],
   "source": [
    "mc_u.lci()\n",
    "mc_u.lcia()\n",
    "next(mc_u)\n",
    "\n",
    "results_uncertain_u = []\n",
    "for _ in range(1000):\n",
    "    next(mc_u)\n",
    "    results_uncertain_u.append(mc_u.score)"
   ]
  },
  {
   "cell_type": "code",
   "execution_count": 18,
   "metadata": {},
   "outputs": [
    {
     "data": {
      "image/png": "[encoded data removed]",
      "text/plain": [
       "<Figure size 640x480 with 1 Axes>"
      ]
     },
     "metadata": {},
     "output_type": "display_data"
    }
   ],
   "source": [
    "_ = plt.hist(results_uncertain_u);"
   ]
  },
  {
   "cell_type": "markdown",
   "metadata": {},
   "source": [
    "## triangular"
   ]
  },
  {
   "cell_type": "code",
   "execution_count": 19,
   "metadata": {},
   "outputs": [],
   "source": [
    "testmethod_t = LCIAMethod()\n",
    "testmethod_t.transform_method(m)\n",
    "testmethod_t.set_uncertainty_type(5)"
   ]
  },
  {
   "cell_type": "code",
   "execution_count": 20,
   "metadata": {},
   "outputs": [
    {
     "data": {
      "text/plain": [
       "[(('biosphere3', '051aaf7a-6c1a-4e86-999f-85d5f0830df6'), 1),\n",
       " (('biosphere3', 'ddd99a3a-be86-423d-b36a-a9dc8af1b1f8'), 1),\n",
       " (('biosphere3', '66f50b33-fd62-4fdd-a373-c5b0de7de00d'), 1),\n",
       " (('biosphere3', '21e46cb8-6233-4c99-bac3-c41d2ab99498'),\n",
       "  {'uncertainty type': 5,\n",
       "   'minimum': 1,\n",
       "   'maximum': 10,\n",
       "   'amount': 10,\n",
       "   'loc': 5.5}),\n",
       " (('biosphere3', '230d8a0a-517c-43fe-8357-1818dd12997a'), 10)]"
      ]
     },
     "execution_count": 20,
     "metadata": {},
     "output_type": "execute_result"
    }
   ],
   "source": [
    "testmethod_t.build_cf_list()"
   ]
  },
  {
   "cell_type": "code",
   "execution_count": 21,
   "metadata": {},
   "outputs": [],
   "source": [
    "new_method_name_t=('test method','1 unspecified','uncertain','triangular','v2')"
   ]
  },
  {
   "cell_type": "code",
   "execution_count": 22,
   "metadata": {},
   "outputs": [],
   "source": [
    "metadata_test_method={'description':'method to test uncertainty on archetype using dataclasses',\n",
    "                      'unit':'DALY'}"
   ]
  },
  {
   "cell_type": "markdown",
   "metadata": {},
   "source": [
    "instantiate a new bw method, store the metadata"
   ]
  },
  {
   "cell_type": "code",
   "execution_count": 23,
   "metadata": {},
   "outputs": [],
   "source": [
    "new_method = bwd.Method(new_method_name_t)"
   ]
  },
  {
   "cell_type": "code",
   "execution_count": 24,
   "metadata": {},
   "outputs": [],
   "source": [
    "new_method.register(**metadata_test_method)"
   ]
  },
  {
   "cell_type": "code",
   "execution_count": 25,
   "metadata": {},
   "outputs": [],
   "source": [
    "new_method.write(testmethod_t.build_cf_list())"
   ]
  },
  {
   "cell_type": "markdown",
   "metadata": {},
   "source": [
    "___"
   ]
  },
  {
   "cell_type": "code",
   "execution_count": 26,
   "metadata": {},
   "outputs": [
    {
     "data": {
      "text/plain": [
       "100.0"
      ]
     },
     "execution_count": 26,
     "metadata": {},
     "output_type": "execute_result"
    }
   ],
   "source": [
    "lca = bwc.LCA({act2:1},\n",
    "             method=('test method','1 unspecified','uncertain','triangular','v2'))\n",
    "\n",
    "lca.lci()\n",
    "lca.lcia()\n",
    "lca.score"
   ]
  },
  {
   "cell_type": "code",
   "execution_count": 27,
   "metadata": {},
   "outputs": [],
   "source": [
    "mc_t = bwc.monte_carlo.MonteCarloLCA({act2:1},method=('test method','1 unspecified','uncertain','triangular','v2'))\n",
    "mc_t.lci()\n",
    "mc_t.lcia()\n",
    "next(mc_t)\n",
    "\n",
    "results_uncertain_t = []\n",
    "for _ in range(1000):\n",
    "    next(mc_t)\n",
    "    results_uncertain_t.append(mc_t.score)"
   ]
  },
  {
   "cell_type": "markdown",
   "metadata": {},
   "source": [
    "## normal (truncated)"
   ]
  },
  {
   "cell_type": "code",
   "execution_count": 28,
   "metadata": {},
   "outputs": [],
   "source": [
    "testmethod_norm = LCIAMethod()\n",
    "testmethod_norm.transform_method(m)\n",
    "testmethod_norm.set_uncertainty_type(3)"
   ]
  },
  {
   "cell_type": "code",
   "execution_count": 29,
   "metadata": {},
   "outputs": [],
   "source": [
    "for cf in testmethod_norm.cfs:\n",
    "    if cf.uncertainty_param != {}:\n",
    "        cf.uncertainty_param['scale']= statistics.stdev(cf.values_possible)"
   ]
  },
  {
   "cell_type": "code",
   "execution_count": 30,
   "metadata": {},
   "outputs": [
    {
     "data": {
      "text/plain": [
       "[(('biosphere3', '051aaf7a-6c1a-4e86-999f-85d5f0830df6'), 1),\n",
       " (('biosphere3', 'ddd99a3a-be86-423d-b36a-a9dc8af1b1f8'), 1),\n",
       " (('biosphere3', '66f50b33-fd62-4fdd-a373-c5b0de7de00d'), 1),\n",
       " (('biosphere3', '21e46cb8-6233-4c99-bac3-c41d2ab99498'),\n",
       "  {'uncertainty type': 3,\n",
       "   'minimum': 1,\n",
       "   'maximum': 10,\n",
       "   'amount': 10,\n",
       "   'loc': 5.5,\n",
       "   'scale': 6.363961030678928}),\n",
       " (('biosphere3', '230d8a0a-517c-43fe-8357-1818dd12997a'), 10)]"
      ]
     },
     "execution_count": 30,
     "metadata": {},
     "output_type": "execute_result"
    }
   ],
   "source": [
    "testmethod_norm.build_cf_list()"
   ]
  },
  {
   "cell_type": "code",
   "execution_count": 31,
   "metadata": {},
   "outputs": [],
   "source": [
    "new_method_name_n=('test method','1 unspecified','uncertain','normal','v2')"
   ]
  },
  {
   "cell_type": "code",
   "execution_count": 32,
   "metadata": {},
   "outputs": [],
   "source": [
    "new_method = bwd.Method(new_method_name_n)"
   ]
  },
  {
   "cell_type": "code",
   "execution_count": 33,
   "metadata": {},
   "outputs": [],
   "source": [
    "new_method.register(**metadata_test_method)"
   ]
  },
  {
   "cell_type": "code",
   "execution_count": 34,
   "metadata": {},
   "outputs": [],
   "source": [
    "new_method.write(testmethod_norm.build_cf_list())"
   ]
  },
  {
   "cell_type": "code",
   "execution_count": null,
   "metadata": {},
   "outputs": [],
   "source": []
  },
  {
   "cell_type": "code",
   "execution_count": 35,
   "metadata": {},
   "outputs": [],
   "source": [
    "mc_n = bwc.monte_carlo.MonteCarloLCA({act2:1},method=('test method','1 unspecified','uncertain','normal','v2'))\n",
    "mc_n.lci()\n",
    "mc_n.lcia()\n",
    "next(mc_n)\n",
    "\n",
    "results_uncertain_n = []\n",
    "for _ in range(1000):\n",
    "    next(mc_n)\n",
    "    results_uncertain_n.append(mc_n.score)"
   ]
  },
  {
   "cell_type": "code",
   "execution_count": 36,
   "metadata": {},
   "outputs": [
    {
     "data": {
      "text/plain": [
       "[(('biosphere3', '051aaf7a-6c1a-4e86-999f-85d5f0830df6'), 1),\n",
       " (('biosphere3', 'ddd99a3a-be86-423d-b36a-a9dc8af1b1f8'), 1),\n",
       " (('biosphere3', '66f50b33-fd62-4fdd-a373-c5b0de7de00d'), 1),\n",
       " (('biosphere3', '21e46cb8-6233-4c99-bac3-c41d2ab99498'),\n",
       "  {'uncertainty type': 3,\n",
       "   'minimum': 1,\n",
       "   'maximum': 10,\n",
       "   'amount': 10,\n",
       "   'loc': 5.5,\n",
       "   'scale': 6.363961030678928}),\n",
       " (('biosphere3', '230d8a0a-517c-43fe-8357-1818dd12997a'), 10)]"
      ]
     },
     "execution_count": 36,
     "metadata": {},
     "output_type": "execute_result"
    }
   ],
   "source": [
    "bwd.Method(('test method','1 unspecified','uncertain','normal','v2')).load()"
   ]
  },
  {
   "cell_type": "markdown",
   "metadata": {},
   "source": [
    "### reference case"
   ]
  },
  {
   "cell_type": "code",
   "execution_count": 37,
   "metadata": {},
   "outputs": [],
   "source": [
    "mc_ref = bwc.monte_carlo.MonteCarloLCA({act2:1},method=('test method','1 unspecified'))\n",
    "mc_ref.lci()\n",
    "mc_ref.lcia()\n",
    "next(mc_ref)\n",
    "\n",
    "results_ref = []\n",
    "for _ in range(1000):\n",
    "    next(mc_ref)\n",
    "    results_ref.append(mc_ref.score)"
   ]
  },
  {
   "cell_type": "markdown",
   "metadata": {},
   "source": [
    "## plot"
   ]
  },
  {
   "cell_type": "markdown",
   "metadata": {},
   "source": [
    "in the deterministic case the only observed uncertainty is from technosphere flows. when uncertainty of CFs is considered the score is more uncertain"
   ]
  },
  {
   "cell_type": "code",
   "execution_count": 39,
   "metadata": {},
   "outputs": [
    {
     "data": {
      "image/png": "[encoded data removed]",
      "text/plain": [
       "<Figure size 640x480 with 1 Axes>"
      ]
     },
     "metadata": {},
     "output_type": "display_data"
    }
   ],
   "source": [
    "plt.hist(results_ref,density=True,alpha=0.5,label='deterministic CF',bins=50);\n",
    "plt.hist(results_uncertain_u,density=True,alpha=0.5,label='uniform CF',bins=50);\n",
    "plt.hist(results_uncertain_t,density=True,alpha=0.5,label='triangular CF',bins=50);\n",
    "plt.hist(results_uncertain_n,density=True,alpha=0.5,label='normal (truncated) CF',bins=50);\n",
    "plt.legend();\n",
    "plt.xlabel('lcia score');"
   ]
  },
  {
   "cell_type": "markdown",
   "metadata": {},
   "source": [
    "the acvity 1 does not have uncertain technosphere flows. we can use it to check the shape of the underlying probability distribution"
   ]
  },
  {
   "cell_type": "code",
   "execution_count": 41,
   "metadata": {},
   "outputs": [],
   "source": [
    "mc_n_act1 = bwc.monte_carlo.MonteCarloLCA({act1:1},method=('test method','1 unspecified','uncertain','normal','v2'))"
   ]
  },
  {
   "cell_type": "code",
   "execution_count": 42,
   "metadata": {},
   "outputs": [],
   "source": [
    "mc_t_act1 = bwc.monte_carlo.MonteCarloLCA({act1:1},method=('test method','1 unspecified','uncertain','triangular','v2'))"
   ]
  },
  {
   "cell_type": "code",
   "execution_count": 43,
   "metadata": {},
   "outputs": [],
   "source": [
    "results_uncertain_n_act1 = [next(mc_n_act1) for _ in range(0,6000)]"
   ]
  },
  {
   "cell_type": "code",
   "execution_count": 44,
   "metadata": {},
   "outputs": [],
   "source": [
    "results_uncertain_t_act1 = [next(mc_t_act1) for _ in range(0,6000)]"
   ]
  },
  {
   "cell_type": "code",
   "execution_count": 45,
   "metadata": {},
   "outputs": [
    {
     "data": {
      "image/png": "[encoded data removed]",
      "text/plain": [
       "<Figure size 432x288 with 1 Axes>"
      ]
     },
     "metadata": {
      "needs_background": "light"
     },
     "output_type": "display_data"
    }
   ],
   "source": [
    "plt.hist(results_uncertain_t_act1,density=True,alpha=0.5,label='triangular CF',bins=50);"
   ]
  },
  {
   "cell_type": "code",
   "execution_count": 46,
   "metadata": {},
   "outputs": [
    {
     "data": {
      "image/png": "[encoded data removed]",
      "text/plain": [
       "<Figure size 432x288 with 1 Axes>"
      ]
     },
     "metadata": {
      "needs_background": "light"
     },
     "output_type": "display_data"
    }
   ],
   "source": [
    "plt.hist(results_uncertain_n_act1,density=True,alpha=0.5,label='normal truncated CF',bins=50);\n",
    "plt.legend();"
   ]
  },
  {
   "cell_type": "markdown",
   "metadata": {},
   "source": [
    "although the results do not look gaussian bear in mind that it is a truncated normal. If we plot the truncated vs non-truncated this becomes apparent"
   ]
  },
  {
   "cell_type": "code",
   "execution_count": 47,
   "metadata": {},
   "outputs": [
    {
     "data": {
      "text/plain": [
       "{'uncertainty type': 3,\n",
       " 'minimum': 1,\n",
       " 'maximum': 10,\n",
       " 'amount': 10,\n",
       " 'loc': 5.5,\n",
       " 'scale': 6.363961030678928}"
      ]
     },
     "execution_count": 47,
     "metadata": {},
     "output_type": "execute_result"
    }
   ],
   "source": [
    "uncertain_cf = [cf for code,cf in bw.Method(('test method','1 unspecified','uncertain','normal','v2')).load() if isinstance(cf,dict)][0]\n",
    "uncertain_cf"
   ]
  },
  {
   "cell_type": "code",
   "execution_count": 48,
   "metadata": {},
   "outputs": [],
   "source": [
    "uncertain_cf_nontruncated = uncertain_cf.copy()\n",
    "uncertain_cf_nontruncated['minimum']=np.nan\n",
    "uncertain_cf_nontruncated['maximum']=np.nan"
   ]
  },
  {
   "cell_type": "code",
   "execution_count": 49,
   "metadata": {},
   "outputs": [],
   "source": [
    "uncertain_variable1 = stats_arrays.UncertaintyBase.from_dicts(uncertain_cf,uncertain_cf_nontruncated)"
   ]
  },
  {
   "cell_type": "code",
   "execution_count": 50,
   "metadata": {},
   "outputs": [],
   "source": [
    "df = pd.DataFrame([next(stats_arrays.MCRandomNumberGenerator(uncertain_variable1)) for _ in range(1000)],\n",
    "                  columns=['normal truncated','normal non-truncated'])"
   ]
  },
  {
   "cell_type": "code",
   "execution_count": 51,
   "metadata": {},
   "outputs": [
    {
     "data": {
      "image/png": "[encoded data removed]",
      "text/plain": [
       "<Figure size 432x288 with 2 Axes>"
      ]
     },
     "metadata": {
      "needs_background": "light"
     },
     "output_type": "display_data"
    }
   ],
   "source": [
    "df.hist(sharex=True,grid=False,layout=(2,1),bins=20);"
   ]
  },
  {
   "cell_type": "markdown",
   "metadata": {},
   "source": [
    "for the moment if we try to transform a method that already has uncertain cf a ValueError is raised"
   ]
  },
  {
   "cell_type": "code",
   "execution_count": 54,
   "metadata": {},
   "outputs": [
    {
     "name": "stdout",
     "output_type": "stream",
     "text": [
      "for the moment uncertain CF are not supported {'uncertainty type': 3, 'minimum': 1, 'maximum': 10, 'amount': 10, 'loc': 5.5, 'scale': 6.363961030678928}\n"
     ]
    }
   ],
   "source": [
    "test_test = LCIAMethod()\n",
    "try:\n",
    "    test_test.transform_method(bw.Method(('test method','1 unspecified','uncertain','normal','v2')))\n",
    "except ValueError as ve:\n",
    "    print(ve)\n"
   ]
  },
  {
   "cell_type": "code",
   "execution_count": null,
   "metadata": {},
   "outputs": [],
   "source": []
  }
 ],
 "metadata": {
  "kernelspec": {
   "display_name": "ds",
   "language": "python",
   "name": "python3"
  },
  "language_info": {
   "codemirror_mode": {
    "name": "ipython",
    "version": 3
   },
   "file_extension": ".py",
   "mimetype": "text/x-python",
   "name": "python",
   "nbconvert_exporter": "python",
   "pygments_lexer": "ipython3",
   "version": "3.11.0"
  },
  "vscode": {
   "interpreter": {
    "hash": "7cd394071a58d2b701fc2eb5d34bb6035414468341369599f5330d5d5c96fcbe"
   }
  }
 },
 "nbformat": 4,
 "nbformat_minor": 4
}
