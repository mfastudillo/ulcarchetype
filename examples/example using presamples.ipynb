{
 "cells": [
  {
   "cell_type": "markdown",
   "metadata": {},
   "source": [
    "# Uncertain CF with a discrete probability distribution\n",
    "\n",
    "This notebook exemplifies how to account for the archetype uncertainty with discrete probability distributions using the library _presamples_. A similar procedure could be used to integrate other sources of uncertainty."
   ]
  },
  {
   "cell_type": "code",
   "execution_count": 73,
   "metadata": {},
   "outputs": [],
   "source": [
    "import brightway2 as bw\n",
    "import presamples as ps\n",
    "import pandas as pd\n",
    "import numpy as np\n",
    "import random\n",
    "import scipy\n",
    "import pyprind\n",
    "import seaborn as sns\n",
    "import matplotlib.pyplot as plt\n",
    "from ulcarchetype.utils import get_cf_info\n",
    "from ulcarchetype.utils import minmax_archetype"
   ]
  },
  {
   "cell_type": "markdown",
   "metadata": {},
   "source": [
    "we need a project with ecoinvent, since we're using an ecoinvent activity for the example. "
   ]
  },
  {
   "cell_type": "code",
   "execution_count": 3,
   "metadata": {},
   "outputs": [],
   "source": [
    "bw.projects.set_current('uncertain archetype III')"
   ]
  },
  {
   "cell_type": "code",
   "execution_count": 4,
   "metadata": {},
   "outputs": [],
   "source": [
    "assert 'biosphere3' in bw.databases"
   ]
  },
  {
   "cell_type": "markdown",
   "metadata": {},
   "source": [
    "lets create some samples"
   ]
  },
  {
   "cell_type": "markdown",
   "metadata": {},
   "source": [
    "### find elementary flows used in ecoinvent.\n",
    "\n",
    "At the time this was written, presamples breaks if you use elementary flows that are not in the database you are exploring. "
   ]
  },
  {
   "cell_type": "code",
   "execution_count": 9,
   "metadata": {},
   "outputs": [],
   "source": [
    "ecoinvent_act = bw.Database('ei_36con').random()\n",
    "ecoinvent_lca = bw.LCA({ecoinvent_act:1})\n",
    "ecoinvent_lca.lci()"
   ]
  },
  {
   "cell_type": "code",
   "execution_count": 10,
   "metadata": {},
   "outputs": [],
   "source": [
    "ecoinvent_elementary_flows = [code for database,code in ecoinvent_lca.biosphere_dict]"
   ]
  },
  {
   "cell_type": "markdown",
   "metadata": {},
   "source": [
    "## creating samples for _presamples_\n"
   ]
  },
  {
   "cell_type": "code",
   "execution_count": 8,
   "metadata": {},
   "outputs": [],
   "source": [
    "resp_inorg_deterministic = ('ILCD 2.0 2018 midpoint', 'human health', 'respiratory effects, inorganics')"
   ]
  },
  {
   "cell_type": "code",
   "execution_count": 21,
   "metadata": {},
   "outputs": [],
   "source": [
    "nsamples=5000"
   ]
  },
  {
   "cell_type": "markdown",
   "metadata": {},
   "source": [
    "To avoid a computing error we need to erase from our samples the cases that are not present in the database being tested (ecoinvent)"
   ]
  },
  {
   "cell_type": "code",
   "execution_count": 11,
   "metadata": {},
   "outputs": [],
   "source": [
    "# get method cf\n",
    "cf_df = get_cf_info(resp_inorg_deterministic)"
   ]
  },
  {
   "cell_type": "code",
   "execution_count": 12,
   "metadata": {},
   "outputs": [
    {
     "data": {
      "text/html": [
       "<div>\n",
       "<style scoped>\n",
       "    .dataframe tbody tr th:only-of-type {\n",
       "        vertical-align: middle;\n",
       "    }\n",
       "\n",
       "    .dataframe tbody tr th {\n",
       "        vertical-align: top;\n",
       "    }\n",
       "\n",
       "    .dataframe thead th {\n",
       "        text-align: right;\n",
       "    }\n",
       "</style>\n",
       "<table border=\"1\" class=\"dataframe\">\n",
       "  <thead>\n",
       "    <tr style=\"text-align: right;\">\n",
       "      <th></th>\n",
       "      <th>database</th>\n",
       "      <th>code</th>\n",
       "      <th>name</th>\n",
       "      <th>amount</th>\n",
       "      <th>unit</th>\n",
       "      <th>type</th>\n",
       "      <th>compartment</th>\n",
       "      <th>subcompartment</th>\n",
       "    </tr>\n",
       "  </thead>\n",
       "  <tbody>\n",
       "    <tr>\n",
       "      <th>21</th>\n",
       "      <td>biosphere3</td>\n",
       "      <td>3268d8df-59cc-4740-a89f-dee8355ad7c3</td>\n",
       "      <td>Sulfur trioxide</td>\n",
       "      <td>0.000008</td>\n",
       "      <td>kilogram</td>\n",
       "      <td>emission</td>\n",
       "      <td>air</td>\n",
       "      <td>None</td>\n",
       "    </tr>\n",
       "    <tr>\n",
       "      <th>0</th>\n",
       "      <td>biosphere3</td>\n",
       "      <td>2b50f643-216a-412b-a0e5-5946867aa2ed</td>\n",
       "      <td>Ammonia</td>\n",
       "      <td>0.000021</td>\n",
       "      <td>kilogram</td>\n",
       "      <td>emission</td>\n",
       "      <td>air</td>\n",
       "      <td>low population density, long-term</td>\n",
       "    </tr>\n",
       "    <tr>\n",
       "      <th>16</th>\n",
       "      <td>biosphere3</td>\n",
       "      <td>fd7aa71c-508c-480d-81a6-8052aad92646</td>\n",
       "      <td>Sulfur dioxide</td>\n",
       "      <td>0.000008</td>\n",
       "      <td>kilogram</td>\n",
       "      <td>emission</td>\n",
       "      <td>air</td>\n",
       "      <td>None</td>\n",
       "    </tr>\n",
       "  </tbody>\n",
       "</table>\n",
       "</div>"
      ],
      "text/plain": [
       "      database                                  code             name  \\\n",
       "21  biosphere3  3268d8df-59cc-4740-a89f-dee8355ad7c3  Sulfur trioxide   \n",
       "0   biosphere3  2b50f643-216a-412b-a0e5-5946867aa2ed          Ammonia   \n",
       "16  biosphere3  fd7aa71c-508c-480d-81a6-8052aad92646   Sulfur dioxide   \n",
       "\n",
       "      amount      unit      type compartment  \\\n",
       "21  0.000008  kilogram  emission         air   \n",
       "0   0.000021  kilogram  emission         air   \n",
       "16  0.000008  kilogram  emission         air   \n",
       "\n",
       "                       subcompartment  \n",
       "21                               None  \n",
       "0   low population density, long-term  \n",
       "16                               None  "
      ]
     },
     "execution_count": 12,
     "metadata": {},
     "output_type": "execute_result"
    }
   ],
   "source": [
    "cf_df.sample(3)"
   ]
  },
  {
   "cell_type": "code",
   "execution_count": 13,
   "metadata": {},
   "outputs": [
    {
     "data": {
      "text/plain": [
       "23"
      ]
     },
     "execution_count": 13,
     "metadata": {},
     "output_type": "execute_result"
    }
   ],
   "source": [
    "len(cf_df)"
   ]
  },
  {
   "cell_type": "code",
   "execution_count": null,
   "metadata": {},
   "outputs": [],
   "source": [
    "# filter out those not present in ecoinvent"
   ]
  },
  {
   "cell_type": "code",
   "execution_count": 14,
   "metadata": {},
   "outputs": [],
   "source": [
    "cf_df = cf_df[cf_df.code.isin(ecoinvent_elementary_flows)]"
   ]
  },
  {
   "cell_type": "code",
   "execution_count": 15,
   "metadata": {},
   "outputs": [
    {
     "data": {
      "text/plain": [
       "21"
      ]
     },
     "execution_count": 15,
     "metadata": {},
     "output_type": "execute_result"
    }
   ],
   "source": [
    "len(cf_df)"
   ]
  },
  {
   "cell_type": "code",
   "execution_count": 17,
   "metadata": {},
   "outputs": [],
   "source": [
    "cf_range = minmax_archetype(cf_df)"
   ]
  },
  {
   "cell_type": "code",
   "execution_count": 112,
   "metadata": {},
   "outputs": [
    {
     "data": {
      "text/html": [
       "<div>\n",
       "<style scoped>\n",
       "    .dataframe tbody tr th:only-of-type {\n",
       "        vertical-align: middle;\n",
       "    }\n",
       "\n",
       "    .dataframe tbody tr th {\n",
       "        vertical-align: top;\n",
       "    }\n",
       "\n",
       "    .dataframe thead th {\n",
       "        text-align: right;\n",
       "    }\n",
       "</style>\n",
       "<table border=\"1\" class=\"dataframe\">\n",
       "  <thead>\n",
       "    <tr style=\"text-align: right;\">\n",
       "      <th></th>\n",
       "      <th>code</th>\n",
       "      <th>name</th>\n",
       "      <th>amount</th>\n",
       "      <th>minimum</th>\n",
       "      <th>maximum</th>\n",
       "      <th>compartment</th>\n",
       "    </tr>\n",
       "  </thead>\n",
       "  <tbody>\n",
       "    <tr>\n",
       "      <th>0</th>\n",
       "      <td>(biosphere3, 87883a4e-1e3e-4c9d-90c0-f1bea36f8...</td>\n",
       "      <td>Ammonia</td>\n",
       "      <td>0.000021</td>\n",
       "      <td>1.400000e-05</td>\n",
       "      <td>0.000021</td>\n",
       "      <td>air</td>\n",
       "    </tr>\n",
       "    <tr>\n",
       "      <th>1</th>\n",
       "      <td>(biosphere3, c1b91234-6f24-417b-8309-46111d09c...</td>\n",
       "      <td>Nitrogen oxides</td>\n",
       "      <td>0.000002</td>\n",
       "      <td>2.100000e-07</td>\n",
       "      <td>0.000002</td>\n",
       "      <td>air</td>\n",
       "    </tr>\n",
       "    <tr>\n",
       "      <th>2</th>\n",
       "      <td>(biosphere3, 21e46cb8-6233-4c99-bac3-c41d2ab99...</td>\n",
       "      <td>Particulates, &lt; 2.5 um</td>\n",
       "      <td>0.000238</td>\n",
       "      <td>3.017570e-06</td>\n",
       "      <td>0.000238</td>\n",
       "      <td>air</td>\n",
       "    </tr>\n",
       "    <tr>\n",
       "      <th>3</th>\n",
       "      <td>(biosphere3, fd7aa71c-508c-480d-81a6-8052aad92...</td>\n",
       "      <td>Sulfur dioxide</td>\n",
       "      <td>0.000008</td>\n",
       "      <td>9.900000e-07</td>\n",
       "      <td>0.000008</td>\n",
       "      <td>air</td>\n",
       "    </tr>\n",
       "  </tbody>\n",
       "</table>\n",
       "</div>"
      ],
      "text/plain": [
       "                                                code                    name  \\\n",
       "0  (biosphere3, 87883a4e-1e3e-4c9d-90c0-f1bea36f8...                 Ammonia   \n",
       "1  (biosphere3, c1b91234-6f24-417b-8309-46111d09c...         Nitrogen oxides   \n",
       "2  (biosphere3, 21e46cb8-6233-4c99-bac3-c41d2ab99...  Particulates, < 2.5 um   \n",
       "3  (biosphere3, fd7aa71c-508c-480d-81a6-8052aad92...          Sulfur dioxide   \n",
       "\n",
       "     amount       minimum   maximum compartment  \n",
       "0  0.000021  1.400000e-05  0.000021         air  \n",
       "1  0.000002  2.100000e-07  0.000002         air  \n",
       "2  0.000238  3.017570e-06  0.000238         air  \n",
       "3  0.000008  9.900000e-07  0.000008         air  "
      ]
     },
     "execution_count": 112,
     "metadata": {},
     "output_type": "execute_result"
    }
   ],
   "source": [
    "cf_range"
   ]
  },
  {
   "cell_type": "markdown",
   "metadata": {},
   "source": [
    "***"
   ]
  },
  {
   "cell_type": "code",
   "execution_count": 27,
   "metadata": {},
   "outputs": [],
   "source": [
    "cf_possible_values={}"
   ]
  },
  {
   "cell_type": "code",
   "execution_count": 32,
   "metadata": {},
   "outputs": [],
   "source": [
    "for g in cf_df.loc[cf_df.subcompartment.isna(),['code','name','compartment']].itertuples():\n",
    "    # list of possible values\n",
    "    possible_values = cf_df.loc[(cf_df.name==g.name)&(cf_df.compartment==g.compartment),'amount'].tolist()\n",
    "    \n",
    "    # create a dict with the code as key and the possible values as ... values\n",
    "    if len(possible_values)>1:\n",
    "        cf_possible_values[('biosphere3',g.code)] = cf_df.loc[(cf_df.name==g.name)&(cf_df.compartment==g.compartment),'amount'].tolist()\n",
    "        \n",
    "    # create samples using random samples of possible values\n",
    "    samples = np.array([random.choices(values,k=nsamples) for key,values in cf_possible_values.items()])\n",
    "    indices = [k for k in cf_possible_values.keys()]\n",
    "\n",
    "    # do some data validation\n",
    "    for i in indices:\n",
    "        assert i in bw.Database('biosphere3')\n",
    "    assert samples.shape[0]==len(indices)\n",
    "\n",
    "    scenario_matrix_data=[(samples,indices,'cf')]"
   ]
  },
  {
   "cell_type": "markdown",
   "metadata": {},
   "source": [
    "the results that we need for presamples are:\n",
    "- an array containing samples for each (elementary flow, compartment)\n",
    "- the codes that point to these pairs (elementary flow, compartment)\n",
    "- the string `cf` to point that this data is for the characterisation factor matrix"
   ]
  },
  {
   "cell_type": "code",
   "execution_count": 33,
   "metadata": {},
   "outputs": [
    {
     "data": {
      "text/plain": [
       "[(array([[2.10000e-05, 2.10000e-05, 2.10000e-05, ..., 2.10000e-05,\n",
       "          2.10000e-05, 2.10000e-05],\n",
       "         [2.10000e-07, 1.60000e-06, 2.10000e-07, ..., 1.60000e-06,\n",
       "          2.10000e-07, 2.10000e-07],\n",
       "         [2.38497e-04, 2.38497e-04, 2.38497e-04, ..., 3.01757e-06,\n",
       "          3.01757e-06, 2.38497e-04],\n",
       "         [8.00000e-06, 8.00000e-06, 8.00000e-06, ..., 9.90000e-07,\n",
       "          9.90000e-07, 9.90000e-07],\n",
       "         [8.00000e-06, 8.00000e-06, 8.00000e-06, ..., 8.00000e-06,\n",
       "          8.00000e-06, 8.00000e-06]]),\n",
       "  [('biosphere3', '87883a4e-1e3e-4c9d-90c0-f1bea36f8014'),\n",
       "   ('biosphere3', 'c1b91234-6f24-417b-8309-46111d09c457'),\n",
       "   ('biosphere3', '21e46cb8-6233-4c99-bac3-c41d2ab99498'),\n",
       "   ('biosphere3', 'fd7aa71c-508c-480d-81a6-8052aad92646'),\n",
       "   ('biosphere3', '3268d8df-59cc-4740-a89f-dee8355ad7c3')],\n",
       "  'cf')]"
      ]
     },
     "execution_count": 33,
     "metadata": {},
     "output_type": "execute_result"
    }
   ],
   "source": [
    "scenario_matrix_data"
   ]
  },
  {
   "cell_type": "markdown",
   "metadata": {},
   "source": [
    "we give it a name and store it. "
   ]
  },
  {
   "cell_type": "code",
   "execution_count": 36,
   "metadata": {},
   "outputs": [
    {
     "data": {
      "text/plain": [
       "'ILCD 2.0 2018 midpoint|human health|respiratory effects, inorganics|5000 samples|discrete'"
      ]
     },
     "execution_count": 36,
     "metadata": {},
     "output_type": "execute_result"
    }
   ],
   "source": [
    "presamples_name_d = f\"{'|'.join(resp_inorg_deterministic)}|{nsamples} samples|discrete\"\n",
    "presamples_name_d"
   ]
  },
  {
   "cell_type": "code",
   "execution_count": 37,
   "metadata": {},
   "outputs": [],
   "source": [
    "# create package\n",
    "cfsamples_id_discrete, cfsamples_fp_discrete = ps.create_presamples_package(matrix_data=scenario_matrix_data,\n",
    "                                                                            name=presamples_name_d,\n",
    "                                                                            seed=1)"
   ]
  },
  {
   "cell_type": "markdown",
   "metadata": {},
   "source": [
    "## test"
   ]
  },
  {
   "cell_type": "code",
   "execution_count": 38,
   "metadata": {},
   "outputs": [],
   "source": [
    "train_de=[act for act in bw.Database('ei_36con') if (act['name']=='transport, passenger train') and (act['location']=='DE')][0]"
   ]
  },
  {
   "cell_type": "code",
   "execution_count": 42,
   "metadata": {},
   "outputs": [],
   "source": [
    "deterministic_lca = bw.LCA({train_de:1},resp_inorg_deterministic)"
   ]
  },
  {
   "cell_type": "code",
   "execution_count": 43,
   "metadata": {},
   "outputs": [],
   "source": [
    "deterministic_lca.lci()\n",
    "deterministic_lca.lcia()"
   ]
  },
  {
   "cell_type": "code",
   "execution_count": 40,
   "metadata": {},
   "outputs": [],
   "source": [
    "mc = bw.MonteCarloLCA({train_de:1},resp_inorg_deterministic,presamples=[cfsamples_fp_discrete])"
   ]
  },
  {
   "cell_type": "code",
   "execution_count": 41,
   "metadata": {},
   "outputs": [
    {
     "data": {
      "text/plain": [
       "2.4792476326755683e-09"
      ]
     },
     "execution_count": 41,
     "metadata": {},
     "output_type": "execute_result"
    }
   ],
   "source": [
    "next(mc)"
   ]
  },
  {
   "cell_type": "code",
   "execution_count": 47,
   "metadata": {},
   "outputs": [],
   "source": [
    "assert deterministic_lca.biosphere_dict == mc.biosphere_dict\n",
    "assert deterministic_lca.activity_dict == mc.activity_dict"
   ]
  },
  {
   "cell_type": "code",
   "execution_count": 70,
   "metadata": {},
   "outputs": [
    {
     "name": "stderr",
     "output_type": "stream",
     "text": [
      "0% [##############################] 100% | ETA: 00:00:00\n",
      "Total time elapsed: 00:05:49\n"
     ]
    }
   ],
   "source": [
    "results = []\n",
    "for _ in pyprind.prog_bar(range(2000)):\n",
    "    next(mc)\n",
    "    result_determ = (deterministic_lca.characterization_matrix.dot(mc.inventory)).sum()\n",
    "    results.append((mc.score,result_determ))"
   ]
  },
  {
   "cell_type": "code",
   "execution_count": 71,
   "metadata": {},
   "outputs": [],
   "source": [
    "comparison_df = pd.DataFrame(results,columns=['discrete','deterministic'])"
   ]
  },
  {
   "cell_type": "code",
   "execution_count": 72,
   "metadata": {},
   "outputs": [
    {
     "data": {
      "image/png": "[encoded data removed]",
      "text/plain": [
       "<Figure size 432x288 with 1 Axes>"
      ]
     },
     "metadata": {
      "needs_background": "light"
     },
     "output_type": "display_data"
    }
   ],
   "source": [
    "sns.distplot(comparison_df['discrete'],color=\"red\", label=\"uncertain discrete CF\",kde=False)\n",
    "sns.distplot(comparison_df.deterministic,color=\"skyblue\", label=\"deterministic CF\",kde=False)\n",
    "plt.title('transport, passenger train (DE)',fontsize=16)\n",
    "plt.axvline(deterministic_lca.score,ls=\"-.\",label='all deterministic');\n",
    "plt.legend(fontsize=12);\n",
    "plt.xlabel('disease i. / pkm',fontsize=13)\n",
    "plt.tight_layout()\n",
    "plt.savefig('train_results_for_presentation_discrete.png',dpi=300)"
   ]
  },
  {
   "cell_type": "code",
   "execution_count": 111,
   "metadata": {},
   "outputs": [
    {
     "data": {
      "image/png": "[encoded data removed]",
      "text/plain": [
       "<Figure size 288x288 with 2 Axes>"
      ]
     },
     "metadata": {
      "needs_background": "light"
     },
     "output_type": "display_data"
    }
   ],
   "source": [
    "f,a = plt.subplots(nrows=2,ncols=1,figsize=(4,4),sharex=True)\n",
    "\n",
    "a[0].hist(np.random.triangular(-0.8, -0.8, 480, 100000), bins=200,density=True,color='goldenrod');\n",
    "a[1].hist(np.random.uniform(-0.8,480,100000), bins=200,density=True,color='cornflowerblue');\n",
    "a[0].set_title('triangular');\n",
    "a[1].set_title('uniform');\n",
    "\n",
    "a[0].axvline(-0.8,ls='-.',color='k')\n",
    "a[0].axvline(480,ls='-.',color='k')\n",
    "a[1].axvline(-0.8,ls='-.',color='k')\n",
    "a[1].axvline(480,ls='-.',color='k')\n",
    "plt.tight_layout()"
   ]
  },
  {
   "cell_type": "code",
   "execution_count": null,
   "metadata": {},
   "outputs": [],
   "source": []
  }
 ],
 "metadata": {
  "kernelspec": {
   "display_name": "Python 3",
   "language": "python",
   "name": "python3"
  },
  "language_info": {
   "codemirror_mode": {
    "name": "ipython",
    "version": 3
   },
   "file_extension": ".py",
   "mimetype": "text/x-python",
   "name": "python",
   "nbconvert_exporter": "python",
   "pygments_lexer": "ipython3",
   "version": "3.7.4"
  }
 },
 "nbformat": 4,
 "nbformat_minor": 4
}
