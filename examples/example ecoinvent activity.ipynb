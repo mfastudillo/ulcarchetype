{
 "cells": [
  {
   "cell_type": "markdown",
   "metadata": {},
   "source": [
    "## calculating the effects of CF uncertainty on an ecoinvent activity"
   ]
  },
  {
   "cell_type": "markdown",
   "metadata": {},
   "source": [
    "This notebook exemplifies the calculation of the effects of CF uncertainty on an LCA calculation. To avoid spurious correlations, we use the same **A** and **B** matrices within each iteration for both cases. \n",
    "\n",
    "In paralel it also keeps track during the calculation of the elements within the characterized inventory matrix (calculated only considering **C** uncertainty) with the highest variability. This should give an idea of which flows are responsible of most of the uncertainty."
   ]
  },
  {
   "cell_type": "code",
   "execution_count": 1,
   "metadata": {},
   "outputs": [],
   "source": [
    "import brightway2 as bw\n",
    "import numpy as np\n",
    "import pandas as pd\n",
    "import seaborn as sns\n",
    "import matplotlib.pyplot as plt"
   ]
  },
  {
   "cell_type": "code",
   "execution_count": 2,
   "metadata": {},
   "outputs": [],
   "source": [
    "def cf_uncertainty_contribution(activity,method_deterministic,method_uncertain,iterations=100,nmax_contributors=10):\n",
    "    \"\"\"\"\"\"\n",
    "    deterministic_lca = bw.LCA({activity:1},method_deterministic)\n",
    "    mc = bw.MonteCarloLCA({activity:1},method_uncertain)\n",
    "    \n",
    "    \n",
    "    # inizialize indicators\n",
    "    deterministic_lca.lci()\n",
    "    deterministic_lca.lcia()\n",
    "    next(mc)\n",
    "    minimum = (mc.characterization_matrix).dot(deterministic_lca.inventory).data\n",
    "    maximum = (mc.characterization_matrix).dot(deterministic_lca.inventory).data\n",
    "    \n",
    "    rev_actdict,rev_proddict,rev_biodict = mc.reverse_dict()\n",
    "    \n",
    "    #just in case\n",
    "    assert mc.biosphere_dict==deterministic_lca.biosphere_dict\n",
    "    assert mc.product_dict == deterministic_lca.product_dict\n",
    "    \n",
    "    results =  []\n",
    "    for _ in range(iterations):\n",
    "        next(mc)\n",
    "        \n",
    "        # contribution to uncertainty\n",
    "        characterised_inventory = (mc.characterization_matrix).dot(deterministic_lca.inventory)\n",
    "        minimum = np.minimum(minimum,characterised_inventory.data)\n",
    "        maximum = np.maximum(maximum,characterised_inventory.data)\n",
    "        \n",
    "        # effects of uncertainty in CF\n",
    "        score_deterministic_c = deterministic_lca.characterization_matrix.dot(mc.inventory).sum()\n",
    "        score_uncertain_c = mc.score\n",
    "        results.append((score_deterministic_c,score_uncertain_c))\n",
    "    \n",
    "    rng = maximum - minimum\n",
    "    maxindices = list(reversed(np.argsort(rng)))\n",
    "    \n",
    "    top_contributors=[]\n",
    "    for i,maxi in enumerate(maxindices):\n",
    "        \n",
    "        maxrow = rev_biodict[mc.characterized_inventory.tocoo().row[maxi]]\n",
    "        maxcol = rev_actdict[mc.characterized_inventory.tocoo().col[maxi]]\n",
    "        value = rng[maxi]\n",
    "        top_contributors.append((maxrow,maxcol,value))\n",
    "        \n",
    "        if i > nmax_contributors:\n",
    "            break\n",
    "            \n",
    "    return (results,top_contributors)"
   ]
  },
  {
   "cell_type": "code",
   "execution_count": 3,
   "metadata": {},
   "outputs": [],
   "source": [
    "bw.projects.set_current('uncertain archetype III')"
   ]
  },
  {
   "cell_type": "code",
   "execution_count": 4,
   "metadata": {},
   "outputs": [],
   "source": [
    "resp_inorg_uniform = ('ILCD 2.0 2018 midpoint','human health','respiratory effects, inorganics','archetype uncertainty','uniform')"
   ]
  },
  {
   "cell_type": "code",
   "execution_count": 5,
   "metadata": {},
   "outputs": [],
   "source": [
    "resp_inorg_deterministic = ('ILCD 2.0 2018 midpoint', 'human health', 'respiratory effects, inorganics')"
   ]
  },
  {
   "cell_type": "code",
   "execution_count": 6,
   "metadata": {},
   "outputs": [],
   "source": [
    "train_de=[act for act in bw.Database('ei_36con') if (act['name']=='transport, passenger train') and (act['location']=='DE')][0]"
   ]
  },
  {
   "cell_type": "code",
   "execution_count": 7,
   "metadata": {},
   "outputs": [
    {
     "name": "stdout",
     "output_type": "stream",
     "text": [
      "Wall time: 5min 47s\n"
     ]
    }
   ],
   "source": [
    "%time results,train_cf_contribution = cf_uncertainty_contribution(train_de,resp_inorg_deterministic,resp_inorg_uniform,iterations=2000)"
   ]
  },
  {
   "cell_type": "markdown",
   "metadata": {},
   "source": [
    "flows and corresponding activities that introduce the largest uncertainty in the result"
   ]
  },
  {
   "cell_type": "code",
   "execution_count": 8,
   "metadata": {},
   "outputs": [
    {
     "name": "stdout",
     "output_type": "stream",
     "text": [
      "transport, freight, lorry >32 metric ton, EURO5 --- Particulates, < 2.5 um ---8.53e-10\n",
      "transport, freight, light commercial vehicle, EURO1 --- Nitrogen oxides ---2.16e-10\n",
      "sulfate pulp production, from hardwood, bleached --- Particulates, < 2.5 um ---1.19e-10\n",
      "machine operation, diesel, >= 74.57 kW, high load factor --- Particulates, < 2.5 um ---8.10e-11\n",
      "lorry production, 28 metric ton --- Particulates, < 2.5 um ---3.24e-11\n",
      "containerboard production, fluting medium, semichemical --- Particulates, < 2.5 um ---3.04e-11\n",
      "transport, freight, lorry with refrigeration machine, 7.5-16 ton, EURO5, R134a refrigerant, freezing --- Sulfur dioxide ---2.20e-11\n",
      "welding, gas, steel --- Particulates, < 2.5 um ---2.16e-11\n",
      "transport, freight train, electricity --- Particulates, < 2.5 um ---1.77e-11\n",
      "lorry production, 16 metric ton --- Particulates, < 2.5 um ---1.68e-11\n",
      "water pump operation, diesel --- Sulfur dioxide ---1.47e-11\n",
      "steel production, electric, low-alloyed --- Particulates, < 2.5 um ---1.32e-11\n"
     ]
    }
   ],
   "source": [
    "for irow,icol,value in train_cf_contribution:\n",
    "    activity = bw.get_activity(icol)\n",
    "    bioflow = bw.get_activity(irow)\n",
    "    \n",
    "    print(f\"{activity['name']} --- {bioflow['name']} ---{value:.2e}\")\n",
    "    "
   ]
  },
  {
   "cell_type": "code",
   "execution_count": 9,
   "metadata": {},
   "outputs": [],
   "source": [
    "results_df = pd.DataFrame(results,columns=['deterministic_C','uncertain_C'])"
   ]
  },
  {
   "cell_type": "code",
   "execution_count": 10,
   "metadata": {},
   "outputs": [],
   "source": [
    "results_df_long = results_df.stack().to_frame('score')"
   ]
  },
  {
   "cell_type": "code",
   "execution_count": 11,
   "metadata": {},
   "outputs": [],
   "source": [
    "results_df_long.index.names = ['iteration','case']"
   ]
  },
  {
   "cell_type": "code",
   "execution_count": 12,
   "metadata": {},
   "outputs": [
    {
     "data": {
      "text/plain": [
       "2.3417703632272222e-09"
      ]
     },
     "execution_count": 12,
     "metadata": {},
     "output_type": "execute_result"
    }
   ],
   "source": [
    "deterministic = bw.LCA({train_de:1},resp_inorg_deterministic)\n",
    "deterministic.lci()\n",
    "deterministic.lcia()\n",
    "deterministic.score"
   ]
  },
  {
   "cell_type": "code",
   "execution_count": 76,
   "metadata": {},
   "outputs": [
    {
     "data": {
      "image/png": "[encoded data removed]",
      "text/plain": [
       "<Figure size 432x288 with 1 Axes>"
      ]
     },
     "metadata": {
      "needs_background": "light"
     },
     "output_type": "display_data"
    }
   ],
   "source": [
    "sns.distplot( results_df['deterministic_C'] , color=\"skyblue\", label=\"deterministic CF\",kde=False)\n",
    "sns.distplot( results_df['uncertain_C'] , color=\"red\", label=\"uncertain CF\",kde=False)\n",
    "plt.title('transport, passenger train (DE)',fontsize=16)\n",
    "plt.axvline(deterministic.score,ls=\"-.\",label='all deterministic')\n",
    "\n",
    "#interquartile range\n",
    "#plt.axvline(results_df.deterministic_C.quantile(0.25),color=\"skyblue\",alpha=0.3,label='IQR')\n",
    "#plt.axvline(results_df.deterministic_C.quantile(0.75),color=\"skyblue\",alpha=0.3)\n",
    "#plt.axvline(results_df.uncertain_C.quantile(0.25),color=\"red\",alpha=0.3,label='IQR')\n",
    "#plt.axvline(results_df.uncertain_C.quantile(0.75),color=\"red\",alpha=0.3)\n",
    "\n",
    "plt.legend(fontsize=12);\n",
    "plt.xlabel('disease i. / pkm',fontsize=13)\n",
    "\n",
    "plt.tight_layout()\n",
    "plt.savefig('train_results_for_presentation.png',dpi=300)"
   ]
  },
  {
   "cell_type": "markdown",
   "metadata": {},
   "source": [
    "### procedure"
   ]
  },
  {
   "cell_type": "markdown",
   "metadata": {},
   "source": [
    "calculate the CF"
   ]
  },
  {
   "cell_type": "markdown",
   "metadata": {},
   "source": [
    "```python\n",
    "# returns a list of tuples with the CF as defined in brightway\n",
    "my_new_cf = cf_add_uncertainty(('ReCiPe Midpoint (E) V1.13', 'marine eutrophication', 'MEP'),\n",
    "                                uncertainty_type=4) # -> uniform\n",
    "```"
   ]
  },
  {
   "cell_type": "markdown",
   "metadata": {},
   "source": [
    "store the new Impact Assessment method via the normal procedure"
   ]
  },
  {
   "cell_type": "markdown",
   "metadata": {},
   "source": [
    "```python\n",
    "my_new_method_name = ('marine eutrophication','with uncertainty')\n",
    "metadata={'description':'awesome method','unit':'kg N-eq'}\n",
    "\n",
    "my_new_method = bw.Method(my_new_method_name)\n",
    "my_new_method.register(**metadata)\n",
    "my_new_method.write(my_new_cf)\n",
    "```"
   ]
  },
  {
   "cell_type": "markdown",
   "metadata": {},
   "source": [
    "ready to use!"
   ]
  },
  {
   "cell_type": "markdown",
   "metadata": {},
   "source": [
    "```python\n",
    "# use it!\n",
    "random_activity = bw.Database('ei_36con').random()\n",
    "mc = bw.MonteCarloLCA({random_activity:1},\n",
    "                 method=('marine eutrophication','with uncertainty'))\n",
    "```"
   ]
  },
  {
   "cell_type": "markdown",
   "metadata": {},
   "source": [
    "## how different they are ?"
   ]
  },
  {
   "cell_type": "code",
   "execution_count": 14,
   "metadata": {},
   "outputs": [
    {
     "data": {
      "text/html": [
       "<div>\n",
       "<style scoped>\n",
       "    .dataframe tbody tr th:only-of-type {\n",
       "        vertical-align: middle;\n",
       "    }\n",
       "\n",
       "    .dataframe tbody tr th {\n",
       "        vertical-align: top;\n",
       "    }\n",
       "\n",
       "    .dataframe thead th {\n",
       "        text-align: right;\n",
       "    }\n",
       "</style>\n",
       "<table border=\"1\" class=\"dataframe\">\n",
       "  <thead>\n",
       "    <tr style=\"text-align: right;\">\n",
       "      <th></th>\n",
       "      <th>deterministic_C</th>\n",
       "      <th>uncertain_C</th>\n",
       "    </tr>\n",
       "  </thead>\n",
       "  <tbody>\n",
       "    <tr>\n",
       "      <th>0</th>\n",
       "      <td>2.657870e-09</td>\n",
       "      <td>1.905526e-09</td>\n",
       "    </tr>\n",
       "    <tr>\n",
       "      <th>1</th>\n",
       "      <td>3.379641e-09</td>\n",
       "      <td>2.013112e-09</td>\n",
       "    </tr>\n",
       "    <tr>\n",
       "      <th>2</th>\n",
       "      <td>2.792531e-09</td>\n",
       "      <td>1.921698e-09</td>\n",
       "    </tr>\n",
       "    <tr>\n",
       "      <th>3</th>\n",
       "      <td>2.814291e-09</td>\n",
       "      <td>1.406717e-09</td>\n",
       "    </tr>\n",
       "    <tr>\n",
       "      <th>4</th>\n",
       "      <td>2.533271e-09</td>\n",
       "      <td>1.289605e-09</td>\n",
       "    </tr>\n",
       "    <tr>\n",
       "      <th>...</th>\n",
       "      <td>...</td>\n",
       "      <td>...</td>\n",
       "    </tr>\n",
       "    <tr>\n",
       "      <th>1995</th>\n",
       "      <td>3.032880e-09</td>\n",
       "      <td>2.258590e-09</td>\n",
       "    </tr>\n",
       "    <tr>\n",
       "      <th>1996</th>\n",
       "      <td>2.835701e-09</td>\n",
       "      <td>1.597535e-09</td>\n",
       "    </tr>\n",
       "    <tr>\n",
       "      <th>1997</th>\n",
       "      <td>3.293699e-09</td>\n",
       "      <td>2.407170e-09</td>\n",
       "    </tr>\n",
       "    <tr>\n",
       "      <th>1998</th>\n",
       "      <td>3.294698e-09</td>\n",
       "      <td>1.569744e-09</td>\n",
       "    </tr>\n",
       "    <tr>\n",
       "      <th>1999</th>\n",
       "      <td>2.415861e-09</td>\n",
       "      <td>1.950436e-09</td>\n",
       "    </tr>\n",
       "  </tbody>\n",
       "</table>\n",
       "<p>2000 rows × 2 columns</p>\n",
       "</div>"
      ],
      "text/plain": [
       "      deterministic_C   uncertain_C\n",
       "0        2.657870e-09  1.905526e-09\n",
       "1        3.379641e-09  2.013112e-09\n",
       "2        2.792531e-09  1.921698e-09\n",
       "3        2.814291e-09  1.406717e-09\n",
       "4        2.533271e-09  1.289605e-09\n",
       "...               ...           ...\n",
       "1995     3.032880e-09  2.258590e-09\n",
       "1996     2.835701e-09  1.597535e-09\n",
       "1997     3.293699e-09  2.407170e-09\n",
       "1998     3.294698e-09  1.569744e-09\n",
       "1999     2.415861e-09  1.950436e-09\n",
       "\n",
       "[2000 rows x 2 columns]"
      ]
     },
     "execution_count": 14,
     "metadata": {},
     "output_type": "execute_result"
    }
   ],
   "source": [
    "results_df"
   ]
  },
  {
   "cell_type": "code",
   "execution_count": 15,
   "metadata": {},
   "outputs": [],
   "source": [
    "results_df['diff'] = results_df.deterministic_C - results_df.uncertain_C"
   ]
  },
  {
   "cell_type": "code",
   "execution_count": 16,
   "metadata": {},
   "outputs": [
    {
     "data": {
      "text/plain": [
       "<AxesSubplot:>"
      ]
     },
     "execution_count": 16,
     "metadata": {},
     "output_type": "execute_result"
    },
    {
     "data": {
      "image/png": "[encoded data removed]",
      "text/plain": [
       "<Figure size 432x288 with 1 Axes>"
      ]
     },
     "metadata": {
      "needs_background": "light"
     },
     "output_type": "display_data"
    }
   ],
   "source": [
    "results_df['diff'].hist(grid=False,bins=30,density=True)"
   ]
  },
  {
   "cell_type": "code",
   "execution_count": 18,
   "metadata": {},
   "outputs": [],
   "source": [
    "results_df = results_df.sort_values(by='diff')"
   ]
  },
  {
   "cell_type": "code",
   "execution_count": 34,
   "metadata": {},
   "outputs": [
    {
     "data": {
      "image/png": "[encoded data removed]",
      "text/plain": [
       "<Figure size 432x288 with 1 Axes>"
      ]
     },
     "metadata": {
      "needs_background": "light"
     },
     "output_type": "display_data"
    }
   ],
   "source": [
    "results_df['diff'].reset_index(drop=True).plot();\n",
    "plt.axvline(len(results_df)*0.05,color='k',ls='-.')\n",
    "plt.axhline(results_df['diff'].quantile(0.05),color='r',ls='-.')\n",
    "plt.xscale('log')\n",
    "plt.yscale('log')"
   ]
  },
  {
   "cell_type": "code",
   "execution_count": 49,
   "metadata": {},
   "outputs": [],
   "source": [
    "q10 = (results_df['diff']/results_df.deterministic_C).quantile(0.1)"
   ]
  },
  {
   "cell_type": "code",
   "execution_count": 51,
   "metadata": {},
   "outputs": [
    {
     "data": {
      "text/plain": [
       "'results are 12.5% lower for 90% of the iterations when we consider CF uncertainty'"
      ]
     },
     "execution_count": 51,
     "metadata": {},
     "output_type": "execute_result"
    }
   ],
   "source": [
    "f\"results are {q10:.1%} lower for 90% of the iterations when we consider CF uncertainty\""
   ]
  },
  {
   "cell_type": "code",
   "execution_count": 58,
   "metadata": {},
   "outputs": [
    {
     "data": {
      "text/plain": [
       "'standard deviation 122.1% the original standard deviation'"
      ]
     },
     "execution_count": 58,
     "metadata": {},
     "output_type": "execute_result"
    }
   ],
   "source": [
    "f\"standard deviation {results_df.uncertain_C.std()/results_df.deterministic_C.std():.1%} the original standard deviation\""
   ]
  },
  {
   "cell_type": "code",
   "execution_count": 55,
   "metadata": {},
   "outputs": [
    {
     "data": {
      "text/plain": [
       "5.769335417262094e-10"
      ]
     },
     "execution_count": 55,
     "metadata": {},
     "output_type": "execute_result"
    }
   ],
   "source": []
  },
  {
   "cell_type": "code",
   "execution_count": null,
   "metadata": {},
   "outputs": [],
   "source": []
  }
 ],
 "metadata": {
  "kernelspec": {
   "display_name": "Python 3.7.4 64-bit ('bwnew': conda)",
   "language": "python",
   "name": "python37464bitbwnewcondaf9c911ceaf1c4fcb932b080b7b7d62cb"
  },
  "language_info": {
   "codemirror_mode": {
    "name": "ipython",
    "version": 3
   },
   "file_extension": ".py",
   "mimetype": "text/x-python",
   "name": "python",
   "nbconvert_exporter": "python",
   "pygments_lexer": "ipython3",
   "version": "3.7.4"
  }
 },
 "nbformat": 4,
 "nbformat_minor": 4
}
