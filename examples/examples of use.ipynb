{
 "cells": [
  {
   "cell_type": "code",
   "execution_count": 129,
   "metadata": {},
   "outputs": [],
   "source": [
    "import brightway2 as bw\n",
    "from ulcarchetype.utils import get_cf_info,minmax_archetype,cf_add_uncertainty\n",
    "import pandas as pd\n",
    "import numpy as np\n",
    "import matplotlib.pyplot as plt"
   ]
  },
  {
   "cell_type": "code",
   "execution_count": 5,
   "metadata": {},
   "outputs": [],
   "source": [
    "bw.projects.set_current('uncertain archetype I')"
   ]
  },
  {
   "cell_type": "markdown",
   "metadata": {},
   "source": [
    "as example lets use a method with not many characterisation factors"
   ]
  },
  {
   "cell_type": "code",
   "execution_count": 42,
   "metadata": {},
   "outputs": [],
   "source": [
    "method = ('ecological scarcity 2013', 'total', 'total')"
   ]
  },
  {
   "cell_type": "code",
   "execution_count": 64,
   "metadata": {},
   "outputs": [
    {
     "data": {
      "text/plain": [
       "('ReCiPe Midpoint (H) V1.13',\n",
       " 'human toxicity',\n",
       " 'HTPinf',\n",
       " 'archetype uncertainty')"
      ]
     },
     "execution_count": 64,
     "metadata": {},
     "output_type": "execute_result"
    }
   ],
   "source": [
    "bw.methods.random()"
   ]
  },
  {
   "cell_type": "markdown",
   "metadata": {},
   "source": [
    "## get_cf_info"
   ]
  },
  {
   "cell_type": "code",
   "execution_count": 43,
   "metadata": {},
   "outputs": [
    {
     "data": {
      "text/html": [
       "<div>\n",
       "<style scoped>\n",
       "    .dataframe tbody tr th:only-of-type {\n",
       "        vertical-align: middle;\n",
       "    }\n",
       "\n",
       "    .dataframe tbody tr th {\n",
       "        vertical-align: top;\n",
       "    }\n",
       "\n",
       "    .dataframe thead th {\n",
       "        text-align: right;\n",
       "    }\n",
       "</style>\n",
       "<table border=\"1\" class=\"dataframe\">\n",
       "  <thead>\n",
       "    <tr style=\"text-align: right;\">\n",
       "      <th></th>\n",
       "      <th>database</th>\n",
       "      <th>code</th>\n",
       "      <th>name</th>\n",
       "      <th>amount</th>\n",
       "      <th>unit</th>\n",
       "      <th>type</th>\n",
       "      <th>compartment</th>\n",
       "      <th>subcompartment</th>\n",
       "    </tr>\n",
       "  </thead>\n",
       "  <tbody>\n",
       "    <tr>\n",
       "      <th>0</th>\n",
       "      <td>biosphere3</td>\n",
       "      <td>47262180-8308-5d4c-9332-c77617e032ef</td>\n",
       "      <td>Antimony, in ground</td>\n",
       "      <td>790000.0</td>\n",
       "      <td>kilogram</td>\n",
       "      <td>natural resource</td>\n",
       "      <td>natural resource</td>\n",
       "      <td>in ground</td>\n",
       "    </tr>\n",
       "    <tr>\n",
       "      <th>1</th>\n",
       "      <td>biosphere3</td>\n",
       "      <td>240177d8-6f3b-43f5-8d1e-0c18114dfa02</td>\n",
       "      <td>Barium, in ground</td>\n",
       "      <td>3200.0</td>\n",
       "      <td>kilogram</td>\n",
       "      <td>natural resource</td>\n",
       "      <td>natural resource</td>\n",
       "      <td>in ground</td>\n",
       "    </tr>\n",
       "    <tr>\n",
       "      <th>2</th>\n",
       "      <td>biosphere3</td>\n",
       "      <td>bf377e4f-3a95-4ce2-a9ba-66ee31f00f60</td>\n",
       "      <td>Cadmium, in ground</td>\n",
       "      <td>1300000.0</td>\n",
       "      <td>kilogram</td>\n",
       "      <td>natural resource</td>\n",
       "      <td>natural resource</td>\n",
       "      <td>in ground</td>\n",
       "    </tr>\n",
       "    <tr>\n",
       "      <th>3</th>\n",
       "      <td>biosphere3</td>\n",
       "      <td>4057f8b4-f20a-59c9-9bb7-fdeaf5ad106d</td>\n",
       "      <td>Cerium, in ground</td>\n",
       "      <td>180.0</td>\n",
       "      <td>kilogram</td>\n",
       "      <td>natural resource</td>\n",
       "      <td>natural resource</td>\n",
       "      <td>in ground</td>\n",
       "    </tr>\n",
       "    <tr>\n",
       "      <th>4</th>\n",
       "      <td>biosphere3</td>\n",
       "      <td>3d73ec21-de4d-5b68-b504-4ef59e15bd0e</td>\n",
       "      <td>Europium, in ground</td>\n",
       "      <td>380000.0</td>\n",
       "      <td>kilogram</td>\n",
       "      <td>natural resource</td>\n",
       "      <td>natural resource</td>\n",
       "      <td>in ground</td>\n",
       "    </tr>\n",
       "    <tr>\n",
       "      <th>...</th>\n",
       "      <td>...</td>\n",
       "      <td>...</td>\n",
       "      <td>...</td>\n",
       "      <td>...</td>\n",
       "      <td>...</td>\n",
       "      <td>...</td>\n",
       "      <td>...</td>\n",
       "      <td>...</td>\n",
       "    </tr>\n",
       "    <tr>\n",
       "      <th>1597</th>\n",
       "      <td>biosphere3</td>\n",
       "      <td>454f5552-15ca-412d-821d-ab79cc0c989b</td>\n",
       "      <td>t-Butyl methyl ether</td>\n",
       "      <td>14000.0</td>\n",
       "      <td>kilogram</td>\n",
       "      <td>emission</td>\n",
       "      <td>air</td>\n",
       "      <td>lower stratosphere + upper troposphere</td>\n",
       "    </tr>\n",
       "    <tr>\n",
       "      <th>1598</th>\n",
       "      <td>biosphere3</td>\n",
       "      <td>edd62398-8916-4183-9615-65afce26518a</td>\n",
       "      <td>t-Butyl methyl ether</td>\n",
       "      <td>14000.0</td>\n",
       "      <td>kilogram</td>\n",
       "      <td>emission</td>\n",
       "      <td>air</td>\n",
       "      <td>non-urban air or from high stacks</td>\n",
       "    </tr>\n",
       "    <tr>\n",
       "      <th>1599</th>\n",
       "      <td>biosphere3</td>\n",
       "      <td>beb69352-568e-4a33-b9d4-3b5bfafc85bd</td>\n",
       "      <td>t-Butyl methyl ether</td>\n",
       "      <td>14000.0</td>\n",
       "      <td>kilogram</td>\n",
       "      <td>emission</td>\n",
       "      <td>air</td>\n",
       "      <td>None</td>\n",
       "    </tr>\n",
       "    <tr>\n",
       "      <th>1600</th>\n",
       "      <td>biosphere3</td>\n",
       "      <td>a793710a-1990-4e65-a95e-cfbbc5332355</td>\n",
       "      <td>t-Butyl methyl ether</td>\n",
       "      <td>14000.0</td>\n",
       "      <td>kilogram</td>\n",
       "      <td>emission</td>\n",
       "      <td>air</td>\n",
       "      <td>urban air close to ground</td>\n",
       "    </tr>\n",
       "    <tr>\n",
       "      <th>1601</th>\n",
       "      <td>biosphere3</td>\n",
       "      <td>92681c17-2514-4151-aabf-baee3fd8e5f5</td>\n",
       "      <td>tau-Fluvalinate</td>\n",
       "      <td>7200000.0</td>\n",
       "      <td>kilogram</td>\n",
       "      <td>emission</td>\n",
       "      <td>soil</td>\n",
       "      <td>agricultural</td>\n",
       "    </tr>\n",
       "  </tbody>\n",
       "</table>\n",
       "<p>1602 rows × 8 columns</p>\n",
       "</div>"
      ],
      "text/plain": [
       "        database                                  code                  name  \\\n",
       "0     biosphere3  47262180-8308-5d4c-9332-c77617e032ef   Antimony, in ground   \n",
       "1     biosphere3  240177d8-6f3b-43f5-8d1e-0c18114dfa02     Barium, in ground   \n",
       "2     biosphere3  bf377e4f-3a95-4ce2-a9ba-66ee31f00f60    Cadmium, in ground   \n",
       "3     biosphere3  4057f8b4-f20a-59c9-9bb7-fdeaf5ad106d     Cerium, in ground   \n",
       "4     biosphere3  3d73ec21-de4d-5b68-b504-4ef59e15bd0e   Europium, in ground   \n",
       "...          ...                                   ...                   ...   \n",
       "1597  biosphere3  454f5552-15ca-412d-821d-ab79cc0c989b  t-Butyl methyl ether   \n",
       "1598  biosphere3  edd62398-8916-4183-9615-65afce26518a  t-Butyl methyl ether   \n",
       "1599  biosphere3  beb69352-568e-4a33-b9d4-3b5bfafc85bd  t-Butyl methyl ether   \n",
       "1600  biosphere3  a793710a-1990-4e65-a95e-cfbbc5332355  t-Butyl methyl ether   \n",
       "1601  biosphere3  92681c17-2514-4151-aabf-baee3fd8e5f5       tau-Fluvalinate   \n",
       "\n",
       "         amount      unit              type       compartment  \\\n",
       "0      790000.0  kilogram  natural resource  natural resource   \n",
       "1        3200.0  kilogram  natural resource  natural resource   \n",
       "2     1300000.0  kilogram  natural resource  natural resource   \n",
       "3         180.0  kilogram  natural resource  natural resource   \n",
       "4      380000.0  kilogram  natural resource  natural resource   \n",
       "...         ...       ...               ...               ...   \n",
       "1597    14000.0  kilogram          emission               air   \n",
       "1598    14000.0  kilogram          emission               air   \n",
       "1599    14000.0  kilogram          emission               air   \n",
       "1600    14000.0  kilogram          emission               air   \n",
       "1601  7200000.0  kilogram          emission              soil   \n",
       "\n",
       "                              subcompartment  \n",
       "0                                  in ground  \n",
       "1                                  in ground  \n",
       "2                                  in ground  \n",
       "3                                  in ground  \n",
       "4                                  in ground  \n",
       "...                                      ...  \n",
       "1597  lower stratosphere + upper troposphere  \n",
       "1598       non-urban air or from high stacks  \n",
       "1599                                    None  \n",
       "1600               urban air close to ground  \n",
       "1601                            agricultural  \n",
       "\n",
       "[1602 rows x 8 columns]"
      ]
     },
     "execution_count": 43,
     "metadata": {},
     "output_type": "execute_result"
    }
   ],
   "source": [
    "cf_df = get_cf_info(method)\n",
    "cf_df"
   ]
  },
  {
   "cell_type": "markdown",
   "metadata": {},
   "source": [
    "## minmax_archetype"
   ]
  },
  {
   "cell_type": "code",
   "execution_count": 44,
   "metadata": {},
   "outputs": [
    {
     "data": {
      "text/html": [
       "<div>\n",
       "<style scoped>\n",
       "    .dataframe tbody tr th:only-of-type {\n",
       "        vertical-align: middle;\n",
       "    }\n",
       "\n",
       "    .dataframe tbody tr th {\n",
       "        vertical-align: top;\n",
       "    }\n",
       "\n",
       "    .dataframe thead th {\n",
       "        text-align: right;\n",
       "    }\n",
       "</style>\n",
       "<table border=\"1\" class=\"dataframe\">\n",
       "  <thead>\n",
       "    <tr style=\"text-align: right;\">\n",
       "      <th></th>\n",
       "      <th>code</th>\n",
       "      <th>name</th>\n",
       "      <th>amount</th>\n",
       "      <th>minimum</th>\n",
       "      <th>maximum</th>\n",
       "      <th>compartment</th>\n",
       "    </tr>\n",
       "  </thead>\n",
       "  <tbody>\n",
       "    <tr>\n",
       "      <th>114</th>\n",
       "      <td>(biosphere3, 9d9246d4-0ce3-4b47-8491-cf62e562a...</td>\n",
       "      <td>Cesium-134</td>\n",
       "      <td>1.300000e+01</td>\n",
       "      <td>5.400000</td>\n",
       "      <td>1.300000e+01</td>\n",
       "      <td>water</td>\n",
       "    </tr>\n",
       "    <tr>\n",
       "      <th>116</th>\n",
       "      <td>(biosphere3, 8bbe0b4c-5c9c-4959-a878-572f680e4...</td>\n",
       "      <td>Cesium-137</td>\n",
       "      <td>1.600000e+01</td>\n",
       "      <td>5.400000</td>\n",
       "      <td>1.600000e+01</td>\n",
       "      <td>water</td>\n",
       "    </tr>\n",
       "    <tr>\n",
       "      <th>152</th>\n",
       "      <td>(biosphere3, 8d8e393e-39c4-44e1-b424-8eeefcd33...</td>\n",
       "      <td>Cobalt-60</td>\n",
       "      <td>4.200000e+00</td>\n",
       "      <td>4.200000</td>\n",
       "      <td>2.600000e+01</td>\n",
       "      <td>water</td>\n",
       "    </tr>\n",
       "    <tr>\n",
       "      <th>251</th>\n",
       "      <td>(biosphere3, deb80fa5-4d0a-427e-9526-443f88d17...</td>\n",
       "      <td>Ethane, 1,2-dichloro-</td>\n",
       "      <td>4.600000e+05</td>\n",
       "      <td>120000.000000</td>\n",
       "      <td>4.600000e+05</td>\n",
       "      <td>water</td>\n",
       "    </tr>\n",
       "    <tr>\n",
       "      <th>265</th>\n",
       "      <td>(biosphere3, 4b0d68e7-37bc-4184-93b5-91b70c62e...</td>\n",
       "      <td>Ethene, tetrachloro-</td>\n",
       "      <td>1.900000e+07</td>\n",
       "      <td>150000.000000</td>\n",
       "      <td>1.900000e+07</td>\n",
       "      <td>water</td>\n",
       "    </tr>\n",
       "    <tr>\n",
       "      <th>371</th>\n",
       "      <td>(biosphere3, 9be02ae0-3170-4544-8665-f03a1b43f...</td>\n",
       "      <td>Hydrogen-3, Tritium</td>\n",
       "      <td>4.200000e-05</td>\n",
       "      <td>0.000042</td>\n",
       "      <td>4.700000e-03</td>\n",
       "      <td>water</td>\n",
       "    </tr>\n",
       "    <tr>\n",
       "      <th>517</th>\n",
       "      <td>(biosphere3, 5189de76-6bbb-44ba-8c42-5714f1b43...</td>\n",
       "      <td>Nitrate</td>\n",
       "      <td>1.300000e+04</td>\n",
       "      <td>13000.000000</td>\n",
       "      <td>2.700000e+04</td>\n",
       "      <td>water</td>\n",
       "    </tr>\n",
       "    <tr>\n",
       "      <th>660</th>\n",
       "      <td>(biosphere3, e8c62990-85c7-4f16-ab5f-76a5fc28a...</td>\n",
       "      <td>Radioactive species, Nuclides, unspecified</td>\n",
       "      <td>2.800000e+00</td>\n",
       "      <td>2.800000</td>\n",
       "      <td>3.300000e+02</td>\n",
       "      <td>water</td>\n",
       "    </tr>\n",
       "    <tr>\n",
       "      <th>770</th>\n",
       "      <td>(biosphere3, 1869fd74-ed68-4814-9596-12315b1e8...</td>\n",
       "      <td>Uranium-234</td>\n",
       "      <td>2.300000e-01</td>\n",
       "      <td>0.230000</td>\n",
       "      <td>1.600000e+00</td>\n",
       "      <td>water</td>\n",
       "    </tr>\n",
       "    <tr>\n",
       "      <th>772</th>\n",
       "      <td>(biosphere3, 4d466648-95dd-4866-97ad-6008746d3...</td>\n",
       "      <td>Uranium-235</td>\n",
       "      <td>2.200000e-01</td>\n",
       "      <td>0.220000</td>\n",
       "      <td>1.700000e+00</td>\n",
       "      <td>water</td>\n",
       "    </tr>\n",
       "    <tr>\n",
       "      <th>774</th>\n",
       "      <td>(biosphere3, 71d27d29-04f2-421a-981f-5c5c2b004...</td>\n",
       "      <td>Uranium-238</td>\n",
       "      <td>2.200000e-01</td>\n",
       "      <td>0.220000</td>\n",
       "      <td>1.600000e+00</td>\n",
       "      <td>water</td>\n",
       "    </tr>\n",
       "  </tbody>\n",
       "</table>\n",
       "</div>"
      ],
      "text/plain": [
       "                                                  code  \\\n",
       "114  (biosphere3, 9d9246d4-0ce3-4b47-8491-cf62e562a...   \n",
       "116  (biosphere3, 8bbe0b4c-5c9c-4959-a878-572f680e4...   \n",
       "152  (biosphere3, 8d8e393e-39c4-44e1-b424-8eeefcd33...   \n",
       "251  (biosphere3, deb80fa5-4d0a-427e-9526-443f88d17...   \n",
       "265  (biosphere3, 4b0d68e7-37bc-4184-93b5-91b70c62e...   \n",
       "371  (biosphere3, 9be02ae0-3170-4544-8665-f03a1b43f...   \n",
       "517  (biosphere3, 5189de76-6bbb-44ba-8c42-5714f1b43...   \n",
       "660  (biosphere3, e8c62990-85c7-4f16-ab5f-76a5fc28a...   \n",
       "770  (biosphere3, 1869fd74-ed68-4814-9596-12315b1e8...   \n",
       "772  (biosphere3, 4d466648-95dd-4866-97ad-6008746d3...   \n",
       "774  (biosphere3, 71d27d29-04f2-421a-981f-5c5c2b004...   \n",
       "\n",
       "                                           name        amount        minimum  \\\n",
       "114                                  Cesium-134  1.300000e+01       5.400000   \n",
       "116                                  Cesium-137  1.600000e+01       5.400000   \n",
       "152                                   Cobalt-60  4.200000e+00       4.200000   \n",
       "251                       Ethane, 1,2-dichloro-  4.600000e+05  120000.000000   \n",
       "265                        Ethene, tetrachloro-  1.900000e+07  150000.000000   \n",
       "371                         Hydrogen-3, Tritium  4.200000e-05       0.000042   \n",
       "517                                     Nitrate  1.300000e+04   13000.000000   \n",
       "660  Radioactive species, Nuclides, unspecified  2.800000e+00       2.800000   \n",
       "770                                 Uranium-234  2.300000e-01       0.230000   \n",
       "772                                 Uranium-235  2.200000e-01       0.220000   \n",
       "774                                 Uranium-238  2.200000e-01       0.220000   \n",
       "\n",
       "          maximum compartment  \n",
       "114  1.300000e+01       water  \n",
       "116  1.600000e+01       water  \n",
       "152  2.600000e+01       water  \n",
       "251  4.600000e+05       water  \n",
       "265  1.900000e+07       water  \n",
       "371  4.700000e-03       water  \n",
       "517  2.700000e+04       water  \n",
       "660  3.300000e+02       water  \n",
       "770  1.600000e+00       water  \n",
       "772  1.700000e+00       water  \n",
       "774  1.600000e+00       water  "
      ]
     },
     "execution_count": 44,
     "metadata": {},
     "output_type": "execute_result"
    }
   ],
   "source": [
    "minmax_archetype(cf_df)"
   ]
  },
  {
   "cell_type": "markdown",
   "metadata": {},
   "source": [
    "## cf_add_uncertainty"
   ]
  },
  {
   "cell_type": "code",
   "execution_count": 51,
   "metadata": {},
   "outputs": [],
   "source": [
    "cfs = cf_add_uncertainty(method,uncertainty_type=4)"
   ]
  },
  {
   "cell_type": "code",
   "execution_count": 48,
   "metadata": {},
   "outputs": [
    {
     "data": {
      "text/plain": [
       "1602"
      ]
     },
     "execution_count": 48,
     "metadata": {},
     "output_type": "execute_result"
    }
   ],
   "source": [
    "len(cfs)"
   ]
  },
  {
   "cell_type": "markdown",
   "metadata": {},
   "source": [
    "the result is a list of characterisation factors in the format needed to create a brightway2 method."
   ]
  },
  {
   "cell_type": "code",
   "execution_count": 49,
   "metadata": {},
   "outputs": [
    {
     "data": {
      "text/plain": [
       "1602"
      ]
     },
     "execution_count": 49,
     "metadata": {},
     "output_type": "execute_result"
    }
   ],
   "source": [
    "len(bw.Method(method).load())"
   ]
  },
  {
   "cell_type": "markdown",
   "metadata": {},
   "source": [
    "some of these are uncertain, they can be distinguished because their value is not a variable of type float but a dict"
   ]
  },
  {
   "cell_type": "code",
   "execution_count": 59,
   "metadata": {},
   "outputs": [
    {
     "data": {
      "text/plain": [
       "[(('biosphere3', '9d9246d4-0ce3-4b47-8491-cf62e562ad38'),\n",
       "  {'amount': 13.0, 'maximum': 13.0, 'minimum': 5.4, 'uncertainty type': 4}),\n",
       " (('biosphere3', '8bbe0b4c-5c9c-4959-a878-572f680e428d'),\n",
       "  {'amount': 16.0, 'maximum': 16.0, 'minimum': 5.4, 'uncertainty type': 4}),\n",
       " (('biosphere3', '8d8e393e-39c4-44e1-b424-8eeefcd33560'),\n",
       "  {'amount': 4.2, 'maximum': 26.0, 'minimum': 4.2, 'uncertainty type': 4}),\n",
       " (('biosphere3', 'deb80fa5-4d0a-427e-9526-443f88d17b53'),\n",
       "  {'amount': 460000.0,\n",
       "   'maximum': 460000.0,\n",
       "   'minimum': 120000.0,\n",
       "   'uncertainty type': 4}),\n",
       " (('biosphere3', '4b0d68e7-37bc-4184-93b5-91b70c62e585'),\n",
       "  {'amount': 19000000.0,\n",
       "   'maximum': 19000000.0,\n",
       "   'minimum': 150000.0,\n",
       "   'uncertainty type': 4}),\n",
       " (('biosphere3', '9be02ae0-3170-4544-8665-f03a1b43f2bd'),\n",
       "  {'amount': 4.2e-05,\n",
       "   'maximum': 0.0047,\n",
       "   'minimum': 4.2e-05,\n",
       "   'uncertainty type': 4}),\n",
       " (('biosphere3', '5189de76-6bbb-44ba-8c42-5714f1b4371f'),\n",
       "  {'amount': 13000.0,\n",
       "   'maximum': 27000.0,\n",
       "   'minimum': 13000.0,\n",
       "   'uncertainty type': 4}),\n",
       " (('biosphere3', 'e8c62990-85c7-4f16-ab5f-76a5fc28a2a5'),\n",
       "  {'amount': 2.8, 'maximum': 330.0, 'minimum': 2.8, 'uncertainty type': 4}),\n",
       " (('biosphere3', '1869fd74-ed68-4814-9596-12315b1e810d'),\n",
       "  {'amount': 0.23, 'maximum': 1.6, 'minimum': 0.23, 'uncertainty type': 4}),\n",
       " (('biosphere3', '4d466648-95dd-4866-97ad-6008746d32ab'),\n",
       "  {'amount': 0.22, 'maximum': 1.7, 'minimum': 0.22, 'uncertainty type': 4}),\n",
       " (('biosphere3', '71d27d29-04f2-421a-981f-5c5c2b00486f'),\n",
       "  {'amount': 0.22, 'maximum': 1.6, 'minimum': 0.22, 'uncertainty type': 4})]"
      ]
     },
     "execution_count": 59,
     "metadata": {},
     "output_type": "execute_result"
    }
   ],
   "source": [
    "[(key,cfvalue) for key,cfvalue in cfs if isinstance(cfvalue,float)==False]"
   ]
  },
  {
   "cell_type": "markdown",
   "metadata": {},
   "source": [
    "# Example with ficticious method"
   ]
  },
  {
   "cell_type": "markdown",
   "metadata": {},
   "source": [
    "## 1 unspecified flow"
   ]
  },
  {
   "cell_type": "code",
   "execution_count": 65,
   "metadata": {},
   "outputs": [],
   "source": [
    "cfs=[(('biosphere3', '051aaf7a-6c1a-4e86-999f-85d5f0830df6'),1),\n",
    " (('biosphere3', 'ddd99a3a-be86-423d-b36a-a9dc8af1b1f8'),1),\n",
    " (('biosphere3', '66f50b33-fd62-4fdd-a373-c5b0de7de00d'),1),\n",
    " (('biosphere3', '21e46cb8-6233-4c99-bac3-c41d2ab99498'),10),#unspecified\n",
    " (('biosphere3', '230d8a0a-517c-43fe-8357-1818dd12997a'),10)]\n",
    "\n",
    "test_method_name_1=('test method','1 unspecified')\n",
    "\n",
    "test_method_1=bw.Method(test_method_name_1)\n",
    "\n",
    "metadata_test_method={'description':'method to test uncertainty on archetype',\n",
    " 'unit':'DALY'}\n",
    "\n",
    "test_method_1.register(**metadata_test_method)"
   ]
  },
  {
   "cell_type": "code",
   "execution_count": 66,
   "metadata": {},
   "outputs": [],
   "source": [
    "if ('test method','1 unspecified') not in bw.methods:\n",
    "    test_method_1.write(cfs)"
   ]
  },
  {
   "cell_type": "markdown",
   "metadata": {},
   "source": [
    "create uncertain version."
   ]
  },
  {
   "cell_type": "code",
   "execution_count": 67,
   "metadata": {},
   "outputs": [],
   "source": [
    "# uncertain uniform\n",
    "cfs_uniform_t1=cf_add_uncertainty(test_method_name_1,uncertainty_type=4)\n",
    "new_method_name=('test method','1 unspecified','uncertain','uniform')\n",
    "metadata=bw.Method(test_method_name_1).metadata\n",
    "new_method=bw.Method(new_method_name)\n",
    "new_method.register(**metadata)"
   ]
  },
  {
   "cell_type": "code",
   "execution_count": 68,
   "metadata": {},
   "outputs": [],
   "source": [
    "if ('test method','1 unspecified','uncertain','uniform') not in bw.methods:\n",
    "    new_method.write(cfs_uniform_t1)"
   ]
  },
  {
   "cell_type": "code",
   "execution_count": 69,
   "metadata": {},
   "outputs": [],
   "source": [
    "# uncertain triangular\n",
    "cfs_triangular_t1=cf_add_uncertainty(test_method_name_1,uncertainty_type=5)\n",
    "new_method_name=('test method','1 unspecified','uncertain','triangular')\n",
    "metadata=bw.Method(test_method_name_1).metadata\n",
    "new_method=bw.Method(new_method_name)\n",
    "new_method.register(**metadata)"
   ]
  },
  {
   "cell_type": "code",
   "execution_count": 70,
   "metadata": {},
   "outputs": [],
   "source": [
    "if ('test method','1 unspecified','uncertain','triangular') not in bw.methods:\n",
    "    new_method.write(cfs_uniform_t1)"
   ]
  },
  {
   "cell_type": "code",
   "execution_count": 71,
   "metadata": {},
   "outputs": [],
   "source": [
    "assert bw.Method(('test method','1 unspecified','uncertain','uniform')).load() == cf_add_uncertainty(('test method','1 unspecified'))"
   ]
  },
  {
   "cell_type": "code",
   "execution_count": 72,
   "metadata": {},
   "outputs": [
    {
     "data": {
      "text/html": [
       "<div>\n",
       "<style scoped>\n",
       "    .dataframe tbody tr th:only-of-type {\n",
       "        vertical-align: middle;\n",
       "    }\n",
       "\n",
       "    .dataframe tbody tr th {\n",
       "        vertical-align: top;\n",
       "    }\n",
       "\n",
       "    .dataframe thead th {\n",
       "        text-align: right;\n",
       "    }\n",
       "</style>\n",
       "<table border=\"1\" class=\"dataframe\">\n",
       "  <thead>\n",
       "    <tr style=\"text-align: right;\">\n",
       "      <th></th>\n",
       "      <th>database</th>\n",
       "      <th>code</th>\n",
       "      <th>name</th>\n",
       "      <th>amount</th>\n",
       "      <th>unit</th>\n",
       "      <th>type</th>\n",
       "      <th>compartment</th>\n",
       "      <th>subcompartment</th>\n",
       "    </tr>\n",
       "  </thead>\n",
       "  <tbody>\n",
       "    <tr>\n",
       "      <th>0</th>\n",
       "      <td>biosphere3</td>\n",
       "      <td>051aaf7a-6c1a-4e86-999f-85d5f0830df6</td>\n",
       "      <td>Particulates, &lt; 2.5 um</td>\n",
       "      <td>1</td>\n",
       "      <td>kilogram</td>\n",
       "      <td>emission</td>\n",
       "      <td>air</td>\n",
       "      <td>low population density, long-term</td>\n",
       "    </tr>\n",
       "    <tr>\n",
       "      <th>1</th>\n",
       "      <td>biosphere3</td>\n",
       "      <td>ddd99a3a-be86-423d-b36a-a9dc8af1b1f8</td>\n",
       "      <td>Particulates, &lt; 2.5 um</td>\n",
       "      <td>1</td>\n",
       "      <td>kilogram</td>\n",
       "      <td>emission</td>\n",
       "      <td>air</td>\n",
       "      <td>lower stratosphere + upper troposphere</td>\n",
       "    </tr>\n",
       "    <tr>\n",
       "      <th>2</th>\n",
       "      <td>biosphere3</td>\n",
       "      <td>66f50b33-fd62-4fdd-a373-c5b0de7de00d</td>\n",
       "      <td>Particulates, &lt; 2.5 um</td>\n",
       "      <td>1</td>\n",
       "      <td>kilogram</td>\n",
       "      <td>emission</td>\n",
       "      <td>air</td>\n",
       "      <td>non-urban air or from high stacks</td>\n",
       "    </tr>\n",
       "    <tr>\n",
       "      <th>3</th>\n",
       "      <td>biosphere3</td>\n",
       "      <td>230d8a0a-517c-43fe-8357-1818dd12997a</td>\n",
       "      <td>Particulates, &lt; 2.5 um</td>\n",
       "      <td>10</td>\n",
       "      <td>kilogram</td>\n",
       "      <td>emission</td>\n",
       "      <td>air</td>\n",
       "      <td>urban air close to ground</td>\n",
       "    </tr>\n",
       "    <tr>\n",
       "      <th>4</th>\n",
       "      <td>biosphere3</td>\n",
       "      <td>21e46cb8-6233-4c99-bac3-c41d2ab99498</td>\n",
       "      <td>Particulates, &lt; 2.5 um</td>\n",
       "      <td>{'amount': 10, 'maximum': 10, 'minimum': 1, 'u...</td>\n",
       "      <td>kilogram</td>\n",
       "      <td>emission</td>\n",
       "      <td>air</td>\n",
       "      <td>None</td>\n",
       "    </tr>\n",
       "  </tbody>\n",
       "</table>\n",
       "</div>"
      ],
      "text/plain": [
       "     database                                  code                    name  \\\n",
       "0  biosphere3  051aaf7a-6c1a-4e86-999f-85d5f0830df6  Particulates, < 2.5 um   \n",
       "1  biosphere3  ddd99a3a-be86-423d-b36a-a9dc8af1b1f8  Particulates, < 2.5 um   \n",
       "2  biosphere3  66f50b33-fd62-4fdd-a373-c5b0de7de00d  Particulates, < 2.5 um   \n",
       "3  biosphere3  230d8a0a-517c-43fe-8357-1818dd12997a  Particulates, < 2.5 um   \n",
       "4  biosphere3  21e46cb8-6233-4c99-bac3-c41d2ab99498  Particulates, < 2.5 um   \n",
       "\n",
       "                                              amount      unit      type  \\\n",
       "0                                                  1  kilogram  emission   \n",
       "1                                                  1  kilogram  emission   \n",
       "2                                                  1  kilogram  emission   \n",
       "3                                                 10  kilogram  emission   \n",
       "4  {'amount': 10, 'maximum': 10, 'minimum': 1, 'u...  kilogram  emission   \n",
       "\n",
       "  compartment                          subcompartment  \n",
       "0         air       low population density, long-term  \n",
       "1         air  lower stratosphere + upper troposphere  \n",
       "2         air       non-urban air or from high stacks  \n",
       "3         air               urban air close to ground  \n",
       "4         air                                    None  "
      ]
     },
     "execution_count": 72,
     "metadata": {},
     "output_type": "execute_result"
    }
   ],
   "source": [
    "cf_df= get_cf_info(('test method','1 unspecified','uncertain','uniform'))\n",
    "cf_df"
   ]
  },
  {
   "cell_type": "markdown",
   "metadata": {},
   "source": [
    "some validations"
   ]
  },
  {
   "cell_type": "code",
   "execution_count": 73,
   "metadata": {},
   "outputs": [],
   "source": [
    "# get_cf_info returns the same number of cf than the method\n",
    "assert len(bw.Method(('test method','1 unspecified','uncertain','uniform')).load()) == len(get_cf_info(('test method','1 unspecified','uncertain','uniform')))"
   ]
  },
  {
   "cell_type": "code",
   "execution_count": 76,
   "metadata": {},
   "outputs": [],
   "source": [
    "#data type\n",
    "assert pd.api.types.is_numeric_dtype(get_cf_info(('test method','1 unspecified')).amount)"
   ]
  },
  {
   "cell_type": "code",
   "execution_count": 77,
   "metadata": {},
   "outputs": [],
   "source": [
    "# there is just one uncertain flow\n",
    "assert len(minmax_archetype(get_cf_info(('test method','1 unspecified'))))==1"
   ]
  },
  {
   "cell_type": "code",
   "execution_count": 78,
   "metadata": {},
   "outputs": [],
   "source": [
    "# the maximum and minimum is rightly calculated\n",
    "assert minmax_archetype(get_cf_info(('test method','1 unspecified'))).loc[0,'maximum']==\\\n",
    "get_cf_info(('test method','1 unspecified'))['amount'].max()\n",
    "\n",
    "assert minmax_archetype(get_cf_info(('test method','1 unspecified'))).loc[0,'minimum']==\\\n",
    "get_cf_info(('test method','1 unspecified'))['amount'].min()"
   ]
  },
  {
   "cell_type": "code",
   "execution_count": 79,
   "metadata": {},
   "outputs": [],
   "source": [
    "#test the fields \n",
    "cfs_uncertain=[cf for k,cf in cf_add_uncertainty(('test method','1 unspecified')) if isinstance(cf,dict)]\n",
    "\n",
    "for cf in cfs_uncertain:\n",
    "    assert 'amount' in cf\n",
    "    assert 'minimum' in cf\n",
    "    assert 'maximum' in cf\n",
    "    assert 'uncertainty type' in cf"
   ]
  },
  {
   "cell_type": "markdown",
   "metadata": {},
   "source": [
    "## 0 unnespecified flows"
   ]
  },
  {
   "cell_type": "code",
   "execution_count": 80,
   "metadata": {},
   "outputs": [],
   "source": [
    "cfs=[(('biosphere3', '051aaf7a-6c1a-4e86-999f-85d5f0830df6'),1),\n",
    " (('biosphere3', 'ddd99a3a-be86-423d-b36a-a9dc8af1b1f8'),1),\n",
    " (('biosphere3', '66f50b33-fd62-4fdd-a373-c5b0de7de00d'),1),\n",
    " #(('biosphere3', '21e46cb8-6233-4c99-bac3-c41d2ab99498'),10),#unspecified\n",
    " (('biosphere3', '230d8a0a-517c-43fe-8357-1818dd12997a'),10)]\n",
    "\n",
    "test_method_name_2=('test method','0 unspecified')\n",
    "\n",
    "test_method_2=bw.Method(test_method_name_2)\n",
    "\n",
    "metadata_test_method_2={'description':'method to test uncertainty on archetype',\n",
    " 'unit':'DALY'}\n",
    "\n",
    "test_method_2.register(**metadata_test_method_2)\n",
    "\n"
   ]
  },
  {
   "cell_type": "code",
   "execution_count": 81,
   "metadata": {},
   "outputs": [],
   "source": [
    "if ('test method','0 unspecified') not in bw.methods:\n",
    "    test_method_2.write(cfs)"
   ]
  },
  {
   "cell_type": "code",
   "execution_count": 82,
   "metadata": {},
   "outputs": [
    {
     "data": {
      "text/html": [
       "<div>\n",
       "<style scoped>\n",
       "    .dataframe tbody tr th:only-of-type {\n",
       "        vertical-align: middle;\n",
       "    }\n",
       "\n",
       "    .dataframe tbody tr th {\n",
       "        vertical-align: top;\n",
       "    }\n",
       "\n",
       "    .dataframe thead th {\n",
       "        text-align: right;\n",
       "    }\n",
       "</style>\n",
       "<table border=\"1\" class=\"dataframe\">\n",
       "  <thead>\n",
       "    <tr style=\"text-align: right;\">\n",
       "      <th></th>\n",
       "      <th>database</th>\n",
       "      <th>code</th>\n",
       "      <th>name</th>\n",
       "      <th>amount</th>\n",
       "      <th>unit</th>\n",
       "      <th>type</th>\n",
       "      <th>compartment</th>\n",
       "      <th>subcompartment</th>\n",
       "    </tr>\n",
       "  </thead>\n",
       "  <tbody>\n",
       "    <tr>\n",
       "      <th>0</th>\n",
       "      <td>biosphere3</td>\n",
       "      <td>051aaf7a-6c1a-4e86-999f-85d5f0830df6</td>\n",
       "      <td>Particulates, &lt; 2.5 um</td>\n",
       "      <td>1</td>\n",
       "      <td>kilogram</td>\n",
       "      <td>emission</td>\n",
       "      <td>air</td>\n",
       "      <td>low population density, long-term</td>\n",
       "    </tr>\n",
       "    <tr>\n",
       "      <th>1</th>\n",
       "      <td>biosphere3</td>\n",
       "      <td>ddd99a3a-be86-423d-b36a-a9dc8af1b1f8</td>\n",
       "      <td>Particulates, &lt; 2.5 um</td>\n",
       "      <td>1</td>\n",
       "      <td>kilogram</td>\n",
       "      <td>emission</td>\n",
       "      <td>air</td>\n",
       "      <td>lower stratosphere + upper troposphere</td>\n",
       "    </tr>\n",
       "    <tr>\n",
       "      <th>2</th>\n",
       "      <td>biosphere3</td>\n",
       "      <td>66f50b33-fd62-4fdd-a373-c5b0de7de00d</td>\n",
       "      <td>Particulates, &lt; 2.5 um</td>\n",
       "      <td>1</td>\n",
       "      <td>kilogram</td>\n",
       "      <td>emission</td>\n",
       "      <td>air</td>\n",
       "      <td>non-urban air or from high stacks</td>\n",
       "    </tr>\n",
       "    <tr>\n",
       "      <th>3</th>\n",
       "      <td>biosphere3</td>\n",
       "      <td>230d8a0a-517c-43fe-8357-1818dd12997a</td>\n",
       "      <td>Particulates, &lt; 2.5 um</td>\n",
       "      <td>10</td>\n",
       "      <td>kilogram</td>\n",
       "      <td>emission</td>\n",
       "      <td>air</td>\n",
       "      <td>urban air close to ground</td>\n",
       "    </tr>\n",
       "  </tbody>\n",
       "</table>\n",
       "</div>"
      ],
      "text/plain": [
       "     database                                  code                    name  \\\n",
       "0  biosphere3  051aaf7a-6c1a-4e86-999f-85d5f0830df6  Particulates, < 2.5 um   \n",
       "1  biosphere3  ddd99a3a-be86-423d-b36a-a9dc8af1b1f8  Particulates, < 2.5 um   \n",
       "2  biosphere3  66f50b33-fd62-4fdd-a373-c5b0de7de00d  Particulates, < 2.5 um   \n",
       "3  biosphere3  230d8a0a-517c-43fe-8357-1818dd12997a  Particulates, < 2.5 um   \n",
       "\n",
       "   amount      unit      type compartment  \\\n",
       "0       1  kilogram  emission         air   \n",
       "1       1  kilogram  emission         air   \n",
       "2       1  kilogram  emission         air   \n",
       "3      10  kilogram  emission         air   \n",
       "\n",
       "                           subcompartment  \n",
       "0       low population density, long-term  \n",
       "1  lower stratosphere + upper troposphere  \n",
       "2       non-urban air or from high stacks  \n",
       "3               urban air close to ground  "
      ]
     },
     "execution_count": 82,
     "metadata": {},
     "output_type": "execute_result"
    }
   ],
   "source": [
    "get_cf_info(('test method','0 unspecified'))"
   ]
  },
  {
   "cell_type": "code",
   "execution_count": 83,
   "metadata": {},
   "outputs": [],
   "source": [
    "minmax_archetype(get_cf_info(test_method_name_2))"
   ]
  },
  {
   "cell_type": "code",
   "execution_count": 84,
   "metadata": {},
   "outputs": [],
   "source": [
    "cf_add_uncertainty(('test method','0 unspecified'))"
   ]
  },
  {
   "cell_type": "code",
   "execution_count": 85,
   "metadata": {},
   "outputs": [],
   "source": [
    "assert cf_add_uncertainty(test_method_name_2) is None"
   ]
  },
  {
   "cell_type": "markdown",
   "metadata": {},
   "source": [
    "## 1 flow only, and unspecified"
   ]
  },
  {
   "cell_type": "code",
   "execution_count": 86,
   "metadata": {},
   "outputs": [],
   "source": [
    "cfs=[\n",
    " #(('biosphere3', '051aaf7a-6c1a-4e86-999f-85d5f0830df6'),1),\n",
    " #(('biosphere3', 'ddd99a3a-be86-423d-b36a-a9dc8af1b1f8'),1),\n",
    " #(('biosphere3', '66f50b33-fd62-4fdd-a373-c5b0de7de00d'),1),\n",
    " (('biosphere3', '21e46cb8-6233-4c99-bac3-c41d2ab99498'),10),#unspecified\n",
    " #(('biosphere3', '230d8a0a-517c-43fe-8357-1818dd12997a'),10)\n",
    "]\n",
    "\n",
    "test_method_name_3=('test method','1 only unspecified')\n",
    "\n",
    "test_method_3=bw.Method(test_method_name_3)\n",
    "\n",
    "metadata_test_method_3={'description':'method to test uncertainty on archetype',\n",
    " 'unit':'DALY'}\n",
    "\n",
    "test_method_3.register(**metadata_test_method_3)\n",
    "\n",
    "test_method_3.write(cfs)"
   ]
  },
  {
   "cell_type": "code",
   "execution_count": 87,
   "metadata": {},
   "outputs": [],
   "source": [
    "cf_df = get_cf_info(('test method','1 only unspecified'))"
   ]
  },
  {
   "cell_type": "code",
   "execution_count": 88,
   "metadata": {},
   "outputs": [
    {
     "data": {
      "text/html": [
       "<div>\n",
       "<style scoped>\n",
       "    .dataframe tbody tr th:only-of-type {\n",
       "        vertical-align: middle;\n",
       "    }\n",
       "\n",
       "    .dataframe tbody tr th {\n",
       "        vertical-align: top;\n",
       "    }\n",
       "\n",
       "    .dataframe thead th {\n",
       "        text-align: right;\n",
       "    }\n",
       "</style>\n",
       "<table border=\"1\" class=\"dataframe\">\n",
       "  <thead>\n",
       "    <tr style=\"text-align: right;\">\n",
       "      <th></th>\n",
       "      <th>database</th>\n",
       "      <th>code</th>\n",
       "      <th>name</th>\n",
       "      <th>amount</th>\n",
       "      <th>unit</th>\n",
       "      <th>type</th>\n",
       "      <th>compartment</th>\n",
       "      <th>subcompartment</th>\n",
       "    </tr>\n",
       "  </thead>\n",
       "  <tbody>\n",
       "    <tr>\n",
       "      <th>0</th>\n",
       "      <td>biosphere3</td>\n",
       "      <td>21e46cb8-6233-4c99-bac3-c41d2ab99498</td>\n",
       "      <td>Particulates, &lt; 2.5 um</td>\n",
       "      <td>10</td>\n",
       "      <td>kilogram</td>\n",
       "      <td>emission</td>\n",
       "      <td>air</td>\n",
       "      <td>None</td>\n",
       "    </tr>\n",
       "  </tbody>\n",
       "</table>\n",
       "</div>"
      ],
      "text/plain": [
       "     database                                  code                    name  \\\n",
       "0  biosphere3  21e46cb8-6233-4c99-bac3-c41d2ab99498  Particulates, < 2.5 um   \n",
       "\n",
       "   amount      unit      type compartment subcompartment  \n",
       "0      10  kilogram  emission         air           None  "
      ]
     },
     "execution_count": 88,
     "metadata": {},
     "output_type": "execute_result"
    }
   ],
   "source": [
    "cf_df"
   ]
  },
  {
   "cell_type": "code",
   "execution_count": 92,
   "metadata": {},
   "outputs": [],
   "source": [
    "assert cf_add_uncertainty(('test method','1 only unspecified')) is None"
   ]
  },
  {
   "cell_type": "markdown",
   "metadata": {},
   "source": [
    "## create product system example\n",
    "\n",
    "create a very simple product system for validation purposes"
   ]
  },
  {
   "cell_type": "markdown",
   "metadata": {},
   "source": [
    "activity 1"
   ]
  },
  {
   "cell_type": "code",
   "execution_count": 93,
   "metadata": {},
   "outputs": [],
   "source": [
    "act1_key=('test_db','activity_1')"
   ]
  },
  {
   "cell_type": "code",
   "execution_count": 94,
   "metadata": {},
   "outputs": [],
   "source": [
    "# a unique emission of PM in an uncertain archetype\n",
    "biosphere_exchange_1={'amount':1,\n",
    "                    'input':('biosphere3','21e46cb8-6233-4c99-bac3-c41d2ab99498'),\n",
    "                    'output':act1_key,\n",
    "                    'type':'biosphere',\n",
    "                    'uncertainty type': 0}"
   ]
  },
  {
   "cell_type": "code",
   "execution_count": 95,
   "metadata": {},
   "outputs": [],
   "source": [
    "production_exchange_1={'amount':1,\n",
    "                     'input':act1_key,\n",
    "                     'output':act1_key,\n",
    "                     'type':'production',\n",
    "                     'uncertainty type':0}"
   ]
  },
  {
   "cell_type": "code",
   "execution_count": 96,
   "metadata": {},
   "outputs": [],
   "source": [
    "act_1_dict={'name':'test_activity_1',\n",
    " 'unit':'megajoule',\n",
    " 'exchanges':[production_exchange_1,biosphere_exchange_1]}"
   ]
  },
  {
   "cell_type": "code",
   "execution_count": 97,
   "metadata": {},
   "outputs": [],
   "source": [
    "#act1_data={act1_key:act_1_dict}"
   ]
  },
  {
   "cell_type": "markdown",
   "metadata": {},
   "source": [
    "activity 2"
   ]
  },
  {
   "cell_type": "code",
   "execution_count": 98,
   "metadata": {},
   "outputs": [],
   "source": [
    "act2_key=('test_db','activity_2')"
   ]
  },
  {
   "cell_type": "code",
   "execution_count": 99,
   "metadata": {},
   "outputs": [],
   "source": [
    "production_exchange_2={'amount':1,\n",
    "                     'input':act2_key,\n",
    "                     'output':act2_key,\n",
    "                     'type':'production',\n",
    "                     'uncertainty type':0}"
   ]
  },
  {
   "cell_type": "code",
   "execution_count": 100,
   "metadata": {},
   "outputs": [],
   "source": [
    "technosphere_exchange_1={\n",
    "    'amount':10, # or negative?\n",
    "    'input':act1_key,\n",
    "    'output':act2_key,\n",
    "    'type':'technosphere',\n",
    "    'uncertainty type':3,\n",
    "    'loc':10,\n",
    "    'scale':1,\n",
    "}"
   ]
  },
  {
   "cell_type": "code",
   "execution_count": 101,
   "metadata": {},
   "outputs": [],
   "source": [
    "act_2_dict={'name':'test_activity_2','unit':'megajoule','exchanges':[production_exchange_2,technosphere_exchange_1]}"
   ]
  },
  {
   "cell_type": "code",
   "execution_count": 102,
   "metadata": {},
   "outputs": [],
   "source": [
    "#act2_data={act2_key:act_2_dict}"
   ]
  },
  {
   "cell_type": "code",
   "execution_count": 103,
   "metadata": {},
   "outputs": [],
   "source": [
    "database_dict={act1_key:act_1_dict,\n",
    "               act2_key:act_2_dict}"
   ]
  },
  {
   "cell_type": "code",
   "execution_count": 104,
   "metadata": {},
   "outputs": [],
   "source": [
    "db=bw.Database('test_db')"
   ]
  },
  {
   "cell_type": "code",
   "execution_count": 105,
   "metadata": {},
   "outputs": [
    {
     "name": "stderr",
     "output_type": "stream",
     "text": [
      "Writing activities to SQLite3 database:\n",
      "0% [##] 100% | ETA: 00:00:00\n",
      "Total time elapsed: 00:00:00\n"
     ]
    },
    {
     "name": "stdout",
     "output_type": "stream",
     "text": [
      "Title: Writing activities to SQLite3 database:\n",
      "  Started: 07/12/2020 23:15:44\n",
      "  Finished: 07/12/2020 23:15:44\n",
      "  Total time elapsed: 00:00:00\n",
      "  CPU %: 0.00\n",
      "  Memory %: 1.13\n"
     ]
    }
   ],
   "source": [
    "db.write(database_dict)"
   ]
  },
  {
   "cell_type": "markdown",
   "metadata": {},
   "source": [
    "## simplest test"
   ]
  },
  {
   "cell_type": "code",
   "execution_count": 106,
   "metadata": {},
   "outputs": [],
   "source": [
    "lca=bw.LCA({('test_db','activity_2'):1},('test method','1 unspecified'))"
   ]
  },
  {
   "cell_type": "code",
   "execution_count": 107,
   "metadata": {},
   "outputs": [
    {
     "data": {
      "text/plain": [
       "100.0"
      ]
     },
     "execution_count": 107,
     "metadata": {},
     "output_type": "execute_result"
    }
   ],
   "source": [
    "lca.lci()\n",
    "lca.lcia()\n",
    "lca.score"
   ]
  },
  {
   "cell_type": "code",
   "execution_count": 108,
   "metadata": {},
   "outputs": [
    {
     "data": {
      "text/plain": [
       "array([[  1., -10.],\n",
       "       [  0.,   1.]])"
      ]
     },
     "execution_count": 108,
     "metadata": {},
     "output_type": "execute_result"
    }
   ],
   "source": [
    "lca.technosphere_matrix.toarray()"
   ]
  },
  {
   "cell_type": "code",
   "execution_count": 113,
   "metadata": {},
   "outputs": [],
   "source": [
    "ainv=np.linalg.inv(lca.technosphere_matrix.toarray())"
   ]
  },
  {
   "cell_type": "code",
   "execution_count": 114,
   "metadata": {},
   "outputs": [
    {
     "data": {
      "text/plain": [
       "array([[1., 0.]])"
      ]
     },
     "execution_count": 114,
     "metadata": {},
     "output_type": "execute_result"
    }
   ],
   "source": [
    "(lca.biosphere_matrix.toarray()).dot((ainv.dot(np.eye(2))).T)"
   ]
  },
  {
   "cell_type": "code",
   "execution_count": 115,
   "metadata": {},
   "outputs": [
    {
     "data": {
      "text/plain": [
       "array([0., 1.])"
      ]
     },
     "execution_count": 115,
     "metadata": {},
     "output_type": "execute_result"
    }
   ],
   "source": [
    "lca.demand_array"
   ]
  },
  {
   "cell_type": "code",
   "execution_count": 116,
   "metadata": {},
   "outputs": [
    {
     "data": {
      "text/plain": [
       "array([[1., 0.]])"
      ]
     },
     "execution_count": 116,
     "metadata": {},
     "output_type": "execute_result"
    }
   ],
   "source": [
    "lca.biosphere_matrix.toarray()"
   ]
  },
  {
   "cell_type": "code",
   "execution_count": 117,
   "metadata": {},
   "outputs": [
    {
     "data": {
      "text/plain": [
       "array([10.,  1.])"
      ]
     },
     "execution_count": 117,
     "metadata": {},
     "output_type": "execute_result"
    }
   ],
   "source": [
    "lca.supply_array"
   ]
  },
  {
   "cell_type": "code",
   "execution_count": 118,
   "metadata": {},
   "outputs": [
    {
     "data": {
      "text/plain": [
       "{('test_db', 'activity_2'): 1}"
      ]
     },
     "execution_count": 118,
     "metadata": {},
     "output_type": "execute_result"
    }
   ],
   "source": [
    "lca.demand"
   ]
  },
  {
   "cell_type": "code",
   "execution_count": 120,
   "metadata": {},
   "outputs": [],
   "source": [
    "lca.switch_method(method=('test method','1 unspecified','uncertain','uniform'))"
   ]
  },
  {
   "cell_type": "code",
   "execution_count": 121,
   "metadata": {},
   "outputs": [],
   "source": [
    "lca.redo_lcia(demand={act2_key:1})"
   ]
  },
  {
   "cell_type": "code",
   "execution_count": 122,
   "metadata": {},
   "outputs": [
    {
     "data": {
      "text/plain": [
       "100.0"
      ]
     },
     "execution_count": 122,
     "metadata": {},
     "output_type": "execute_result"
    }
   ],
   "source": [
    "lca.score"
   ]
  },
  {
   "cell_type": "markdown",
   "metadata": {},
   "source": [
    "uniform"
   ]
  },
  {
   "cell_type": "code",
   "execution_count": 123,
   "metadata": {},
   "outputs": [],
   "source": [
    "mc_uncertain_u=bw.MonteCarloLCA({act2_key:1},('test method','1 unspecified','uncertain','uniform'))"
   ]
  },
  {
   "cell_type": "code",
   "execution_count": 124,
   "metadata": {},
   "outputs": [
    {
     "name": "stdout",
     "output_type": "stream",
     "text": [
      "Wall time: 11.5 s\n"
     ]
    }
   ],
   "source": [
    "%time results_uncertain_u = [next(mc_uncertain_u) for _ in range(0,10000)]"
   ]
  },
  {
   "cell_type": "code",
   "execution_count": 125,
   "metadata": {},
   "outputs": [],
   "source": [
    "mc_uncertain_t=bw.MonteCarloLCA({act2_key:1},('test method','1 unspecified','uncertain','triangular'))"
   ]
  },
  {
   "cell_type": "code",
   "execution_count": 126,
   "metadata": {},
   "outputs": [
    {
     "name": "stdout",
     "output_type": "stream",
     "text": [
      "Wall time: 11.7 s\n"
     ]
    }
   ],
   "source": [
    "%time results_uncertain_t = [next(mc_uncertain_t) for _ in range(0,10000)]"
   ]
  },
  {
   "cell_type": "code",
   "execution_count": 127,
   "metadata": {},
   "outputs": [],
   "source": [
    "mc_reference = bw.MonteCarloLCA({act2_key:1},('test method','1 unspecified'))"
   ]
  },
  {
   "cell_type": "code",
   "execution_count": 128,
   "metadata": {},
   "outputs": [
    {
     "name": "stdout",
     "output_type": "stream",
     "text": [
      "Wall time: 11.7 s\n"
     ]
    }
   ],
   "source": [
    "%time results_reference = [next(mc_reference) for _ in range(0,10000)]"
   ]
  },
  {
   "cell_type": "code",
   "execution_count": 133,
   "metadata": {},
   "outputs": [
    {
     "data": {
      "image/png": "[encoded data removed]",
      "text/plain": [
       "<Figure size 432x288 with 1 Axes>"
      ]
     },
     "metadata": {
      "needs_background": "light"
     },
     "output_type": "display_data"
    }
   ],
   "source": [
    "plt.hist(results_reference,density=True,alpha=0.7,label='static CF',bins=50);\n",
    "plt.hist(results_uncertain_u,density=True,alpha=0.5,label='uniform CF',bins=50);\n",
    "plt.hist(results_uncertain_t,density=True,alpha=0.5,label='triangular CF',bins=50);\n",
    "plt.legend();"
   ]
  },
  {
   "cell_type": "code",
   "execution_count": null,
   "metadata": {},
   "outputs": [],
   "source": []
  }
 ],
 "metadata": {
  "kernelspec": {
   "display_name": "Python 3",
   "language": "python",
   "name": "python3"
  },
  "language_info": {
   "codemirror_mode": {
    "name": "ipython",
    "version": 3
   },
   "file_extension": ".py",
   "mimetype": "text/x-python",
   "name": "python",
   "nbconvert_exporter": "python",
   "pygments_lexer": "ipython3",
   "version": "3.7.4"
  }
 },
 "nbformat": 4,
 "nbformat_minor": 4
}
