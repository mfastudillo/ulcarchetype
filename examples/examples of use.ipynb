{
 "cells": [
  {
   "cell_type": "code",
   "execution_count": 1,
   "metadata": {
    "scrolled": true
   },
   "outputs": [],
   "source": [
    "import bw2data as bd\n",
    "import bw2io as bi\n",
    "import bw2calc as bc\n",
    "from ulcarchetype.utils import get_cf_info,minmax_archetype,cf_add_uncertainty\n",
    "import pandas as pd\n",
    "import numpy as np\n",
    "import matplotlib.pyplot as plt"
   ]
  },
  {
   "cell_type": "code",
   "execution_count": 2,
   "metadata": {},
   "outputs": [],
   "source": [
    "# or instead use an existing project with the biosphere3 database and\n",
    "# standard impact assessment methods\n",
    "bd.projects.set_current('bw25')"
   ]
  },
  {
   "cell_type": "code",
   "execution_count": 3,
   "metadata": {},
   "outputs": [
    {
     "name": "stdout",
     "output_type": "stream",
     "text": [
      "Biosphere database already present!!! No setup is needed\n"
     ]
    }
   ],
   "source": [
    "bi.bw2setup()"
   ]
  },
  {
   "cell_type": "markdown",
   "metadata": {},
   "source": [
    "as example lets use a method with not many characterisation factors"
   ]
  },
  {
   "cell_type": "code",
   "execution_count": 4,
   "metadata": {},
   "outputs": [],
   "source": [
    "method = ('EF v3.0',\n",
    " 'human toxicity: non-carcinogenic, organics',\n",
    " 'comparative toxic unit for human (CTUh)')"
   ]
  },
  {
   "cell_type": "code",
   "execution_count": 5,
   "metadata": {},
   "outputs": [],
   "source": [
    "assert method in bd.methods"
   ]
  },
  {
   "cell_type": "markdown",
   "metadata": {},
   "source": [
    "## get_cf_info"
   ]
  },
  {
   "cell_type": "code",
   "execution_count": 6,
   "metadata": {},
   "outputs": [
    {
     "data": {
      "text/html": [
       "<div>\n",
       "<style scoped>\n",
       "    .dataframe tbody tr th:only-of-type {\n",
       "        vertical-align: middle;\n",
       "    }\n",
       "\n",
       "    .dataframe tbody tr th {\n",
       "        vertical-align: top;\n",
       "    }\n",
       "\n",
       "    .dataframe thead th {\n",
       "        text-align: right;\n",
       "    }\n",
       "</style>\n",
       "<table border=\"1\" class=\"dataframe\">\n",
       "  <thead>\n",
       "    <tr style=\"text-align: right;\">\n",
       "      <th></th>\n",
       "      <th>database</th>\n",
       "      <th>code</th>\n",
       "      <th>name</th>\n",
       "      <th>amount</th>\n",
       "      <th>unit</th>\n",
       "      <th>type</th>\n",
       "      <th>compartment</th>\n",
       "      <th>subcompartment</th>\n",
       "    </tr>\n",
       "  </thead>\n",
       "  <tbody>\n",
       "    <tr>\n",
       "      <th>0</th>\n",
       "      <td>biosphere3</td>\n",
       "      <td>77db8bd1-5a69-465c-b51f-7b27fbb574a5</td>\n",
       "      <td>1,2-Dichlorobenzene</td>\n",
       "      <td>2.369400e-08</td>\n",
       "      <td>kilogram</td>\n",
       "      <td>emission</td>\n",
       "      <td>air</td>\n",
       "      <td>lower stratosphere + upper troposphere</td>\n",
       "    </tr>\n",
       "    <tr>\n",
       "      <th>1</th>\n",
       "      <td>biosphere3</td>\n",
       "      <td>06a42317-47bd-481d-b5ce-e091843497c6</td>\n",
       "      <td>1,2-Dichlorobenzene</td>\n",
       "      <td>2.369400e-08</td>\n",
       "      <td>kilogram</td>\n",
       "      <td>emission</td>\n",
       "      <td>air</td>\n",
       "      <td>non-urban air or from high stacks</td>\n",
       "    </tr>\n",
       "    <tr>\n",
       "      <th>2</th>\n",
       "      <td>biosphere3</td>\n",
       "      <td>b1c36287-329c-49f0-93c2-68246d34007c</td>\n",
       "      <td>1,2-Dichlorobenzene</td>\n",
       "      <td>4.165200e-08</td>\n",
       "      <td>kilogram</td>\n",
       "      <td>emission</td>\n",
       "      <td>air</td>\n",
       "      <td>None</td>\n",
       "    </tr>\n",
       "    <tr>\n",
       "      <th>3</th>\n",
       "      <td>biosphere3</td>\n",
       "      <td>9645e02f-855a-4b9f-8baf-f34a08fa80c4</td>\n",
       "      <td>1,2-Dichlorobenzene</td>\n",
       "      <td>5.961000e-08</td>\n",
       "      <td>kilogram</td>\n",
       "      <td>emission</td>\n",
       "      <td>air</td>\n",
       "      <td>urban air close to ground</td>\n",
       "    </tr>\n",
       "    <tr>\n",
       "      <th>4</th>\n",
       "      <td>biosphere3</td>\n",
       "      <td>59af2a59-f4ed-43a0-b5ab-887de45b9571</td>\n",
       "      <td>1,2-Dichlorobenzene</td>\n",
       "      <td>3.555500e-07</td>\n",
       "      <td>kilogram</td>\n",
       "      <td>emission</td>\n",
       "      <td>water</td>\n",
       "      <td>ground-</td>\n",
       "    </tr>\n",
       "    <tr>\n",
       "      <th>...</th>\n",
       "      <td>...</td>\n",
       "      <td>...</td>\n",
       "      <td>...</td>\n",
       "      <td>...</td>\n",
       "      <td>...</td>\n",
       "      <td>...</td>\n",
       "      <td>...</td>\n",
       "      <td>...</td>\n",
       "    </tr>\n",
       "    <tr>\n",
       "      <th>1592</th>\n",
       "      <td>biosphere3</td>\n",
       "      <td>0f3a98cd-b692-4801-86b5-b2222a953417</td>\n",
       "      <td>t-Butyl methyl ether</td>\n",
       "      <td>4.705400e-08</td>\n",
       "      <td>kilogram</td>\n",
       "      <td>emission</td>\n",
       "      <td>water</td>\n",
       "      <td>ground-</td>\n",
       "    </tr>\n",
       "    <tr>\n",
       "      <th>1593</th>\n",
       "      <td>biosphere3</td>\n",
       "      <td>c5b4869c-f131-4a8c-911f-f252cafb2e30</td>\n",
       "      <td>t-Butyl methyl ether</td>\n",
       "      <td>1.378900e-10</td>\n",
       "      <td>kilogram</td>\n",
       "      <td>emission</td>\n",
       "      <td>water</td>\n",
       "      <td>ocean</td>\n",
       "    </tr>\n",
       "    <tr>\n",
       "      <th>1594</th>\n",
       "      <td>biosphere3</td>\n",
       "      <td>77fd3c56-5c3e-4070-93fa-de03fa455d47</td>\n",
       "      <td>t-Butyl methyl ether</td>\n",
       "      <td>4.705400e-08</td>\n",
       "      <td>kilogram</td>\n",
       "      <td>emission</td>\n",
       "      <td>water</td>\n",
       "      <td>surface water</td>\n",
       "    </tr>\n",
       "    <tr>\n",
       "      <th>1595</th>\n",
       "      <td>biosphere3</td>\n",
       "      <td>3d59d864-b6c3-4315-ab21-2c2ba2119ad1</td>\n",
       "      <td>t-Butyl methyl ether</td>\n",
       "      <td>2.359600e-08</td>\n",
       "      <td>kilogram</td>\n",
       "      <td>emission</td>\n",
       "      <td>water</td>\n",
       "      <td>None</td>\n",
       "    </tr>\n",
       "    <tr>\n",
       "      <th>1596</th>\n",
       "      <td>biosphere3</td>\n",
       "      <td>92681c17-2514-4151-aabf-baee3fd8e5f5</td>\n",
       "      <td>tau-Fluvalinate</td>\n",
       "      <td>3.331800e-06</td>\n",
       "      <td>kilogram</td>\n",
       "      <td>emission</td>\n",
       "      <td>soil</td>\n",
       "      <td>agricultural</td>\n",
       "    </tr>\n",
       "  </tbody>\n",
       "</table>\n",
       "<p>1597 rows × 8 columns</p>\n",
       "</div>"
      ],
      "text/plain": [
       "        database                                  code                  name  \\\n",
       "0     biosphere3  77db8bd1-5a69-465c-b51f-7b27fbb574a5   1,2-Dichlorobenzene   \n",
       "1     biosphere3  06a42317-47bd-481d-b5ce-e091843497c6   1,2-Dichlorobenzene   \n",
       "2     biosphere3  b1c36287-329c-49f0-93c2-68246d34007c   1,2-Dichlorobenzene   \n",
       "3     biosphere3  9645e02f-855a-4b9f-8baf-f34a08fa80c4   1,2-Dichlorobenzene   \n",
       "4     biosphere3  59af2a59-f4ed-43a0-b5ab-887de45b9571   1,2-Dichlorobenzene   \n",
       "...          ...                                   ...                   ...   \n",
       "1592  biosphere3  0f3a98cd-b692-4801-86b5-b2222a953417  t-Butyl methyl ether   \n",
       "1593  biosphere3  c5b4869c-f131-4a8c-911f-f252cafb2e30  t-Butyl methyl ether   \n",
       "1594  biosphere3  77fd3c56-5c3e-4070-93fa-de03fa455d47  t-Butyl methyl ether   \n",
       "1595  biosphere3  3d59d864-b6c3-4315-ab21-2c2ba2119ad1  t-Butyl methyl ether   \n",
       "1596  biosphere3  92681c17-2514-4151-aabf-baee3fd8e5f5       tau-Fluvalinate   \n",
       "\n",
       "            amount      unit      type compartment  \\\n",
       "0     2.369400e-08  kilogram  emission         air   \n",
       "1     2.369400e-08  kilogram  emission         air   \n",
       "2     4.165200e-08  kilogram  emission         air   \n",
       "3     5.961000e-08  kilogram  emission         air   \n",
       "4     3.555500e-07  kilogram  emission       water   \n",
       "...            ...       ...       ...         ...   \n",
       "1592  4.705400e-08  kilogram  emission       water   \n",
       "1593  1.378900e-10  kilogram  emission       water   \n",
       "1594  4.705400e-08  kilogram  emission       water   \n",
       "1595  2.359600e-08  kilogram  emission       water   \n",
       "1596  3.331800e-06  kilogram  emission        soil   \n",
       "\n",
       "                              subcompartment  \n",
       "0     lower stratosphere + upper troposphere  \n",
       "1          non-urban air or from high stacks  \n",
       "2                                       None  \n",
       "3                  urban air close to ground  \n",
       "4                                    ground-  \n",
       "...                                      ...  \n",
       "1592                                 ground-  \n",
       "1593                                   ocean  \n",
       "1594                           surface water  \n",
       "1595                                    None  \n",
       "1596                            agricultural  \n",
       "\n",
       "[1597 rows x 8 columns]"
      ]
     },
     "execution_count": 6,
     "metadata": {},
     "output_type": "execute_result"
    }
   ],
   "source": [
    "cf_df = get_cf_info(method)\n",
    "cf_df"
   ]
  },
  {
   "cell_type": "markdown",
   "metadata": {},
   "source": [
    "## minmax_archetype"
   ]
  },
  {
   "cell_type": "code",
   "execution_count": 7,
   "metadata": {},
   "outputs": [
    {
     "data": {
      "text/html": [
       "<div>\n",
       "<style scoped>\n",
       "    .dataframe tbody tr th:only-of-type {\n",
       "        vertical-align: middle;\n",
       "    }\n",
       "\n",
       "    .dataframe tbody tr th {\n",
       "        vertical-align: top;\n",
       "    }\n",
       "\n",
       "    .dataframe thead th {\n",
       "        text-align: right;\n",
       "    }\n",
       "</style>\n",
       "<table border=\"1\" class=\"dataframe\">\n",
       "  <thead>\n",
       "    <tr style=\"text-align: right;\">\n",
       "      <th></th>\n",
       "      <th>code</th>\n",
       "      <th>name</th>\n",
       "      <th>amount</th>\n",
       "      <th>minimum</th>\n",
       "      <th>maximum</th>\n",
       "      <th>compartment</th>\n",
       "    </tr>\n",
       "  </thead>\n",
       "  <tbody>\n",
       "    <tr>\n",
       "      <th>0</th>\n",
       "      <td>(biosphere3, b1c36287-329c-49f0-93c2-68246d340...</td>\n",
       "      <td>1,2-Dichlorobenzene</td>\n",
       "      <td>4.165200e-08</td>\n",
       "      <td>2.369400e-08</td>\n",
       "      <td>5.961000e-08</td>\n",
       "      <td>air</td>\n",
       "    </tr>\n",
       "    <tr>\n",
       "      <th>1</th>\n",
       "      <td>(biosphere3, 67070d27-426e-43e9-98e8-309952f78...</td>\n",
       "      <td>1,2-Dichlorobenzene</td>\n",
       "      <td>2.231600e-07</td>\n",
       "      <td>9.076500e-08</td>\n",
       "      <td>3.555500e-07</td>\n",
       "      <td>water</td>\n",
       "    </tr>\n",
       "    <tr>\n",
       "      <th>2</th>\n",
       "      <td>(biosphere3, 048baf1e-6cdc-44a5-92e2-32d15ff54...</td>\n",
       "      <td>1-Pentanol</td>\n",
       "      <td>3.323500e-08</td>\n",
       "      <td>3.579800e-09</td>\n",
       "      <td>6.289000e-08</td>\n",
       "      <td>air</td>\n",
       "    </tr>\n",
       "    <tr>\n",
       "      <th>3</th>\n",
       "      <td>(biosphere3, 070dc6b3-0976-45a0-803e-0a87d7e96...</td>\n",
       "      <td>1-Pentanol</td>\n",
       "      <td>3.727400e-09</td>\n",
       "      <td>7.726900e-11</td>\n",
       "      <td>7.377500e-09</td>\n",
       "      <td>water</td>\n",
       "    </tr>\n",
       "    <tr>\n",
       "      <th>12</th>\n",
       "      <td>(biosphere3, 47bee45d-6d2b-48a6-a0c8-fcb8debc7...</td>\n",
       "      <td>2-Methyl-1-propanol</td>\n",
       "      <td>1.504400e-09</td>\n",
       "      <td>9.821500e-10</td>\n",
       "      <td>2.026600e-09</td>\n",
       "      <td>air</td>\n",
       "    </tr>\n",
       "    <tr>\n",
       "      <th>...</th>\n",
       "      <td>...</td>\n",
       "      <td>...</td>\n",
       "      <td>...</td>\n",
       "      <td>...</td>\n",
       "      <td>...</td>\n",
       "      <td>...</td>\n",
       "    </tr>\n",
       "    <tr>\n",
       "      <th>737</th>\n",
       "      <td>(biosphere3, f9f12076-1cdf-4a3d-a70d-eab640038...</td>\n",
       "      <td>o-Nitrotoluene</td>\n",
       "      <td>9.750900e-07</td>\n",
       "      <td>2.914700e-07</td>\n",
       "      <td>1.658700e-06</td>\n",
       "      <td>air</td>\n",
       "    </tr>\n",
       "    <tr>\n",
       "      <th>738</th>\n",
       "      <td>(biosphere3, 527d6cb5-bbd7-403d-8dcc-b6678fb12...</td>\n",
       "      <td>o-Xylene</td>\n",
       "      <td>6.495700e-08</td>\n",
       "      <td>6.073100e-09</td>\n",
       "      <td>1.238400e-07</td>\n",
       "      <td>air</td>\n",
       "    </tr>\n",
       "    <tr>\n",
       "      <th>739</th>\n",
       "      <td>(biosphere3, 1b279330-0469-4d04-9fe2-4e9a38011...</td>\n",
       "      <td>o-Xylene</td>\n",
       "      <td>6.889700e-09</td>\n",
       "      <td>9.287000e-10</td>\n",
       "      <td>1.285100e-08</td>\n",
       "      <td>water</td>\n",
       "    </tr>\n",
       "    <tr>\n",
       "      <th>740</th>\n",
       "      <td>(biosphere3, beb69352-568e-4a33-b9d4-3b5bfafc8...</td>\n",
       "      <td>t-Butyl methyl ether</td>\n",
       "      <td>3.114300e-09</td>\n",
       "      <td>8.883600e-10</td>\n",
       "      <td>5.340200e-09</td>\n",
       "      <td>air</td>\n",
       "    </tr>\n",
       "    <tr>\n",
       "      <th>741</th>\n",
       "      <td>(biosphere3, 3d59d864-b6c3-4315-ab21-2c2ba2119...</td>\n",
       "      <td>t-Butyl methyl ether</td>\n",
       "      <td>2.359600e-08</td>\n",
       "      <td>1.378900e-10</td>\n",
       "      <td>4.705400e-08</td>\n",
       "      <td>water</td>\n",
       "    </tr>\n",
       "  </tbody>\n",
       "</table>\n",
       "<p>206 rows × 6 columns</p>\n",
       "</div>"
      ],
      "text/plain": [
       "                                                  code                  name  \\\n",
       "0    (biosphere3, b1c36287-329c-49f0-93c2-68246d340...   1,2-Dichlorobenzene   \n",
       "1    (biosphere3, 67070d27-426e-43e9-98e8-309952f78...   1,2-Dichlorobenzene   \n",
       "2    (biosphere3, 048baf1e-6cdc-44a5-92e2-32d15ff54...            1-Pentanol   \n",
       "3    (biosphere3, 070dc6b3-0976-45a0-803e-0a87d7e96...            1-Pentanol   \n",
       "12   (biosphere3, 47bee45d-6d2b-48a6-a0c8-fcb8debc7...   2-Methyl-1-propanol   \n",
       "..                                                 ...                   ...   \n",
       "737  (biosphere3, f9f12076-1cdf-4a3d-a70d-eab640038...        o-Nitrotoluene   \n",
       "738  (biosphere3, 527d6cb5-bbd7-403d-8dcc-b6678fb12...              o-Xylene   \n",
       "739  (biosphere3, 1b279330-0469-4d04-9fe2-4e9a38011...              o-Xylene   \n",
       "740  (biosphere3, beb69352-568e-4a33-b9d4-3b5bfafc8...  t-Butyl methyl ether   \n",
       "741  (biosphere3, 3d59d864-b6c3-4315-ab21-2c2ba2119...  t-Butyl methyl ether   \n",
       "\n",
       "           amount       minimum       maximum compartment  \n",
       "0    4.165200e-08  2.369400e-08  5.961000e-08         air  \n",
       "1    2.231600e-07  9.076500e-08  3.555500e-07       water  \n",
       "2    3.323500e-08  3.579800e-09  6.289000e-08         air  \n",
       "3    3.727400e-09  7.726900e-11  7.377500e-09       water  \n",
       "12   1.504400e-09  9.821500e-10  2.026600e-09         air  \n",
       "..            ...           ...           ...         ...  \n",
       "737  9.750900e-07  2.914700e-07  1.658700e-06         air  \n",
       "738  6.495700e-08  6.073100e-09  1.238400e-07         air  \n",
       "739  6.889700e-09  9.287000e-10  1.285100e-08       water  \n",
       "740  3.114300e-09  8.883600e-10  5.340200e-09         air  \n",
       "741  2.359600e-08  1.378900e-10  4.705400e-08       water  \n",
       "\n",
       "[206 rows x 6 columns]"
      ]
     },
     "execution_count": 7,
     "metadata": {},
     "output_type": "execute_result"
    }
   ],
   "source": [
    "minmax_archetype(cf_df)"
   ]
  },
  {
   "cell_type": "markdown",
   "metadata": {},
   "source": [
    "## cf_add_uncertainty"
   ]
  },
  {
   "cell_type": "code",
   "execution_count": 8,
   "metadata": {},
   "outputs": [],
   "source": [
    "cfs = cf_add_uncertainty(method,uncertainty_type=4)"
   ]
  },
  {
   "cell_type": "code",
   "execution_count": 9,
   "metadata": {},
   "outputs": [
    {
     "data": {
      "text/plain": [
       "1597"
      ]
     },
     "execution_count": 9,
     "metadata": {},
     "output_type": "execute_result"
    }
   ],
   "source": [
    "len(cfs)"
   ]
  },
  {
   "cell_type": "markdown",
   "metadata": {},
   "source": [
    "the result is a list of characterisation factors in the format needed to create a brightway2 method."
   ]
  },
  {
   "cell_type": "code",
   "execution_count": 10,
   "metadata": {},
   "outputs": [
    {
     "data": {
      "text/plain": [
       "1597"
      ]
     },
     "execution_count": 10,
     "metadata": {},
     "output_type": "execute_result"
    }
   ],
   "source": [
    "len(bd.Method(method).load())"
   ]
  },
  {
   "cell_type": "markdown",
   "metadata": {},
   "source": [
    "some of these are uncertain, they can be distinguished because their value is not a variable of type float but a dict"
   ]
  },
  {
   "cell_type": "code",
   "execution_count": 11,
   "metadata": {},
   "outputs": [
    {
     "data": {
      "text/plain": [
       "[(('biosphere3', 'b1c36287-329c-49f0-93c2-68246d34007c'),\n",
       "  {'amount': 4.1652e-08,\n",
       "   'maximum': 5.961e-08,\n",
       "   'minimum': 2.3694e-08,\n",
       "   'uncertainty type': 4}),\n",
       " (('biosphere3', '67070d27-426e-43e9-98e8-309952f78140'),\n",
       "  {'amount': 2.2316e-07,\n",
       "   'maximum': 3.5555e-07,\n",
       "   'minimum': 9.0765e-08,\n",
       "   'uncertainty type': 4}),\n",
       " (('biosphere3', '048baf1e-6cdc-44a5-92e2-32d15ff54885'),\n",
       "  {'amount': 3.3235e-08,\n",
       "   'maximum': 6.289e-08,\n",
       "   'minimum': 3.5798e-09,\n",
       "   'uncertainty type': 4}),\n",
       " (('biosphere3', '070dc6b3-0976-45a0-803e-0a87d7e96959'),\n",
       "  {'amount': 3.7274e-09,\n",
       "   'maximum': 7.3775e-09,\n",
       "   'minimum': 7.7269e-11,\n",
       "   'uncertainty type': 4}),\n",
       " (('biosphere3', '47bee45d-6d2b-48a6-a0c8-fcb8debc7f5d'),\n",
       "  {'amount': 1.5044e-09,\n",
       "   'maximum': 2.0266e-09,\n",
       "   'minimum': 9.8215e-10,\n",
       "   'uncertainty type': 4}),\n",
       " (('biosphere3', '446e7a93-6ac4-4bdf-b97d-03f683c7488c'),\n",
       "  {'amount': 9.9659e-09,\n",
       "   'maximum': 1.9908e-08,\n",
       "   'minimum': 2.3996e-11,\n",
       "   'uncertainty type': 4}),\n",
       " (('biosphere3', '4e44630f-4197-4f05-809f-0fef07fba7d3'),\n",
       "  {'amount': 1.9132e-09,\n",
       "   'maximum': 3.7816e-09,\n",
       "   'minimum': 4.4829e-11,\n",
       "   'uncertainty type': 4}),\n",
       " (('biosphere3', '23868338-42bc-4baf-a9e2-8e84ff8c92f1'),\n",
       "  {'amount': 1.077e-08,\n",
       "   'maximum': 2.0945e-08,\n",
       "   'minimum': 5.9573e-10,\n",
       "   'uncertainty type': 4}),\n",
       " (('biosphere3', '479edec6-763c-49fc-83f8-49780f08cf29'),\n",
       "  {'amount': 3.8458e-09,\n",
       "   'maximum': 5.4579e-09,\n",
       "   'minimum': 2.2336e-09,\n",
       "   'uncertainty type': 4}),\n",
       " (('biosphere3', 'e92a1310-603c-4346-85b8-e4e3192cd75c'),\n",
       "  {'amount': 1.7484e-08,\n",
       "   'maximum': 3.4924e-08,\n",
       "   'minimum': 4.3296e-11,\n",
       "   'uncertainty type': 4}),\n",
       " (('biosphere3', '1eefb686-03de-4dc8-933a-e3b7459438da'),\n",
       "  {'amount': 3.259e-07,\n",
       "   'maximum': 6.2049e-07,\n",
       "   'minimum': 3.1306e-08,\n",
       "   'uncertainty type': 4}),\n",
       " (('biosphere3', '8114f79d-41eb-42f2-99d8-159db57d3bcb'),\n",
       "  {'amount': 3.5385e-08,\n",
       "   'maximum': 7.0075e-08,\n",
       "   'minimum': 6.9604e-10,\n",
       "   'uncertainty type': 4}),\n",
       " (('biosphere3', '56e7c4ee-29a0-4d90-a44d-ee7e7faade83'),\n",
       "  {'amount': 6.5622e-08,\n",
       "   'maximum': 1.3085e-07,\n",
       "   'minimum': 3.9349e-10,\n",
       "   'uncertainty type': 4}),\n",
       " (('biosphere3', '53214ef0-3cc1-4166-920b-08ca46f7c457'),\n",
       "  {'amount': 1.0969e-09,\n",
       "   'maximum': 2.0363e-09,\n",
       "   'minimum': 1.5749e-10,\n",
       "   'uncertainty type': 4}),\n",
       " (('biosphere3', 'f9d36529-abde-4ed2-a82c-d365ae2c713f'),\n",
       "  {'amount': 5.5957e-09,\n",
       "   'maximum': 1.1163e-08,\n",
       "   'minimum': 2.8819e-11,\n",
       "   'uncertainty type': 4}),\n",
       " (('biosphere3', 'a4f6341b-1762-4222-9024-bfd91f63588f'),\n",
       "  {'amount': 2.3273e-07,\n",
       "   'maximum': 4.448e-07,\n",
       "   'minimum': 6.4882e-09,\n",
       "   'uncertainty type': 4}),\n",
       " (('biosphere3', '1f4afa32-a9a2-40da-8396-104452cb637f'),\n",
       "  {'amount': 2.8557e-08,\n",
       "   'maximum': 5.4391e-08,\n",
       "   'minimum': 2.7232e-09,\n",
       "   'uncertainty type': 4}),\n",
       " (('biosphere3', '8732d8b5-7f41-498c-be37-5bcd7a802ee6'),\n",
       "  {'amount': 3.2203e-08,\n",
       "   'maximum': 6.0407e-08,\n",
       "   'minimum': 3.9995e-09,\n",
       "   'uncertainty type': 4}),\n",
       " (('biosphere3', 'e3e8f6a2-c45e-4685-9859-698b2eadaf5b'),\n",
       "  {'amount': 4.8498e-07,\n",
       "   'maximum': 9.2612e-07,\n",
       "   'minimum': 4.3835e-08,\n",
       "   'uncertainty type': 4}),\n",
       " (('biosphere3', '4b51a9d0-4100-49c1-8d47-ec47eb51c58a'),\n",
       "  {'amount': 2.2794e-07,\n",
       "   'maximum': 4.5275e-07,\n",
       "   'minimum': 3.1243e-09,\n",
       "   'uncertainty type': 4}),\n",
       " (('biosphere3', 'd157416d-db9b-4f88-a7f3-a9a5f1ea88f2'),\n",
       "  {'amount': 1.0702e-06,\n",
       "   'maximum': 2.0294e-06,\n",
       "   'minimum': 1.1109e-07,\n",
       "   'uncertainty type': 4}),\n",
       " (('biosphere3', '3cea246d-706f-4280-ac52-3c7590e8fa7f'),\n",
       "  {'amount': 9.8283e-09,\n",
       "   'maximum': 1.9652e-08,\n",
       "   'minimum': 4.7749e-12,\n",
       "   'uncertainty type': 4}),\n",
       " (('biosphere3', 'd4f209e8-335f-4a2f-9384-77a23fbc7dee'),\n",
       "  {'amount': 5.525e-06,\n",
       "   'maximum': 8.4645e-06,\n",
       "   'minimum': 2.5854e-06,\n",
       "   'uncertainty type': 4}),\n",
       " (('biosphere3', 'f3d5fd96-8805-4d3d-867a-5df27975b07f'),\n",
       "  {'amount': 5.3529e-09,\n",
       "   'maximum': 8.7755e-09,\n",
       "   'minimum': 1.9303e-09,\n",
       "   'uncertainty type': 4}),\n",
       " (('biosphere3', 'd78a3d22-4bed-4ad3-8a9c-1cc4645188d0'),\n",
       "  {'amount': 4.3465e-09,\n",
       "   'maximum': 8.6041e-09,\n",
       "   'minimum': 8.8955e-11,\n",
       "   'uncertainty type': 4}),\n",
       " (('biosphere3', 'ff45a199-18e0-4777-886b-e2d0422d2f82'),\n",
       "  {'amount': 7.3813e-09,\n",
       "   'maximum': 1.1411e-08,\n",
       "   'minimum': 3.3516e-09,\n",
       "   'uncertainty type': 4}),\n",
       " (('biosphere3', 'cbaca555-e09c-4dc6-bdc3-60e6f8a784f9'),\n",
       "  {'amount': 1.2181e-08,\n",
       "   'maximum': 2.4188e-08,\n",
       "   'minimum': 1.7337e-10,\n",
       "   'uncertainty type': 4}),\n",
       " (('biosphere3', 'd896ced7-a107-4017-b284-d95a8ef3e735'),\n",
       "  {'amount': 0.00072772,\n",
       "   'maximum': 0.001404,\n",
       "   'minimum': 5.1404e-05,\n",
       "   'uncertainty type': 4}),\n",
       " (('biosphere3', 'faca26d7-b953-4dd6-94a9-7b8975452e1c'),\n",
       "  {'amount': 2.9424e-07,\n",
       "   'maximum': 5.4372e-07,\n",
       "   'minimum': 4.4769e-08,\n",
       "   'uncertainty type': 4}),\n",
       " (('biosphere3', '981ea86a-b527-4e29-b092-f16d2cd57e45'),\n",
       "  {'amount': 1.8174e-06,\n",
       "   'maximum': 3.2912e-06,\n",
       "   'minimum': 3.4363e-07,\n",
       "   'uncertainty type': 4}),\n",
       " (('biosphere3', '2c5362e9-ff22-46b4-9dad-3c765df0ac3f'),\n",
       "  {'amount': 4.6736e-07,\n",
       "   'maximum': 8.1369e-07,\n",
       "   'minimum': 1.2103e-07,\n",
       "   'uncertainty type': 4}),\n",
       " (('biosphere3', '06f0a67c-ec68-435d-8c32-0decd79a4a1a'),\n",
       "  {'amount': 3.0072e-08,\n",
       "   'maximum': 5.7223e-08,\n",
       "   'minimum': 3.1693e-09,\n",
       "   'uncertainty type': 4}),\n",
       " (('biosphere3', 'ffcd4d88-aeb9-491c-ae8c-98838ed38b4d'),\n",
       "  {'amount': 8.9947e-07,\n",
       "   'maximum': 1.6616e-06,\n",
       "   'minimum': 1.3736e-07,\n",
       "   'uncertainty type': 4}),\n",
       " (('biosphere3', '09f735ea-0a87-4e19-a660-d044db3a7118'),\n",
       "  {'amount': 4.0336e-08,\n",
       "   'maximum': 8.0647e-08,\n",
       "   'minimum': 2.4295e-11,\n",
       "   'uncertainty type': 4}),\n",
       " (('biosphere3', 'd30c7d00-977b-44f7-bab1-eb11c2a5c589'),\n",
       "  {'amount': 6.2226e-08,\n",
       "   'maximum': 1.0172e-07,\n",
       "   'minimum': 2.2733e-08,\n",
       "   'uncertainty type': 4}),\n",
       " (('biosphere3', '10d26189-a688-4859-8aa9-525e058a07f0'),\n",
       "  {'amount': 2.0158e-08,\n",
       "   'maximum': 3.8002e-08,\n",
       "   'minimum': 2.3127e-09,\n",
       "   'uncertainty type': 4}),\n",
       " (('biosphere3', '28999907-a8a7-45b3-857e-836495ca2aa0'),\n",
       "  {'amount': 1.5518e-07,\n",
       "   'maximum': 2.6063e-07,\n",
       "   'minimum': 4.9738e-08,\n",
       "   'uncertainty type': 4}),\n",
       " (('biosphere3', '31ba993d-f8aa-44c0-bae1-b6c2081144f6'),\n",
       "  {'amount': 1.0361e-07,\n",
       "   'maximum': 2.006e-07,\n",
       "   'minimum': 6.6204e-09,\n",
       "   'uncertainty type': 4}),\n",
       " (('biosphere3', '7f886a09-50b2-49c1-8fdf-d330c90556a1'),\n",
       "  {'amount': 2.6284e-08,\n",
       "   'maximum': 4.8776e-08,\n",
       "   'minimum': 3.7914e-09,\n",
       "   'uncertainty type': 4}),\n",
       " (('biosphere3', '88ef28f1-cfd5-44a0-ac34-01acf2db84a0'),\n",
       "  {'amount': 1.0807e-08,\n",
       "   'maximum': 1.992e-08,\n",
       "   'minimum': 1.6931e-09,\n",
       "   'uncertainty type': 4}),\n",
       " (('biosphere3', '3dd549fd-825c-4ceb-a5f9-2988d322dc5d'),\n",
       "  {'amount': 2.4175e-08,\n",
       "   'maximum': 4.6506e-08,\n",
       "   'minimum': 1.8444e-09,\n",
       "   'uncertainty type': 4}),\n",
       " (('biosphere3', '04f42988-6207-4d09-a91f-155be8d27eb0'),\n",
       "  {'amount': 2.4547e-05,\n",
       "   'maximum': 2.5771e-05,\n",
       "   'minimum': 2.3323e-05,\n",
       "   'uncertainty type': 4}),\n",
       " (('biosphere3', '6a9ef0ac-2a82-492b-90f7-7f8d09995bbc'),\n",
       "  {'amount': 2.5668e-05,\n",
       "   'maximum': 2.7153e-05,\n",
       "   'minimum': 2.4183e-05,\n",
       "   'uncertainty type': 4}),\n",
       " (('biosphere3', '5934e254-ca2a-4cd8-92fa-3c9bbf1779ec'),\n",
       "  {'amount': 2.121e-08,\n",
       "   'maximum': 4.2401e-08,\n",
       "   'minimum': 1.9327e-11,\n",
       "   'uncertainty type': 4}),\n",
       " (('biosphere3', '5064da53-d4ec-44ee-ba23-b20a4f8c4964'),\n",
       "  {'amount': 1.2301e-09,\n",
       "   'maximum': 2.4194e-09,\n",
       "   'minimum': 4.0821e-11,\n",
       "   'uncertainty type': 4}),\n",
       " (('biosphere3', '982b0510-96ac-4bcb-a758-e98006b95f4d'),\n",
       "  {'amount': 7.3545e-10,\n",
       "   'maximum': 1.2927e-09,\n",
       "   'minimum': 1.782e-10,\n",
       "   'uncertainty type': 4}),\n",
       " (('biosphere3', 'b9a9b2ad-5db3-47aa-81de-3a48ae9ad4ec'),\n",
       "  {'amount': 4.232e-09,\n",
       "   'maximum': 5.8883e-09,\n",
       "   'minimum': 2.5756e-09,\n",
       "   'uncertainty type': 4}),\n",
       " (('biosphere3', 'b50d8d03-7e88-4b29-9d10-67bbe01bdbc6'),\n",
       "  {'amount': 2.8692e-08,\n",
       "   'maximum': 5.732e-08,\n",
       "   'minimum': 6.3307e-11,\n",
       "   'uncertainty type': 4}),\n",
       " (('biosphere3', '91f6386a-af2e-4bbb-a05c-62e4483b1bcf'),\n",
       "  {'amount': 3.3512e-10,\n",
       "   'maximum': 6.5332e-10,\n",
       "   'minimum': 1.6924e-11,\n",
       "   'uncertainty type': 4}),\n",
       " (('biosphere3', '700969dc-4def-4093-98a0-adbb65771fcd'),\n",
       "  {'amount': 1.1562e-09,\n",
       "   'maximum': 2.2832e-09,\n",
       "   'minimum': 2.9221e-11,\n",
       "   'uncertainty type': 4}),\n",
       " (('biosphere3', 'da3d541f-0063-4ddf-9b0d-7ba7b8cb6ec7'),\n",
       "  {'amount': 2.242e-09,\n",
       "   'maximum': 3.9151e-09,\n",
       "   'minimum': 5.6895e-10,\n",
       "   'uncertainty type': 4}),\n",
       " (('biosphere3', '7198aaf8-0acc-428d-8da0-558911e24f95'),\n",
       "  {'amount': 7.325e-09,\n",
       "   'maximum': 1.4569e-08,\n",
       "   'minimum': 8.0793e-11,\n",
       "   'uncertainty type': 4}),\n",
       " (('biosphere3', 'd94a5a1a-bc06-48fd-b6d9-7477ea65cacd'),\n",
       "  {'amount': 4.2277e-05,\n",
       "   'maximum': 4.5481e-05,\n",
       "   'minimum': 3.9074e-05,\n",
       "   'uncertainty type': 4}),\n",
       " (('biosphere3', '38574d8f-e0f9-4a7c-8edc-70193e608c57'),\n",
       "  {'amount': 1.7517e-05,\n",
       "   'maximum': 3.1141e-05,\n",
       "   'minimum': 3.8921e-06,\n",
       "   'uncertainty type': 4}),\n",
       " (('biosphere3', '9eb7a71d-0e15-4cf3-b8db-4b2ccf87380a'),\n",
       "  {'amount': 8.1052e-07,\n",
       "   'maximum': 1.3271e-06,\n",
       "   'minimum': 2.9392e-07,\n",
       "   'uncertainty type': 4}),\n",
       " (('biosphere3', 'c8bd2194-b2fc-47c3-bd0b-3341e4b23970'),\n",
       "  {'amount': 8.8681e-08,\n",
       "   'maximum': 1.7733e-07,\n",
       "   'minimum': 3.5077e-11,\n",
       "   'uncertainty type': 4}),\n",
       " (('biosphere3', 'dcfaa97f-8eb6-4aa4-822f-2b0dc3e89df9'),\n",
       "  {'amount': 3.7556e-05,\n",
       "   'maximum': 7.4889e-05,\n",
       "   'minimum': 2.2375e-07,\n",
       "   'uncertainty type': 4}),\n",
       " (('biosphere3', '2a51889e-9264-45df-9753-64c25a755d9e'),\n",
       "  {'amount': 9.2599e-07,\n",
       "   'maximum': 1.7174e-06,\n",
       "   'minimum': 1.3459e-07,\n",
       "   'uncertainty type': 4}),\n",
       " (('biosphere3', 'd3f2bf47-65db-4bc7-8334-eb5107e7585a'),\n",
       "  {'amount': 1.2358e-06,\n",
       "   'maximum': 2.448e-06,\n",
       "   'minimum': 2.3582e-08,\n",
       "   'uncertainty type': 4}),\n",
       " (('biosphere3', 'fbf6ab3a-74e3-4cbe-b61d-959728bdce46'),\n",
       "  {'amount': 7.9401e-07,\n",
       "   'maximum': 1.057e-06,\n",
       "   'minimum': 5.3098e-07,\n",
       "   'uncertainty type': 4}),\n",
       " (('biosphere3', '3d5051b0-08d6-40ef-8d0c-de90edb39c39'),\n",
       "  {'amount': 4.5658e-07,\n",
       "   'maximum': 6.5061e-07,\n",
       "   'minimum': 2.6256e-07,\n",
       "   'uncertainty type': 4}),\n",
       " (('biosphere3', 'fa442f6a-4fc6-4c57-942b-c84c6c41c8b4'),\n",
       "  {'amount': 2.829e-09,\n",
       "   'maximum': 4.3489e-09,\n",
       "   'minimum': 1.3091e-09,\n",
       "   'uncertainty type': 4}),\n",
       " (('biosphere3', '26202571-16f9-48c3-bf4d-e9c189f43b2c'),\n",
       "  {'amount': 9.2909e-09,\n",
       "   'maximum': 1.6844e-08,\n",
       "   'minimum': 1.7373e-09,\n",
       "   'uncertainty type': 4}),\n",
       " (('biosphere3', 'a192f5ac-fb5d-4e14-ac11-3c38283da9d0'),\n",
       "  {'amount': 7.6913e-09,\n",
       "   'maximum': 1.414e-08,\n",
       "   'minimum': 1.2422e-09,\n",
       "   'uncertainty type': 4}),\n",
       " (('biosphere3', '7a3b6567-5f36-4142-b390-15fbf940e206'),\n",
       "  {'amount': 2.5132e-08,\n",
       "   'maximum': 4.7521e-08,\n",
       "   'minimum': 2.7424e-09,\n",
       "   'uncertainty type': 4}),\n",
       " (('biosphere3', '165aaeac-93d1-4afd-adf2-e3d6c0eaf629'),\n",
       "  {'amount': 2.6694e-09,\n",
       "   'maximum': 4.9665e-09,\n",
       "   'minimum': 3.7232e-10,\n",
       "   'uncertainty type': 4}),\n",
       " (('biosphere3', '53a12896-8a5b-40b6-81ff-24379f17a050'),\n",
       "  {'amount': 5.4976e-09,\n",
       "   'maximum': 1.057e-08,\n",
       "   'minimum': 4.2499e-10,\n",
       "   'uncertainty type': 4}),\n",
       " (('biosphere3', '34698efa-71c8-4fec-9a43-6529f45887ac'),\n",
       "  {'amount': 8.9646e-08,\n",
       "   'maximum': 1.6607e-07,\n",
       "   'minimum': 1.3218e-08,\n",
       "   'uncertainty type': 4}),\n",
       " (('biosphere3', '7e241410-2dec-4320-baf0-cebc3b52e2ca'),\n",
       "  {'amount': 1.0111e-06,\n",
       "   'maximum': 2.0216e-06,\n",
       "   'minimum': 6.4504e-10,\n",
       "   'uncertainty type': 4}),\n",
       " (('biosphere3', 'af7f6412-a55f-4799-b7bc-a3f69d0cc8cb'),\n",
       "  {'amount': 1.9861e-07,\n",
       "   'maximum': 3.2839e-07,\n",
       "   'minimum': 6.8825e-08,\n",
       "   'uncertainty type': 4}),\n",
       " (('biosphere3', 'ecc90a90-aec5-4ffc-88ba-e29a3e9884ac'),\n",
       "  {'amount': 2.4915e-08,\n",
       "   'maximum': 4.9822e-08,\n",
       "   'minimum': 8.7317e-12,\n",
       "   'uncertainty type': 4}),\n",
       " (('biosphere3', 'dbe2e16b-e0f9-4743-914c-50c8b11682c8'),\n",
       "  {'amount': 1.1274e-09,\n",
       "   'maximum': 2.1997e-09,\n",
       "   'minimum': 5.5088e-11,\n",
       "   'uncertainty type': 4}),\n",
       " (('biosphere3', 'acfeda73-2eee-4ca2-ad41-e8c564e75cec'),\n",
       "  {'amount': 5.5681e-11,\n",
       "   'maximum': 9.8279e-11,\n",
       "   'minimum': 1.3083e-11,\n",
       "   'uncertainty type': 4}),\n",
       " (('biosphere3', 'd49e5257-e655-4e9f-adbc-b8763137b76c'),\n",
       "  {'amount': 1.3767e-10,\n",
       "   'maximum': 2.7374e-10,\n",
       "   'minimum': 1.6083e-12,\n",
       "   'uncertainty type': 4}),\n",
       " (('biosphere3', 'f5ce0b83-d178-4f50-b1cb-844091b7f0bc'),\n",
       "  {'amount': 1.3828e-07,\n",
       "   'maximum': 2.3741e-07,\n",
       "   'minimum': 3.9156e-08,\n",
       "   'uncertainty type': 4}),\n",
       " (('biosphere3', '20185046-64bb-4c09-a8e7-e8a9e144ca98'),\n",
       "  {'amount': 1.6045e-08,\n",
       "   'maximum': 1.609e-08,\n",
       "   'minimum': 1.6e-08,\n",
       "   'uncertainty type': 4}),\n",
       " (('biosphere3', 'ad273394-b76d-4c19-a140-3112bdec8524'),\n",
       "  {'amount': 1.9323e-07,\n",
       "   'maximum': 3.8206e-07,\n",
       "   'minimum': 4.4082e-09,\n",
       "   'uncertainty type': 4}),\n",
       " (('biosphere3', '101c756f-d7af-4c18-826f-2144b6a54f5f'),\n",
       "  {'amount': 2.752e-08,\n",
       "   'maximum': 5.4955e-08,\n",
       "   'minimum': 8.559e-11,\n",
       "   'uncertainty type': 4}),\n",
       " (('biosphere3', 'd547f43d-63e3-4928-ae85-28e6fd7aabc5'),\n",
       "  {'amount': 5.5791e-07,\n",
       "   'maximum': 7.7226e-07,\n",
       "   'minimum': 3.4356e-07,\n",
       "   'uncertainty type': 4}),\n",
       " (('biosphere3', '8e30c990-5ed4-4f94-9d0e-2f5e4ff1a1f9'),\n",
       "  {'amount': 1.8405e-09,\n",
       "   'maximum': 2.6648e-09,\n",
       "   'minimum': 1.0162e-09,\n",
       "   'uncertainty type': 4}),\n",
       " (('biosphere3', '468111da-3988-4c54-b6a0-b8feb1b5e5da'),\n",
       "  {'amount': 1.0959e-07,\n",
       "   'maximum': 2.1511e-07,\n",
       "   'minimum': 4.068e-09,\n",
       "   'uncertainty type': 4}),\n",
       " (('biosphere3', 'e87f039d-d9ce-4242-ac18-c9284cc80f3d'),\n",
       "  {'amount': 4.9633e-10,\n",
       "   'maximum': 5.1599e-10,\n",
       "   'minimum': 4.7668e-10,\n",
       "   'uncertainty type': 4}),\n",
       " (('biosphere3', 'ce6294f5-2ed7-46ee-a967-33e265e34455'),\n",
       "  {'amount': 1.6249e-08,\n",
       "   'maximum': 1.7557e-08,\n",
       "   'minimum': 1.4942e-08,\n",
       "   'uncertainty type': 4}),\n",
       " (('biosphere3', 'c8e5538f-17a1-4f62-aa64-39a91adb5cd3'),\n",
       "  {'amount': 1.0546e-08,\n",
       "   'maximum': 1.7061e-08,\n",
       "   'minimum': 4.0308e-09,\n",
       "   'uncertainty type': 4}),\n",
       " (('biosphere3', 'cacfd448-6c2d-4061-9363-fd506b979f25'),\n",
       "  {'amount': 3.7028e-09,\n",
       "   'maximum': 5.0826e-09,\n",
       "   'minimum': 2.323e-09,\n",
       "   'uncertainty type': 4}),\n",
       " (('biosphere3', '9cf9bf0e-86fe-42c0-90cc-bfed96fbdc8f'),\n",
       "  {'amount': 2.0924e-10,\n",
       "   'maximum': 2.3929e-10,\n",
       "   'minimum': 1.7919e-10,\n",
       "   'uncertainty type': 4}),\n",
       " (('biosphere3', '03758df7-503a-400e-bc7b-ec05825761a5'),\n",
       "  {'amount': 4.9325e-07,\n",
       "   'maximum': 7.506e-07,\n",
       "   'minimum': 2.3589e-07,\n",
       "   'uncertainty type': 4}),\n",
       " (('biosphere3', 'deb80fa5-4d0a-427e-9526-443f88d17b53'),\n",
       "  {'amount': 1.3757e-07,\n",
       "   'maximum': 2.3039e-07,\n",
       "   'minimum': 4.4758e-08,\n",
       "   'uncertainty type': 4}),\n",
       " (('biosphere3', '050da0cd-2957-45a9-ae7a-ace372083fe5'),\n",
       "  {'amount': 3.7784e-07,\n",
       "   'maximum': 4.3192e-07,\n",
       "   'minimum': 3.2376e-07,\n",
       "   'uncertainty type': 4}),\n",
       " (('biosphere3', 'a9362d7a-627f-414b-96c2-e61e56c77fb8'),\n",
       "  {'amount': 1.7654e-05,\n",
       "   'maximum': 2.6112e-05,\n",
       "   'minimum': 9.1958e-06,\n",
       "   'uncertainty type': 4}),\n",
       " (('biosphere3', 'acc39720-dda7-4b3a-80c7-c6394cad4191'),\n",
       "  {'amount': 1.7201e-08,\n",
       "   'maximum': 1.7237e-08,\n",
       "   'minimum': 1.7165e-08,\n",
       "   'uncertainty type': 4}),\n",
       " (('biosphere3', '281e1011-f121-4d5b-ad4d-22d562b2c2cd'),\n",
       "  {'amount': 1.3502e-09,\n",
       "   'maximum': 1.3667e-09,\n",
       "   'minimum': 1.3336e-09,\n",
       "   'uncertainty type': 4}),\n",
       " (('biosphere3', 'd3f5d0b9-0155-4800-9dbb-b0583948c8c6'),\n",
       "  {'amount': 1.9768e-09,\n",
       "   'maximum': 3.5037e-09,\n",
       "   'minimum': 4.5002e-10,\n",
       "   'uncertainty type': 4}),\n",
       " (('biosphere3', 'fdb29dc7-261d-4f8f-8e7d-c73899480bf8'),\n",
       "  {'amount': 1.1624e-09,\n",
       "   'maximum': 2.3194e-09,\n",
       "   'minimum': 5.3679e-12,\n",
       "   'uncertainty type': 4}),\n",
       " (('biosphere3', '8077467e-8d30-46cc-ab55-5759286eebd3'),\n",
       "  {'amount': 4.3895e-09,\n",
       "   'maximum': 7.5893e-09,\n",
       "   'minimum': 1.1897e-09,\n",
       "   'uncertainty type': 4}),\n",
       " (('biosphere3', '43a7aa3a-a34d-467a-943f-4a263ebe8df3'),\n",
       "  {'amount': 1.9677e-09,\n",
       "   'maximum': 3.8507e-09,\n",
       "   'minimum': 8.4713e-11,\n",
       "   'uncertainty type': 4}),\n",
       " (('biosphere3', '90f722bf-cb9b-571a-88fc-34286632bdc4'),\n",
       "  {'amount': 6.5652e-10,\n",
       "   'maximum': 1.2288e-09,\n",
       "   'minimum': 8.428e-11,\n",
       "   'uncertainty type': 4}),\n",
       " (('biosphere3', 'f3a3227c-39f4-4383-8007-8b3b0c33467a'),\n",
       "  {'amount': 1.6178e-09,\n",
       "   'maximum': 3.2187e-09,\n",
       "   'minimum': 1.695e-11,\n",
       "   'uncertainty type': 4}),\n",
       " (('biosphere3', '397c6564-d1c4-41f5-a4ff-4832874f397f'),\n",
       "  {'amount': 1.1645e-06,\n",
       "   'maximum': 2.262e-06,\n",
       "   'minimum': 6.709e-08,\n",
       "   'uncertainty type': 4}),\n",
       " (('biosphere3', '0650f48f-c6c9-44ae-ac49-c3bae05220c3'),\n",
       "  {'amount': 2.2515e-07,\n",
       "   'maximum': 4.5023e-07,\n",
       "   'minimum': 7.7062e-11,\n",
       "   'uncertainty type': 4}),\n",
       " (('biosphere3', '45e23e23-d952-4721-a514-2acfa5bfcab5'),\n",
       "  {'amount': 8.9223e-08,\n",
       "   'maximum': 1.44e-07,\n",
       "   'minimum': 3.4446e-08,\n",
       "   'uncertainty type': 4}),\n",
       " (('biosphere3', 'b608516c-d577-4957-bcaa-851c7377ada8'),\n",
       "  {'amount': 9.3769e-08,\n",
       "   'maximum': 1.8747e-07,\n",
       "   'minimum': 6.4096e-11,\n",
       "   'uncertainty type': 4}),\n",
       " (('biosphere3', '4407dc37-09ec-4d52-b65a-9c3f0a88306d'),\n",
       "  {'amount': 2.0352e-07,\n",
       "   'maximum': 3.1625e-07,\n",
       "   'minimum': 9.0796e-08,\n",
       "   'uncertainty type': 4}),\n",
       " (('biosphere3', '8e037b16-1a38-4220-996e-9f11e89ff194'),\n",
       "  {'amount': 4.5398e-07,\n",
       "   'maximum': 8.9968e-07,\n",
       "   'minimum': 8.2842e-09,\n",
       "   'uncertainty type': 4}),\n",
       " (('biosphere3', 'a861cfae-a310-4e9d-b9eb-5d555c9a684c'),\n",
       "  {'amount': 1.6359e-07,\n",
       "   'maximum': 2.5947e-07,\n",
       "   'minimum': 6.7715e-08,\n",
       "   'uncertainty type': 4}),\n",
       " (('biosphere3', '66729b69-c76f-43b2-bd9a-4a03c4983afd'),\n",
       "  {'amount': 1.6187e-07,\n",
       "   'maximum': 3.236e-07,\n",
       "   'minimum': 1.2872e-10,\n",
       "   'uncertainty type': 4}),\n",
       " (('biosphere3', '1d8ba55c-e60b-45ef-8e66-d947d8e7a01f'),\n",
       "  {'amount': 3.9236e-07,\n",
       "   'maximum': 4.351e-07,\n",
       "   'minimum': 3.4963e-07,\n",
       "   'uncertainty type': 4}),\n",
       " (('biosphere3', 'f127acc1-4904-448c-9b46-e0c4d2da8bda'),\n",
       "  {'amount': 1.2452e-07,\n",
       "   'maximum': 2.4899e-07,\n",
       "   'minimum': 4.3561e-11,\n",
       "   'uncertainty type': 4}),\n",
       " (('biosphere3', '27804c78-5eee-47f9-9a91-1f6126ccfe45'),\n",
       "  {'amount': 7.2024e-08,\n",
       "   'maximum': 1.3405e-07,\n",
       "   'minimum': 9.9982e-09,\n",
       "   'uncertainty type': 4}),\n",
       " (('biosphere3', '97f92a10-ea74-463f-a9d7-3c852b6aab4c'),\n",
       "  {'amount': 6.2131e-09,\n",
       "   'maximum': 1.2423e-08,\n",
       "   'minimum': 3.4317e-12,\n",
       "   'uncertainty type': 4}),\n",
       " (('biosphere3', '6185fd6b-02a7-4db5-a5dd-f4b7445f9ce5'),\n",
       "  {'amount': 1.6306e-06,\n",
       "   'maximum': 3.2255e-06,\n",
       "   'minimum': 3.1857e-08,\n",
       "   'uncertainty type': 4}),\n",
       " (('biosphere3', '284d6491-de2c-4124-95db-7732cbb5136c'),\n",
       "  {'amount': 3.5731e-06,\n",
       "   'maximum': 6.9979e-06,\n",
       "   'minimum': 1.4829e-07,\n",
       "   'uncertainty type': 4}),\n",
       " (('biosphere3', '8a4f6db6-dfe0-4247-8b0b-142ed2b7aab6'),\n",
       "  {'amount': 5.7131e-08,\n",
       "   'maximum': 1.1423e-07,\n",
       "   'minimum': 2.6967e-11,\n",
       "   'uncertainty type': 4}),\n",
       " (('biosphere3', '1ec6c4b4-ee5f-4788-8683-c95a84d6d63c'),\n",
       "  {'amount': 3.7499e-10,\n",
       "   'maximum': 6.9518e-10,\n",
       "   'minimum': 5.4795e-11,\n",
       "   'uncertainty type': 4}),\n",
       " (('biosphere3', '4b1af256-23b8-4e53-8148-cf52040f5ad7'),\n",
       "  {'amount': 1.5411e-06,\n",
       "   'maximum': 3.0816e-06,\n",
       "   'minimum': 1.2368e-08,\n",
       "   'uncertainty type': 4}),\n",
       " (('biosphere3', '5bd325f2-8c4b-4e1f-bb84-2f58900f4d51'),\n",
       "  {'amount': 4.559e-09,\n",
       "   'maximum': 6.586e-09,\n",
       "   'minimum': 2.532e-09,\n",
       "   'uncertainty type': 4}),\n",
       " (('biosphere3', '6b248529-b754-4be7-8b1a-91b9756fc2bc'),\n",
       "  {'amount': 1.3035e-07,\n",
       "   'maximum': 2.3928e-07,\n",
       "   'minimum': 2.1425e-08,\n",
       "   'uncertainty type': 4}),\n",
       " (('biosphere3', '856f0506-79b3-42c1-8faa-3e9f8699c28d'),\n",
       "  {'amount': 1.4586e-07,\n",
       "   'maximum': 2.7073e-07,\n",
       "   'minimum': 2.0986e-08,\n",
       "   'uncertainty type': 4}),\n",
       " (('biosphere3', '3cca7f02-58b0-4b49-9938-e0f8bea03064'),\n",
       "  {'amount': 1.3179e-07,\n",
       "   'maximum': 1.3402e-07,\n",
       "   'minimum': 1.2956e-07,\n",
       "   'uncertainty type': 4}),\n",
       " (('biosphere3', '04abe114-7939-4935-9281-49e5d89cc1bc'),\n",
       "  {'amount': 1.9221e-07,\n",
       "   'maximum': 2.9829e-07,\n",
       "   'minimum': 8.6117e-08,\n",
       "   'uncertainty type': 4}),\n",
       " (('biosphere3', 'e620a933-c348-4e7e-8893-ab0a0f681c7e'),\n",
       "  {'amount': 1.9604e-08,\n",
       "   'maximum': 3.6238e-08,\n",
       "   'minimum': 2.5961e-09,\n",
       "   'uncertainty type': 4}),\n",
       " (('biosphere3', '6296baee-87bd-4e6e-bd20-c1578b7a7247'),\n",
       "  {'amount': 2.8976e-07,\n",
       "   'maximum': 5.087e-07,\n",
       "   'minimum': 7.0817e-08,\n",
       "   'uncertainty type': 4}),\n",
       " (('biosphere3', 'd7853477-ebdb-4339-aecf-c1837f963bed'),\n",
       "  {'amount': 1.6882e-05,\n",
       "   'maximum': 3.2076e-05,\n",
       "   'minimum': 4.3512e-07,\n",
       "   'uncertainty type': 4}),\n",
       " (('biosphere3', '0c209634-80bb-4909-8442-3189b7cb01d7'),\n",
       "  {'amount': 4.9917e-09,\n",
       "   'maximum': 9.8781e-09,\n",
       "   'minimum': 1.0535e-10,\n",
       "   'uncertainty type': 4}),\n",
       " (('biosphere3', '8c283de2-50d3-40c8-8bff-1e172c3398f8'),\n",
       "  {'amount': 8.2121e-05,\n",
       "   'maximum': 0.00010008,\n",
       "   'minimum': 6.4166e-05,\n",
       "   'uncertainty type': 4}),\n",
       " (('biosphere3', '18c582fe-7336-4138-8797-2db8b7a754c7'),\n",
       "  {'amount': 1.0533e-08,\n",
       "   'maximum': 1.0919e-08,\n",
       "   'minimum': 1.0147e-08,\n",
       "   'uncertainty type': 4}),\n",
       " (('biosphere3', '432a3326-73f8-4752-bc4d-06b7b4b1243c'),\n",
       "  {'amount': 6.4574e-07,\n",
       "   'maximum': 9.0919e-07,\n",
       "   'minimum': 3.8228e-07,\n",
       "   'uncertainty type': 4}),\n",
       " (('biosphere3', '75c80de0-a0fa-45e2-9f7b-f6fa4e4431e1'),\n",
       "  {'amount': 2.3855e-07,\n",
       "   'maximum': 4.4908e-07,\n",
       "   'minimum': 2.8017e-08,\n",
       "   'uncertainty type': 4}),\n",
       " (('biosphere3', '151212b4-079b-43a2-96d5-a6eef59166ac'),\n",
       "  {'amount': 8.42e-10,\n",
       "   'maximum': 8.8085e-10,\n",
       "   'minimum': 8.0314e-10,\n",
       "   'uncertainty type': 4}),\n",
       " (('biosphere3', '0795345f-c7ae-410c-ad25-1845784c75f5'),\n",
       "  {'amount': 4.8548e-08,\n",
       "   'maximum': 5.0095e-08,\n",
       "   'minimum': 4.7001e-08,\n",
       "   'uncertainty type': 4}),\n",
       " (('biosphere3', '7f0ba7c9-341e-413d-80f6-8753727d65d1'),\n",
       "  {'amount': 4.8548e-08,\n",
       "   'maximum': 5.0095e-08,\n",
       "   'minimum': 4.7001e-08,\n",
       "   'uncertainty type': 4}),\n",
       " (('biosphere3', '18ea247b-edc2-43fe-89bd-cedd04102bcc'),\n",
       "  {'amount': 1.9896e-08,\n",
       "   'maximum': 2.4261e-08,\n",
       "   'minimum': 1.5531e-08,\n",
       "   'uncertainty type': 4}),\n",
       " (('biosphere3', 'da1157e2-7593-4dfd-80dd-a3449b37a4d8'),\n",
       "  {'amount': 4.8548e-08,\n",
       "   'maximum': 5.0095e-08,\n",
       "   'minimum': 4.7001e-08,\n",
       "   'uncertainty type': 4}),\n",
       " (('biosphere3', '86d12e70-0c64-4ecf-ba52-114fa0c5d402'),\n",
       "  {'amount': 8.0891e-06,\n",
       "   'maximum': 8.3428e-06,\n",
       "   'minimum': 7.8354e-06,\n",
       "   'uncertainty type': 4}),\n",
       " (('biosphere3', '9a366c85-61a0-48bd-8af0-a2a96b327bc1'),\n",
       "  {'amount': 4.6024e-06,\n",
       "   'maximum': 7.1713e-06,\n",
       "   'minimum': 2.0336e-06,\n",
       "   'uncertainty type': 4}),\n",
       " (('biosphere3', '51e99a55-bcdb-4d18-9484-6de4b142e09d'),\n",
       "  {'amount': 4.7182e-08,\n",
       "   'maximum': 6.4842e-08,\n",
       "   'minimum': 2.9521e-08,\n",
       "   'uncertainty type': 4}),\n",
       " (('biosphere3', '4ddc40ac-2b6a-4f7f-8f8a-db439b443263'),\n",
       "  {'amount': 3.339e-06,\n",
       "   'maximum': 3.3748e-06,\n",
       "   'minimum': 3.3032e-06,\n",
       "   'uncertainty type': 4}),\n",
       " (('biosphere3', '0ebdb68a-f50d-4b0c-ad4b-3a1104d8b454'),\n",
       "  {'amount': 3.9861e-09,\n",
       "   'maximum': 5.5382e-09,\n",
       "   'minimum': 2.4341e-09,\n",
       "   'uncertainty type': 4}),\n",
       " (('biosphere3', 'ee2c5c6c-ff01-4151-8332-d4bf1508c759'),\n",
       "  {'amount': 7.7659e-09,\n",
       "   'maximum': 1.5506e-08,\n",
       "   'minimum': 2.5397e-11,\n",
       "   'uncertainty type': 4}),\n",
       " (('biosphere3', 'bd70c699-1ea1-4bb1-b23d-bc771d7d6311'),\n",
       "  {'amount': 1.7057e-08,\n",
       "   'maximum': 2.6616e-08,\n",
       "   'minimum': 7.4978e-09,\n",
       "   'uncertainty type': 4}),\n",
       " (('biosphere3', 'c2f5d202-daf5-4e73-87ec-2c4fc75b832c'),\n",
       "  {'amount': 4.4409e-08,\n",
       "   'maximum': 8.8246e-08,\n",
       "   'minimum': 5.7314e-10,\n",
       "   'uncertainty type': 4}),\n",
       " (('biosphere3', '39c49db2-409a-4d5d-93f5-454535398965'),\n",
       "  {'amount': 5.6631e-08,\n",
       "   'maximum': 1.0445e-07,\n",
       "   'minimum': 8.8166e-09,\n",
       "   'uncertainty type': 4}),\n",
       " (('biosphere3', '85fa4541-289d-4e24-9664-09efa68fe470'),\n",
       "  {'amount': 2.0241e-07,\n",
       "   'maximum': 4.0382e-07,\n",
       "   'minimum': 1.0019e-09,\n",
       "   'uncertainty type': 4}),\n",
       " (('biosphere3', '971246f7-14d9-4ad5-98da-fc147dd8800f'),\n",
       "  {'amount': 1.3551e-08,\n",
       "   'maximum': 1.5111e-08,\n",
       "   'minimum': 1.1991e-08,\n",
       "   'uncertainty type': 4}),\n",
       " (('biosphere3', 'd5a6fcba-b958-4b06-b193-b712eeb65cf4'),\n",
       "  {'amount': 1.3804e-07,\n",
       "   'maximum': 2.757e-07,\n",
       "   'minimum': 3.836e-10,\n",
       "   'uncertainty type': 4}),\n",
       " (('biosphere3', 'd3709c7e-7c61-45a4-92e4-f7cf95ebe3a2'),\n",
       "  {'amount': 7.8919e-10,\n",
       "   'maximum': 1.154e-09,\n",
       "   'minimum': 4.2436e-10,\n",
       "   'uncertainty type': 4}),\n",
       " (('biosphere3', '4877b7b5-0ac1-47f7-96bd-677179544c9f'),\n",
       "  {'amount': 7.0677e-08,\n",
       "   'maximum': 1.1092e-07,\n",
       "   'minimum': 3.0431e-08,\n",
       "   'uncertainty type': 4}),\n",
       " (('biosphere3', 'c28194ca-3ebc-4f8b-a456-f133e8d0aaee'),\n",
       "  {'amount': 1.6045e-07,\n",
       "   'maximum': 3.1808e-07,\n",
       "   'minimum': 2.8116e-09,\n",
       "   'uncertainty type': 4}),\n",
       " (('biosphere3', 'be13179a-7e8b-57f8-9852-137ce88a1525'),\n",
       "  {'amount': 3.9761e-07,\n",
       "   'maximum': 7.7539e-07,\n",
       "   'minimum': 1.9833e-08,\n",
       "   'uncertainty type': 4}),\n",
       " (('biosphere3', 'd3ac53b1-17d5-40e7-b51d-422e16316404'),\n",
       "  {'amount': 4.7667e-09,\n",
       "   'maximum': 9.5302e-09,\n",
       "   'minimum': 3.2737e-12,\n",
       "   'uncertainty type': 4}),\n",
       " (('biosphere3', 'bce77a75-c399-4fa6-94ab-90d0e704ebde'),\n",
       "  {'amount': 6.1334e-10,\n",
       "   'maximum': 9.3672e-10,\n",
       "   'minimum': 2.8996e-10,\n",
       "   'uncertainty type': 4}),\n",
       " (('biosphere3', '60340c7f-e9ce-474f-ac08-a6d4d9f864fc'),\n",
       "  {'amount': 4.0977e-10,\n",
       "   'maximum': 6.6678e-10,\n",
       "   'minimum': 1.5276e-10,\n",
       "   'uncertainty type': 4}),\n",
       " (('biosphere3', '9f550c00-0f0f-45e7-a29c-a450752d4c7a'),\n",
       "  {'amount': 8.9971e-07,\n",
       "   'maximum': 1.7615e-06,\n",
       "   'minimum': 3.7956e-08,\n",
       "   'uncertainty type': 4}),\n",
       " (('biosphere3', 'd3260d0e-8203-4cbb-a45a-6a13131a5108'),\n",
       "  {'amount': 6.2186e-08,\n",
       "   'maximum': 1.1026e-07,\n",
       "   'minimum': 1.4112e-08,\n",
       "   'uncertainty type': 4}),\n",
       " (('biosphere3', '3be7ab07-a4fd-4d32-a31f-134d2c5b5143'),\n",
       "  {'amount': 2.7628e-06,\n",
       "   'maximum': 4.3843e-06,\n",
       "   'minimum': 1.1413e-06,\n",
       "   'uncertainty type': 4}),\n",
       " (('biosphere3', '183aa819-941d-48b4-9d47-7e725d1813bb'),\n",
       "  {'amount': 2.5081e-06,\n",
       "   'maximum': 4.974e-06,\n",
       "   'minimum': 4.2266e-08,\n",
       "   'uncertainty type': 4}),\n",
       " (('biosphere3', '21f77eaa-6f3e-426d-8932-fde33cd936d6'),\n",
       "  {'amount': 1.3536e-09,\n",
       "   'maximum': 1.9907e-09,\n",
       "   'minimum': 2.7526e-10,\n",
       "   'uncertainty type': 4}),\n",
       " (('biosphere3', '6da0e891-3648-43a5-b0cf-f1872c57db8d'),\n",
       "  {'amount': 1.9604e-08,\n",
       "   'maximum': 3.6238e-08,\n",
       "   'minimum': 2.5961e-09,\n",
       "   'uncertainty type': 4}),\n",
       " (('biosphere3', '3e5d7d91-67d7-4afb-91dd-36fab58e4685'),\n",
       "  {'amount': 1.1047e-06,\n",
       "   'maximum': 2.1074e-06,\n",
       "   'minimum': 1.0201e-07,\n",
       "   'uncertainty type': 4}),\n",
       " (('biosphere3', 'f21b8022-f20d-4752-8cd6-728f56cf9c43'),\n",
       "  {'amount': 2.8976e-07,\n",
       "   'maximum': 5.087e-07,\n",
       "   'minimum': 7.0817e-08,\n",
       "   'uncertainty type': 4}),\n",
       " (('biosphere3', 'c955fc32-da91-468e-8f65-5aca2c8aa4cc'),\n",
       "  {'amount': 4.3932e-05,\n",
       "   'maximum': 6.1834e-05,\n",
       "   'minimum': 2.6031e-05,\n",
       "   'uncertainty type': 4}),\n",
       " (('biosphere3', '516606eb-99f6-4e8c-b99a-6b439aaed48c'),\n",
       "  {'amount': 2.4938e-10,\n",
       "   'maximum': 4.4936e-10,\n",
       "   'minimum': 4.9403e-11,\n",
       "   'uncertainty type': 4}),\n",
       " (('biosphere3', '5896c761-4e02-4573-8747-c4bbf73162c0'),\n",
       "  {'amount': 1.2024e-07,\n",
       "   'maximum': 2.1339e-07,\n",
       "   'minimum': 2.7102e-08,\n",
       "   'uncertainty type': 4}),\n",
       " (('biosphere3', '39153cb9-a8fe-4fc8-beef-1bf1edceb8e7'),\n",
       "  {'amount': 8.7899e-08,\n",
       "   'maximum': 1.757e-07,\n",
       "   'minimum': 9.5473e-11,\n",
       "   'uncertainty type': 4}),\n",
       " (('biosphere3', 'd45eed0a-e60a-46bb-a769-494f037c71bc'),\n",
       "  {'amount': 2.0535e-05,\n",
       "   'maximum': 2.5587e-05,\n",
       "   'minimum': 1.5482e-05,\n",
       "   'uncertainty type': 4}),\n",
       " (('biosphere3', 'cec6e39b-700c-432f-8c80-4840b0ddc92e'),\n",
       "  {'amount': 1.8176e-05,\n",
       "   'maximum': 1.8598e-05,\n",
       "   'minimum': 1.7754e-05,\n",
       "   'uncertainty type': 4}),\n",
       " (('biosphere3', 'a9c187bb-8ff5-4e96-9a98-c5b744593932'),\n",
       "  {'amount': 4.489e-08,\n",
       "   'maximum': 8.8896e-08,\n",
       "   'minimum': 8.843e-10,\n",
       "   'uncertainty type': 4}),\n",
       " (('biosphere3', '3563befa-20c2-4849-9597-b5ed2b5aaf41'),\n",
       "  {'amount': 3.1877e-08,\n",
       "   'maximum': 6.2885e-08,\n",
       "   'minimum': 8.6867e-10,\n",
       "   'uncertainty type': 4}),\n",
       " (('biosphere3', '5e3a522a-d959-4aac-9ff0-c1c09f4e645e'),\n",
       "  {'amount': 1.0097e-08,\n",
       "   'maximum': 2.0179e-08,\n",
       "   'minimum': 1.6209e-11,\n",
       "   'uncertainty type': 4}),\n",
       " (('biosphere3', '555aed47-6c62-4cbe-b9b8-d01229284c8a'),\n",
       "  {'amount': 1.222e-08,\n",
       "   'maximum': 2.284e-08,\n",
       "   'minimum': 1.6002e-09,\n",
       "   'uncertainty type': 4}),\n",
       " (('biosphere3', '3653d86e-4a4d-49da-b0dd-ff346c54210d'),\n",
       "  {'amount': 5.3624e-08,\n",
       "   'maximum': 1.0707e-07,\n",
       "   'minimum': 1.8158e-10,\n",
       "   'uncertainty type': 4}),\n",
       " (('biosphere3', '3a6c936c-0276-4f11-9d98-1bd011387a6e'),\n",
       "  {'amount': 8.3711e-10,\n",
       "   'maximum': 1.3973e-09,\n",
       "   'minimum': 2.7694e-10,\n",
       "   'uncertainty type': 4}),\n",
       " (('biosphere3', 'ff5d0fa9-6ca8-4e61-b99b-14981620c0d7'),\n",
       "  {'amount': 1.1867e-09,\n",
       "   'maximum': 1.681e-09,\n",
       "   'minimum': 6.924e-10,\n",
       "   'uncertainty type': 4}),\n",
       " (('biosphere3', '4d567c70-f938-4a8f-b2ad-10c0b8f1366c'),\n",
       "  {'amount': 5.5129e-09,\n",
       "   'maximum': 1.1013e-08,\n",
       "   'minimum': 1.2773e-11,\n",
       "   'uncertainty type': 4}),\n",
       " (('biosphere3', '64165202-4870-47d0-8602-b85e5d672865'),\n",
       "  {'amount': 2.2883e-10,\n",
       "   'maximum': 4.4443e-10,\n",
       "   'minimum': 1.3233e-11,\n",
       "   'uncertainty type': 4}),\n",
       " (('biosphere3', '94eb8352-8af0-4929-b883-864b27fcfc96'),\n",
       "  {'amount': 7.1803e-10,\n",
       "   'maximum': 1.4263e-09,\n",
       "   'minimum': 9.7116e-12,\n",
       "   'uncertainty type': 4}),\n",
       " (('biosphere3', 'a1ecc854-a399-4b01-bae2-3a88b12ed44f'),\n",
       "  {'amount': 1.7692e-08,\n",
       "   'maximum': 3.2282e-08,\n",
       "   'minimum': 3.101e-09,\n",
       "   'uncertainty type': 4}),\n",
       " (('biosphere3', '2f2450fa-6720-4b59-9876-10a9ee843958'),\n",
       "  {'amount': 2.4808e-09,\n",
       "   'maximum': 4.9602e-09,\n",
       "   'minimum': 1.4145e-12,\n",
       "   'uncertainty type': 4}),\n",
       " (('biosphere3', '3b25024e-0347-411b-9315-c85f74e3b3ed'),\n",
       "  {'amount': 2.3843e-07,\n",
       "   'maximum': 4.6725e-07,\n",
       "   'minimum': 9.6061e-09,\n",
       "   'uncertainty type': 4}),\n",
       " (('biosphere3', '5fa6e9b8-8314-4d9d-afaf-bc6ee580d76c'),\n",
       "  {'amount': 7.8098e-09,\n",
       "   'maximum': 1.5614e-08,\n",
       "   'minimum': 5.3953e-12,\n",
       "   'uncertainty type': 4}),\n",
       " (('biosphere3', 'c4503380-1045-4670-a7da-fe5dcce56699'),\n",
       "  {'amount': 9.14e-09,\n",
       "   'maximum': 1.2552e-08,\n",
       "   'minimum': 5.7282e-09,\n",
       "   'uncertainty type': 4}),\n",
       " (('biosphere3', '48fececf-9b55-408d-9782-72057c79effe'),\n",
       "  {'amount': 5.0815e-08,\n",
       "   'maximum': 1.0122e-07,\n",
       "   'minimum': 4.1284e-10,\n",
       "   'uncertainty type': 4}),\n",
       " (('biosphere3', '19696f8c-c5e9-4444-a0e8-3e8782748237'),\n",
       "  {'amount': 4.8654e-08,\n",
       "   'maximum': 8.5244e-08,\n",
       "   'minimum': 1.2064e-08,\n",
       "   'uncertainty type': 4}),\n",
       " (('biosphere3', 'f8ac9a93-5172-4349-bc59-01af13f7dbb6'),\n",
       "  {'amount': 6.2216e-09,\n",
       "   'maximum': 1.244e-08,\n",
       "   'minimum': 3.4886e-12,\n",
       "   'uncertainty type': 4}),\n",
       " (('biosphere3', '9cec94a2-e7fe-43f4-82f4-293c477f86dc'),\n",
       "  {'amount': 1.9325e-08,\n",
       "   'maximum': 3.8039e-08,\n",
       "   'minimum': 6.1034e-10,\n",
       "   'uncertainty type': 4}),\n",
       " (('biosphere3', 'e4f58170-4339-44d0-bec7-bdf6445b45ee'),\n",
       "  {'amount': 1.8162e-09,\n",
       "   'maximum': 3.476e-09,\n",
       "   'minimum': 1.5641e-10,\n",
       "   'uncertainty type': 4}),\n",
       " (('biosphere3', '9bc66656-9f37-44bc-ae0b-5d5243b8137e'),\n",
       "  {'amount': 1.0662e-06,\n",
       "   'maximum': 1.4577e-06,\n",
       "   'minimum': 6.7476e-07,\n",
       "   'uncertainty type': 4}),\n",
       " (('biosphere3', '4b0d68e7-37bc-4184-93b5-91b70c62e585'),\n",
       "  {'amount': 7.5507e-07,\n",
       "   'maximum': 1.1448e-06,\n",
       "   'minimum': 3.6539e-07,\n",
       "   'uncertainty type': 4}),\n",
       " (('biosphere3', '5186b1e9-506c-4846-994d-789c5204b38a'),\n",
       "  {'amount': 3.043e-05,\n",
       "   'maximum': 4.4415e-05,\n",
       "   'minimum': 1.6446e-05,\n",
       "   'uncertainty type': 4}),\n",
       " (('biosphere3', '3b1ecf8e-1d2c-4330-81da-a79f9068976d'),\n",
       "  {'amount': 2.0997e-09,\n",
       "   'maximum': 3.8557e-09,\n",
       "   'minimum': 3.4362e-10,\n",
       "   'uncertainty type': 4}),\n",
       " (('biosphere3', '826c7733-9b0a-4ec5-9f35-32294f9138e3'),\n",
       "  {'amount': 4.1161e-09,\n",
       "   'maximum': 8.0149e-09,\n",
       "   'minimum': 2.1726e-10,\n",
       "   'uncertainty type': 4}),\n",
       " (('biosphere3', '53578c58-7cd6-4623-9dd5-2c275bdc9f38'),\n",
       "  {'amount': 2.141e-07,\n",
       "   'maximum': 3.6719e-07,\n",
       "   'minimum': 6.1007e-08,\n",
       "   'uncertainty type': 4}),\n",
       " (('biosphere3', 'b1cbafef-4c5a-4b5f-9dfa-e49047f5f043'),\n",
       "  {'amount': 1.5764e-07,\n",
       "   'maximum': 2.6263e-07,\n",
       "   'minimum': 5.2652e-08,\n",
       "   'uncertainty type': 4}),\n",
       " (('biosphere3', '58eea1e4-bf8e-409c-9d92-4b3d90d85ae0'),\n",
       "  {'amount': 6.5439e-08,\n",
       "   'maximum': 1.3086e-07,\n",
       "   'minimum': 2.2284e-11,\n",
       "   'uncertainty type': 4}),\n",
       " (('biosphere3', '8e0afcd9-9955-41d4-8ad0-397a38f82dca'),\n",
       "  {'amount': 1.865e-07,\n",
       "   'maximum': 3.6662e-07,\n",
       "   'minimum': 6.3838e-09,\n",
       "   'uncertainty type': 4}),\n",
       " (('biosphere3', '9ee52c9a-194b-476f-a0ff-0aba3759e2a0'),\n",
       "  {'amount': 1.0886e-07,\n",
       "   'maximum': 2.1764e-07,\n",
       "   'minimum': 7.2138e-11,\n",
       "   'uncertainty type': 4}),\n",
       " (('biosphere3', '9ba627f4-3a6c-4dd6-8598-4e1639fbd85a'),\n",
       "  {'amount': 3.2522e-08,\n",
       "   'maximum': 5.8513e-08,\n",
       "   'minimum': 6.5297e-09,\n",
       "   'uncertainty type': 4}),\n",
       " (('biosphere3', '5c234628-ab1e-4284-ae2b-f1c2f6883f71'),\n",
       "  {'amount': 1.0937e-07,\n",
       "   'maximum': 2.0852e-07,\n",
       "   'minimum': 1.0224e-08,\n",
       "   'uncertainty type': 4}),\n",
       " (('biosphere3', '045f7de9-60d5-4916-a504-5a1002a6e97e'),\n",
       "  {'amount': 1.0384e-08,\n",
       "   'maximum': 1.9315e-08,\n",
       "   'minimum': 1.453e-09,\n",
       "   'uncertainty type': 4}),\n",
       " (('biosphere3', 'cfdbc576-e8dc-44ef-bdf2-ddd7009ce57e'),\n",
       "  {'amount': 6.0813e-08,\n",
       "   'maximum': 1.1781e-07,\n",
       "   'minimum': 3.8181e-09,\n",
       "   'uncertainty type': 4}),\n",
       " (('biosphere3', 'feb813f2-ff76-4f52-a966-55297494de4a'),\n",
       "  {'amount': 6.0655e-09,\n",
       "   'maximum': 1.1376e-08,\n",
       "   'minimum': 7.5507e-10,\n",
       "   'uncertainty type': 4}),\n",
       " (('biosphere3', 'f9f12076-1cdf-4a3d-a70d-eab640038144'),\n",
       "  {'amount': 9.7509e-07,\n",
       "   'maximum': 1.6587e-06,\n",
       "   'minimum': 2.9147e-07,\n",
       "   'uncertainty type': 4}),\n",
       " (('biosphere3', '527d6cb5-bbd7-403d-8dcc-b6678fb123f5'),\n",
       "  {'amount': 6.4957e-08,\n",
       "   'maximum': 1.2384e-07,\n",
       "   'minimum': 6.0731e-09,\n",
       "   'uncertainty type': 4}),\n",
       " (('biosphere3', '1b279330-0469-4d04-9fe2-4e9a38011f0c'),\n",
       "  {'amount': 6.8897e-09,\n",
       "   'maximum': 1.2851e-08,\n",
       "   'minimum': 9.287e-10,\n",
       "   'uncertainty type': 4}),\n",
       " (('biosphere3', 'beb69352-568e-4a33-b9d4-3b5bfafc85bd'),\n",
       "  {'amount': 3.1143e-09,\n",
       "   'maximum': 5.3402e-09,\n",
       "   'minimum': 8.8836e-10,\n",
       "   'uncertainty type': 4}),\n",
       " (('biosphere3', '3d59d864-b6c3-4315-ab21-2c2ba2119ad1'),\n",
       "  {'amount': 2.3596e-08,\n",
       "   'maximum': 4.7054e-08,\n",
       "   'minimum': 1.3789e-10,\n",
       "   'uncertainty type': 4})]"
      ]
     },
     "execution_count": 11,
     "metadata": {},
     "output_type": "execute_result"
    }
   ],
   "source": [
    "[(key,cfvalue) for key,cfvalue in cfs if isinstance(cfvalue,float)==False]"
   ]
  },
  {
   "cell_type": "markdown",
   "metadata": {},
   "source": [
    "# Example with ficticious method"
   ]
  },
  {
   "cell_type": "code",
   "execution_count": 12,
   "metadata": {},
   "outputs": [],
   "source": [
    "e1 = ('biosphere3', '051aaf7a-6c1a-4e86-999f-85d5f0830df6')\n",
    "e2 = ('biosphere3', 'ddd99a3a-be86-423d-b36a-a9dc8af1b1f8')\n",
    "e3 = ('biosphere3', '66f50b33-fd62-4fdd-a373-c5b0de7de00d')\n",
    "e4 = ('biosphere3', '21e46cb8-6233-4c99-bac3-c41d2ab99498')\n",
    "e5 = ('biosphere3', '230d8a0a-517c-43fe-8357-1818dd12997a')\n",
    "\n",
    "nox_lowpop = ('biosphere3', '9115356e-a534-4329-9ec6-d9208720241b')\n",
    "nox_urban = ('biosphere3', 'd068f3e2-b033-417b-a359-ca4f25da9731')\n",
    "nox_unspecified = ('biosphere3', 'c1b91234-6f24-417b-8309-46111d09c457')\n",
    "nox_lower_stratosfphere = ('biosphere3', '4841a0fe-c250-4a39-94a1-1bc31426c0f1')"
   ]
  },
  {
   "cell_type": "code",
   "execution_count": 13,
   "metadata": {},
   "outputs": [
    {
     "name": "stdout",
     "output_type": "stream",
     "text": [
      "'Particulate Matter, < 2.5 um' (kilogram, None, ('air', 'low population density, long-term'))\n",
      "'Particulate Matter, < 2.5 um' (kilogram, None, ('air', 'lower stratosphere + upper troposphere'))\n",
      "'Particulate Matter, < 2.5 um' (kilogram, None, ('air', 'non-urban air or from high stacks'))\n",
      "'Particulate Matter, < 2.5 um' (kilogram, None, ('air',))\n",
      "'Particulate Matter, < 2.5 um' (kilogram, None, ('air', 'urban air close to ground'))\n",
      "'Nitrogen oxides' (kilogram, None, ('air', 'low population density, long-term'))\n",
      "'Nitrogen oxides' (kilogram, None, ('air', 'urban air close to ground'))\n",
      "'Nitrogen oxides' (kilogram, None, ('air',))\n",
      "'Nitrogen oxides' (kilogram, None, ('air', 'lower stratosphere + upper troposphere'))\n"
     ]
    }
   ],
   "source": [
    "for e in [e1,e2,e3,e4,e5,nox_lowpop,nox_urban,nox_unspecified,nox_lower_stratosfphere]:\n",
    "    emission = bd.get_activity(tuple(e))\n",
    "    print(emission)"
   ]
  },
  {
   "cell_type": "markdown",
   "metadata": {},
   "source": [
    "## 1 unspecified flow"
   ]
  },
  {
   "cell_type": "code",
   "execution_count": 14,
   "metadata": {},
   "outputs": [],
   "source": [
    "cfs=[(e1,1),\n",
    "     (e2,1),\n",
    "     (e3,1),\n",
    "     (e4,10),#unspecified\n",
    "     (e5,10),\n",
    "     (nox_lowpop,0.5),\n",
    "     (nox_urban,5),\n",
    "     (nox_lower_stratosfphere,0.1),\n",
    "     (nox_unspecified,5) # unspecified\n",
    "     ]\n",
    "\n",
    "test_method_name_1=('test method','1 unspecified')\n",
    "\n",
    "test_method_1=bd.Method(test_method_name_1)\n",
    "\n",
    "metadata_test_method={'description':'method to test uncertainty on archetype',\n",
    "                      'unit':'DALY'}\n",
    "\n",
    "test_method_1.register(**metadata_test_method)"
   ]
  },
  {
   "cell_type": "code",
   "execution_count": 15,
   "metadata": {},
   "outputs": [],
   "source": [
    "test_method_1.write(cfs)"
   ]
  },
  {
   "cell_type": "code",
   "execution_count": 16,
   "metadata": {},
   "outputs": [],
   "source": [
    "test_method_1.process()"
   ]
  },
  {
   "cell_type": "code",
   "execution_count": 17,
   "metadata": {},
   "outputs": [],
   "source": [
    "assert ('test method','1 unspecified') in bd.methods"
   ]
  },
  {
   "cell_type": "code",
   "execution_count": 18,
   "metadata": {},
   "outputs": [],
   "source": [
    "M = bd.Method(('test method','1 unspecified'))"
   ]
  },
  {
   "cell_type": "code",
   "execution_count": 21,
   "metadata": {},
   "outputs": [
    {
     "data": {
      "text/plain": [
       "[{'profile': 'data-resource',\n",
       "  'format': 'npy',\n",
       "  'mediatype': 'application/octet-stream',\n",
       "  'name': 'test_method_1_unspecified_matrix_data.indices',\n",
       "  'matrix': 'characterization_matrix',\n",
       "  'kind': 'indices',\n",
       "  'path': 'test_method_1_unspecified_matrix_data.indices.npy',\n",
       "  'group': 'test_method_1_unspecified_matrix_data',\n",
       "  'nrows': 9,\n",
       "  'global_index': 1,\n",
       "  'identifier': ['test method', '1 unspecified'],\n",
       "  'category': 'vector'}]"
      ]
     },
     "execution_count": 21,
     "metadata": {},
     "output_type": "execute_result"
    }
   ],
   "source": [
    "M.datapackage().filter_by_attribute('matrix','characterization_matrix').filter_by_attribute(\"kind\", \"indices\").resources"
   ]
  },
  {
   "cell_type": "markdown",
   "metadata": {},
   "source": [
    "create uncertain version."
   ]
  },
  {
   "cell_type": "code",
   "execution_count": 17,
   "metadata": {},
   "outputs": [
    {
     "data": {
      "text/plain": [
       "[(('biosphere3', '051aaf7a-6c1a-4e86-999f-85d5f0830df6'), 1.0),\n",
       " (('biosphere3', 'ddd99a3a-be86-423d-b36a-a9dc8af1b1f8'), 1.0),\n",
       " (('biosphere3', '66f50b33-fd62-4fdd-a373-c5b0de7de00d'), 1.0),\n",
       " (('biosphere3', '230d8a0a-517c-43fe-8357-1818dd12997a'), 10.0),\n",
       " (('biosphere3', '9115356e-a534-4329-9ec6-d9208720241b'), 0.5),\n",
       " (('biosphere3', 'd068f3e2-b033-417b-a359-ca4f25da9731'), 5.0),\n",
       " (('biosphere3', '4841a0fe-c250-4a39-94a1-1bc31426c0f1'), 0.1),\n",
       " (('biosphere3', 'c1b91234-6f24-417b-8309-46111d09c457'),\n",
       "  {'amount': 5.0, 'maximum': 5.0, 'minimum': 0.1, 'uncertainty type': 4}),\n",
       " (('biosphere3', '21e46cb8-6233-4c99-bac3-c41d2ab99498'),\n",
       "  {'amount': 10.0, 'maximum': 10.0, 'minimum': 1.0, 'uncertainty type': 4})]"
      ]
     },
     "execution_count": 17,
     "metadata": {},
     "output_type": "execute_result"
    }
   ],
   "source": [
    "cf_add_uncertainty(test_method_name_1,uncertainty_type=4)"
   ]
  },
  {
   "cell_type": "code",
   "execution_count": 18,
   "metadata": {},
   "outputs": [],
   "source": [
    "# uncertain uniform\n",
    "cfs_uniform_t1=cf_add_uncertainty(test_method_name_1,uncertainty_type=4)\n",
    "new_method_name=('test method','1 unspecified','uncertain','uniform')\n",
    "metadata=bd.Method(test_method_name_1).metadata\n",
    "new_method=bd.Method(new_method_name)\n",
    "new_method.register(**metadata)"
   ]
  },
  {
   "cell_type": "code",
   "execution_count": 19,
   "metadata": {},
   "outputs": [],
   "source": [
    "new_method.write(cfs_uniform_t1)"
   ]
  },
  {
   "cell_type": "code",
   "execution_count": 20,
   "metadata": {},
   "outputs": [],
   "source": [
    "# uncertain triangular\n",
    "cfs_triangular_t1=cf_add_uncertainty(test_method_name_1,uncertainty_type=5)\n",
    "new_method_name=('test method','1 unspecified','uncertain','triangular')\n",
    "metadata=bd.Method(test_method_name_1).metadata\n",
    "new_method=bd.Method(new_method_name)\n",
    "new_method.register(**metadata)"
   ]
  },
  {
   "cell_type": "code",
   "execution_count": 21,
   "metadata": {},
   "outputs": [],
   "source": [
    "new_method.write(cfs_triangular_t1)"
   ]
  },
  {
   "cell_type": "code",
   "execution_count": 22,
   "metadata": {},
   "outputs": [],
   "source": [
    "assert bd.Method(('test method','1 unspecified','uncertain','uniform')).load() == cf_add_uncertainty(('test method','1 unspecified'))"
   ]
  },
  {
   "cell_type": "markdown",
   "metadata": {},
   "source": [
    "some validations"
   ]
  },
  {
   "cell_type": "code",
   "execution_count": 23,
   "metadata": {},
   "outputs": [],
   "source": [
    "#data type\n",
    "assert pd.api.types.is_numeric_dtype(get_cf_info(('test method','1 unspecified')).amount)"
   ]
  },
  {
   "cell_type": "code",
   "execution_count": 24,
   "metadata": {},
   "outputs": [],
   "source": [
    "# there is just two uncertain flow\n",
    "assert len(minmax_archetype(get_cf_info(('test method','1 unspecified'))))==2"
   ]
  },
  {
   "cell_type": "code",
   "execution_count": 25,
   "metadata": {},
   "outputs": [],
   "source": [
    "#test the fields \n",
    "cfs_uncertain=[cf for k,cf in cf_add_uncertainty(('test method','1 unspecified')) if isinstance(cf,dict)]\n",
    "\n",
    "for cf in cfs_uncertain:\n",
    "    assert 'amount' in cf\n",
    "    assert 'minimum' in cf\n",
    "    assert 'maximum' in cf\n",
    "    assert 'uncertainty type' in cf"
   ]
  },
  {
   "cell_type": "markdown",
   "metadata": {},
   "source": [
    "## 0 unnespecified flows"
   ]
  },
  {
   "cell_type": "code",
   "execution_count": 26,
   "metadata": {},
   "outputs": [],
   "source": [
    "cfs=[(e1,1),\n",
    " (e2,1),\n",
    " (e3,1),\n",
    " #(e4,10),#unspecified\n",
    " (e5,10)]\n",
    "\n",
    "test_method_name_2=('test method','0 unspecified')\n",
    "\n",
    "test_method_2=bd.Method(test_method_name_2)\n",
    "\n",
    "metadata_test_method_2={'description':'method to test uncertainty on archetype',\n",
    " 'unit':'DALY'}\n",
    "\n",
    "test_method_2.register(**metadata_test_method_2)\n",
    "\n",
    "test_method_2.write(cfs)"
   ]
  },
  {
   "cell_type": "code",
   "execution_count": 27,
   "metadata": {},
   "outputs": [
    {
     "data": {
      "text/html": [
       "<div>\n",
       "<style scoped>\n",
       "    .dataframe tbody tr th:only-of-type {\n",
       "        vertical-align: middle;\n",
       "    }\n",
       "\n",
       "    .dataframe tbody tr th {\n",
       "        vertical-align: top;\n",
       "    }\n",
       "\n",
       "    .dataframe thead th {\n",
       "        text-align: right;\n",
       "    }\n",
       "</style>\n",
       "<table border=\"1\" class=\"dataframe\">\n",
       "  <thead>\n",
       "    <tr style=\"text-align: right;\">\n",
       "      <th></th>\n",
       "      <th>database</th>\n",
       "      <th>code</th>\n",
       "      <th>name</th>\n",
       "      <th>amount</th>\n",
       "      <th>unit</th>\n",
       "      <th>type</th>\n",
       "      <th>compartment</th>\n",
       "      <th>subcompartment</th>\n",
       "    </tr>\n",
       "  </thead>\n",
       "  <tbody>\n",
       "    <tr>\n",
       "      <th>0</th>\n",
       "      <td>biosphere3</td>\n",
       "      <td>051aaf7a-6c1a-4e86-999f-85d5f0830df6</td>\n",
       "      <td>Particulate Matter, &lt; 2.5 um</td>\n",
       "      <td>1</td>\n",
       "      <td>kilogram</td>\n",
       "      <td>emission</td>\n",
       "      <td>air</td>\n",
       "      <td>low population density, long-term</td>\n",
       "    </tr>\n",
       "    <tr>\n",
       "      <th>1</th>\n",
       "      <td>biosphere3</td>\n",
       "      <td>ddd99a3a-be86-423d-b36a-a9dc8af1b1f8</td>\n",
       "      <td>Particulate Matter, &lt; 2.5 um</td>\n",
       "      <td>1</td>\n",
       "      <td>kilogram</td>\n",
       "      <td>emission</td>\n",
       "      <td>air</td>\n",
       "      <td>lower stratosphere + upper troposphere</td>\n",
       "    </tr>\n",
       "    <tr>\n",
       "      <th>2</th>\n",
       "      <td>biosphere3</td>\n",
       "      <td>66f50b33-fd62-4fdd-a373-c5b0de7de00d</td>\n",
       "      <td>Particulate Matter, &lt; 2.5 um</td>\n",
       "      <td>1</td>\n",
       "      <td>kilogram</td>\n",
       "      <td>emission</td>\n",
       "      <td>air</td>\n",
       "      <td>non-urban air or from high stacks</td>\n",
       "    </tr>\n",
       "    <tr>\n",
       "      <th>3</th>\n",
       "      <td>biosphere3</td>\n",
       "      <td>230d8a0a-517c-43fe-8357-1818dd12997a</td>\n",
       "      <td>Particulate Matter, &lt; 2.5 um</td>\n",
       "      <td>10</td>\n",
       "      <td>kilogram</td>\n",
       "      <td>emission</td>\n",
       "      <td>air</td>\n",
       "      <td>urban air close to ground</td>\n",
       "    </tr>\n",
       "  </tbody>\n",
       "</table>\n",
       "</div>"
      ],
      "text/plain": [
       "     database                                  code  \\\n",
       "0  biosphere3  051aaf7a-6c1a-4e86-999f-85d5f0830df6   \n",
       "1  biosphere3  ddd99a3a-be86-423d-b36a-a9dc8af1b1f8   \n",
       "2  biosphere3  66f50b33-fd62-4fdd-a373-c5b0de7de00d   \n",
       "3  biosphere3  230d8a0a-517c-43fe-8357-1818dd12997a   \n",
       "\n",
       "                           name  amount      unit      type compartment  \\\n",
       "0  Particulate Matter, < 2.5 um       1  kilogram  emission         air   \n",
       "1  Particulate Matter, < 2.5 um       1  kilogram  emission         air   \n",
       "2  Particulate Matter, < 2.5 um       1  kilogram  emission         air   \n",
       "3  Particulate Matter, < 2.5 um      10  kilogram  emission         air   \n",
       "\n",
       "                           subcompartment  \n",
       "0       low population density, long-term  \n",
       "1  lower stratosphere + upper troposphere  \n",
       "2       non-urban air or from high stacks  \n",
       "3               urban air close to ground  "
      ]
     },
     "execution_count": 27,
     "metadata": {},
     "output_type": "execute_result"
    }
   ],
   "source": [
    "get_cf_info(('test method','0 unspecified'))"
   ]
  },
  {
   "cell_type": "code",
   "execution_count": 28,
   "metadata": {},
   "outputs": [],
   "source": [
    "minmax_archetype(get_cf_info(test_method_name_2))"
   ]
  },
  {
   "cell_type": "code",
   "execution_count": 29,
   "metadata": {},
   "outputs": [],
   "source": [
    "cf_add_uncertainty(('test method','0 unspecified'))"
   ]
  },
  {
   "cell_type": "markdown",
   "metadata": {},
   "source": [
    "## 1 flow only, and unspecified"
   ]
  },
  {
   "cell_type": "code",
   "execution_count": 30,
   "metadata": {},
   "outputs": [],
   "source": [
    "cfs=[\n",
    " #(e1,1),\n",
    " #(e2,1),\n",
    " #(e3,1),\n",
    " (e4,10),#unspecified\n",
    " #(e5,10)\n",
    "]\n",
    "\n",
    "test_method_name_3=('test method','1 only unspecified')\n",
    "\n",
    "test_method_3=bd.Method(test_method_name_3)\n",
    "\n",
    "metadata_test_method_3={'description':'method to test uncertainty on archetype',\n",
    " 'unit':'DALY'}\n",
    "\n",
    "test_method_3.register(**metadata_test_method_3)\n",
    "\n",
    "test_method_3.write(cfs)"
   ]
  },
  {
   "cell_type": "code",
   "execution_count": 31,
   "metadata": {},
   "outputs": [],
   "source": [
    "cf_df = get_cf_info(('test method','1 only unspecified'))"
   ]
  },
  {
   "cell_type": "code",
   "execution_count": 32,
   "metadata": {},
   "outputs": [
    {
     "data": {
      "text/html": [
       "<div>\n",
       "<style scoped>\n",
       "    .dataframe tbody tr th:only-of-type {\n",
       "        vertical-align: middle;\n",
       "    }\n",
       "\n",
       "    .dataframe tbody tr th {\n",
       "        vertical-align: top;\n",
       "    }\n",
       "\n",
       "    .dataframe thead th {\n",
       "        text-align: right;\n",
       "    }\n",
       "</style>\n",
       "<table border=\"1\" class=\"dataframe\">\n",
       "  <thead>\n",
       "    <tr style=\"text-align: right;\">\n",
       "      <th></th>\n",
       "      <th>database</th>\n",
       "      <th>code</th>\n",
       "      <th>name</th>\n",
       "      <th>amount</th>\n",
       "      <th>unit</th>\n",
       "      <th>type</th>\n",
       "      <th>compartment</th>\n",
       "      <th>subcompartment</th>\n",
       "    </tr>\n",
       "  </thead>\n",
       "  <tbody>\n",
       "    <tr>\n",
       "      <th>0</th>\n",
       "      <td>biosphere3</td>\n",
       "      <td>21e46cb8-6233-4c99-bac3-c41d2ab99498</td>\n",
       "      <td>Particulate Matter, &lt; 2.5 um</td>\n",
       "      <td>10</td>\n",
       "      <td>kilogram</td>\n",
       "      <td>emission</td>\n",
       "      <td>air</td>\n",
       "      <td>None</td>\n",
       "    </tr>\n",
       "  </tbody>\n",
       "</table>\n",
       "</div>"
      ],
      "text/plain": [
       "     database                                  code  \\\n",
       "0  biosphere3  21e46cb8-6233-4c99-bac3-c41d2ab99498   \n",
       "\n",
       "                           name  amount      unit      type compartment  \\\n",
       "0  Particulate Matter, < 2.5 um      10  kilogram  emission         air   \n",
       "\n",
       "  subcompartment  \n",
       "0           None  "
      ]
     },
     "execution_count": 32,
     "metadata": {},
     "output_type": "execute_result"
    }
   ],
   "source": [
    "cf_df"
   ]
  },
  {
   "cell_type": "code",
   "execution_count": 33,
   "metadata": {},
   "outputs": [],
   "source": [
    "assert cf_add_uncertainty(('test method','1 only unspecified')) is None"
   ]
  },
  {
   "cell_type": "markdown",
   "metadata": {},
   "source": [
    "## create product system example\n",
    "\n",
    "create a very simple product system for validation purposes"
   ]
  },
  {
   "cell_type": "markdown",
   "metadata": {},
   "source": [
    "activity 1"
   ]
  },
  {
   "cell_type": "code",
   "execution_count": 34,
   "metadata": {},
   "outputs": [],
   "source": [
    "act1_key=('test_db','activity_1')"
   ]
  },
  {
   "cell_type": "code",
   "execution_count": 35,
   "metadata": {},
   "outputs": [],
   "source": [
    "# a unique emission of PM in an uncertain archetype\n",
    "biosphere_exchange_1={'amount':1,\n",
    "                    'input':e4,\n",
    "                    'output':act1_key,\n",
    "                    'type':'biosphere',\n",
    "                    'uncertainty type': 0}"
   ]
  },
  {
   "cell_type": "code",
   "execution_count": 36,
   "metadata": {},
   "outputs": [],
   "source": [
    "production_exchange_1={'amount':1,\n",
    "                     'input':act1_key,\n",
    "                     'output':act1_key,\n",
    "                     'type':'production',\n",
    "                     'uncertainty type':0}"
   ]
  },
  {
   "cell_type": "code",
   "execution_count": 37,
   "metadata": {},
   "outputs": [],
   "source": [
    "act_1_dict={'name':'test_activity_1',\n",
    " 'unit':'megajoule',\n",
    " 'location':'GLO',\n",
    " 'exchanges':[production_exchange_1,biosphere_exchange_1]}"
   ]
  },
  {
   "cell_type": "code",
   "execution_count": 38,
   "metadata": {},
   "outputs": [],
   "source": [
    "#act1_data={act1_key:act_1_dict}"
   ]
  },
  {
   "cell_type": "markdown",
   "metadata": {},
   "source": [
    "activity 2"
   ]
  },
  {
   "cell_type": "code",
   "execution_count": 39,
   "metadata": {},
   "outputs": [],
   "source": [
    "act2_key=('test_db','activity_2')"
   ]
  },
  {
   "cell_type": "code",
   "execution_count": 40,
   "metadata": {},
   "outputs": [],
   "source": [
    "production_exchange_2={'amount':1,\n",
    "                     'input':act2_key,\n",
    "                     'output':act2_key,\n",
    "                     'type':'production',\n",
    "                     'uncertainty type':0}"
   ]
  },
  {
   "cell_type": "code",
   "execution_count": 41,
   "metadata": {},
   "outputs": [],
   "source": [
    "technosphere_exchange_1={\n",
    "    'amount':10, # or negative?\n",
    "    'input':act1_key,\n",
    "    'output':act2_key,\n",
    "    'type':'technosphere',\n",
    "    'uncertainty type':3,\n",
    "    'loc':10,\n",
    "    'scale':1,\n",
    "}"
   ]
  },
  {
   "cell_type": "code",
   "execution_count": 42,
   "metadata": {},
   "outputs": [],
   "source": [
    "act_2_dict={'name':'test_activity_2',\n",
    "            'location':'GLO',\n",
    "            'unit':'megajoule','exchanges':[production_exchange_2,technosphere_exchange_1]}"
   ]
  },
  {
   "cell_type": "code",
   "execution_count": 43,
   "metadata": {},
   "outputs": [],
   "source": [
    "#act2_data={act2_key:act_2_dict}"
   ]
  },
  {
   "cell_type": "code",
   "execution_count": 44,
   "metadata": {},
   "outputs": [],
   "source": [
    "database_dict={act1_key:act_1_dict,\n",
    "               act2_key:act_2_dict}"
   ]
  },
  {
   "cell_type": "code",
   "execution_count": 45,
   "metadata": {},
   "outputs": [],
   "source": [
    "db=bd.Database('test_db')"
   ]
  },
  {
   "cell_type": "code",
   "execution_count": 46,
   "metadata": {},
   "outputs": [
    {
     "name": "stderr",
     "output_type": "stream",
     "text": [
      "100%|██████████| 2/2 [00:00<00:00, 2007.80it/s]"
     ]
    },
    {
     "name": "stderr",
     "output_type": "stream",
     "text": [
      "\n"
     ]
    },
    {
     "name": "stdout",
     "output_type": "stream",
     "text": [
      "Vacuuming database \n"
     ]
    }
   ],
   "source": [
    "db.write(database_dict)"
   ]
  },
  {
   "cell_type": "markdown",
   "metadata": {},
   "source": [
    "## simplest test"
   ]
  },
  {
   "cell_type": "code",
   "execution_count": null,
   "metadata": {},
   "outputs": [],
   "source": []
  },
  {
   "cell_type": "code",
   "execution_count": 47,
   "metadata": {},
   "outputs": [],
   "source": [
    "act2 = db.get(code='activity_2')"
   ]
  },
  {
   "cell_type": "code",
   "execution_count": 48,
   "metadata": {},
   "outputs": [],
   "source": [
    "lca=bc.LCA({act2:1},('test method','1 unspecified'))"
   ]
  },
  {
   "cell_type": "code",
   "execution_count": 49,
   "metadata": {},
   "outputs": [
    {
     "data": {
      "text/plain": [
       "100.0"
      ]
     },
     "execution_count": 49,
     "metadata": {},
     "output_type": "execute_result"
    }
   ],
   "source": [
    "lca.lci()\n",
    "lca.lcia()\n",
    "lca.score"
   ]
  },
  {
   "cell_type": "code",
   "execution_count": 50,
   "metadata": {},
   "outputs": [
    {
     "data": {
      "text/plain": [
       "array([[  1., -10.],\n",
       "       [  0.,   1.]])"
      ]
     },
     "execution_count": 50,
     "metadata": {},
     "output_type": "execute_result"
    }
   ],
   "source": [
    "lca.technosphere_matrix.toarray()"
   ]
  },
  {
   "cell_type": "code",
   "execution_count": 51,
   "metadata": {},
   "outputs": [],
   "source": [
    "ainv=np.linalg.inv(lca.technosphere_matrix.toarray())"
   ]
  },
  {
   "cell_type": "code",
   "execution_count": 52,
   "metadata": {},
   "outputs": [
    {
     "data": {
      "text/plain": [
       "array([[1., 0.]])"
      ]
     },
     "execution_count": 52,
     "metadata": {},
     "output_type": "execute_result"
    }
   ],
   "source": [
    "(lca.biosphere_matrix.toarray()).dot((ainv.dot(np.eye(2))).T)"
   ]
  },
  {
   "cell_type": "code",
   "execution_count": 53,
   "metadata": {},
   "outputs": [
    {
     "data": {
      "text/plain": [
       "array([0., 1.])"
      ]
     },
     "execution_count": 53,
     "metadata": {},
     "output_type": "execute_result"
    }
   ],
   "source": [
    "lca.demand_array"
   ]
  },
  {
   "cell_type": "code",
   "execution_count": 54,
   "metadata": {},
   "outputs": [
    {
     "data": {
      "text/plain": [
       "array([[1., 0.]])"
      ]
     },
     "execution_count": 54,
     "metadata": {},
     "output_type": "execute_result"
    }
   ],
   "source": [
    "lca.biosphere_matrix.toarray()"
   ]
  },
  {
   "cell_type": "code",
   "execution_count": 55,
   "metadata": {},
   "outputs": [
    {
     "data": {
      "text/plain": [
       "array([10.,  1.])"
      ]
     },
     "execution_count": 55,
     "metadata": {},
     "output_type": "execute_result"
    }
   ],
   "source": [
    "lca.supply_array"
   ]
  },
  {
   "cell_type": "code",
   "execution_count": 56,
   "metadata": {},
   "outputs": [
    {
     "data": {
      "text/plain": [
       "{4720: 1}"
      ]
     },
     "execution_count": 56,
     "metadata": {},
     "output_type": "execute_result"
    }
   ],
   "source": [
    "lca.demand"
   ]
  },
  {
   "cell_type": "code",
   "execution_count": 57,
   "metadata": {},
   "outputs": [],
   "source": [
    "lca.switch_method(method=('test method','1 unspecified','uncertain','uniform'))"
   ]
  },
  {
   "cell_type": "code",
   "execution_count": 58,
   "metadata": {},
   "outputs": [],
   "source": [
    "lca.redo_lcia(demand={act2.id:1})"
   ]
  },
  {
   "cell_type": "code",
   "execution_count": 59,
   "metadata": {},
   "outputs": [
    {
     "data": {
      "text/plain": [
       "100.0"
      ]
     },
     "execution_count": 59,
     "metadata": {},
     "output_type": "execute_result"
    }
   ],
   "source": [
    "lca.score"
   ]
  },
  {
   "cell_type": "markdown",
   "metadata": {},
   "source": [
    "uniform"
   ]
  },
  {
   "cell_type": "code",
   "execution_count": 60,
   "metadata": {},
   "outputs": [],
   "source": [
    "mc_uncertain_u = bc.LCA(demand={act2:1},\n",
    "       method=('test method','1 unspecified','uncertain','uniform'),\n",
    "       use_distributions=True,\n",
    "       )\n",
    "mc_uncertain_u.lci()\n",
    "mc_uncertain_u.lcia()\n",
    "\n",
    "results_uncertain_u = []\n",
    "for _ in range(10000):\n",
    "    next(mc_uncertain_u)\n",
    "    results_uncertain_u.append(mc_uncertain_u.score)\n",
    "\n"
   ]
  },
  {
   "cell_type": "code",
   "execution_count": 61,
   "metadata": {},
   "outputs": [],
   "source": [
    "mc_uncertain_t = bc.LCA(demand={act2:1},\n",
    "       method=('test method','1 unspecified','uncertain','triangular'),\n",
    "       use_distributions=True\n",
    "       )\n",
    "mc_uncertain_t.lci()\n",
    "mc_uncertain_t.lcia()\n",
    "\n",
    "results_uncertain_t = []\n",
    "for _ in range(10000):\n",
    "    next(mc_uncertain_t)\n",
    "    results_uncertain_t.append(mc_uncertain_t.score)"
   ]
  },
  {
   "cell_type": "markdown",
   "metadata": {},
   "source": [
    "reference"
   ]
  },
  {
   "cell_type": "code",
   "execution_count": 62,
   "metadata": {},
   "outputs": [],
   "source": [
    "mc_reference = bc.LCA(demand={act2:1},\n",
    "       method=('test method','1 unspecified'),\n",
    "       use_distributions=True\n",
    "       )\n",
    "mc_reference.lci()\n",
    "mc_reference.lcia()\n",
    "\n",
    "results_reference = []\n",
    "for _ in range(10000):\n",
    "    next(mc_reference)\n",
    "    results_reference.append(mc_reference.score)"
   ]
  },
  {
   "cell_type": "code",
   "execution_count": 63,
   "metadata": {},
   "outputs": [
    {
     "data": {
      "image/png": "[encoded data removed]",
      "text/plain": [
       "<Figure size 640x480 with 1 Axes>"
      ]
     },
     "metadata": {},
     "output_type": "display_data"
    }
   ],
   "source": [
    "plt.hist(results_reference,density=True,alpha=0.7,label='static CF',bins=50);\n",
    "plt.hist(results_uncertain_u,density=True,alpha=0.5,label='uniform CF',bins=50);\n",
    "plt.hist(results_uncertain_t,density=True,alpha=0.5,label='triangular CF',bins=50);\n",
    "plt.axvline(lca.score,ls='--',color='gray',label='no uncertainty ')\n",
    "plt.legend();"
   ]
  },
  {
   "cell_type": "code",
   "execution_count": 64,
   "metadata": {},
   "outputs": [
    {
     "data": {
      "text/plain": [
       "100.0"
      ]
     },
     "execution_count": 64,
     "metadata": {},
     "output_type": "execute_result"
    }
   ],
   "source": [
    "lca.score"
   ]
  },
  {
   "cell_type": "markdown",
   "metadata": {},
   "source": [
    "the version with without uncertainty in cfs only has the uncertainty of the inventory. Adding uncertainty in cfs increases the uncertainty of the total scores, and this uncertainty is higher for the uniform distribution, since it implies we know \"less\" about the uncertainty of cfs"
   ]
  },
  {
   "cell_type": "code",
   "execution_count": 65,
   "metadata": {},
   "outputs": [
    {
     "name": "stdout",
     "output_type": "stream",
     "text": [
      "9.97231986425823\n",
      "22.27177948259136\n",
      "26.66123871780244\n"
     ]
    }
   ],
   "source": [
    "print(np.std(results_reference))\n",
    "print(np.std(results_uncertain_t))\n",
    "print(np.std(results_uncertain_u))"
   ]
  },
  {
   "cell_type": "code",
   "execution_count": 66,
   "metadata": {},
   "outputs": [
    {
     "data": {
      "text/plain": [
       "[(('biosphere3', '051aaf7a-6c1a-4e86-999f-85d5f0830df6'), 1.0),\n",
       " (('biosphere3', 'ddd99a3a-be86-423d-b36a-a9dc8af1b1f8'), 1.0),\n",
       " (('biosphere3', '66f50b33-fd62-4fdd-a373-c5b0de7de00d'), 1.0),\n",
       " (('biosphere3', '230d8a0a-517c-43fe-8357-1818dd12997a'), 10.0),\n",
       " (('biosphere3', '9115356e-a534-4329-9ec6-d9208720241b'), 0.5),\n",
       " (('biosphere3', 'd068f3e2-b033-417b-a359-ca4f25da9731'), 5.0),\n",
       " (('biosphere3', '4841a0fe-c250-4a39-94a1-1bc31426c0f1'), 0.1),\n",
       " (('biosphere3', 'c1b91234-6f24-417b-8309-46111d09c457'),\n",
       "  {'amount': 5.0, 'maximum': 5.0, 'minimum': 0.1, 'uncertainty type': 4}),\n",
       " (('biosphere3', '21e46cb8-6233-4c99-bac3-c41d2ab99498'),\n",
       "  {'amount': 10.0, 'maximum': 10.0, 'minimum': 1.0, 'uncertainty type': 4})]"
      ]
     },
     "execution_count": 66,
     "metadata": {},
     "output_type": "execute_result"
    }
   ],
   "source": [
    "bd.Method(('test method','1 unspecified','uncertain','uniform')).load()"
   ]
  },
  {
   "cell_type": "code",
   "execution_count": 67,
   "metadata": {},
   "outputs": [
    {
     "data": {
      "text/plain": [
       "[(('biosphere3', '051aaf7a-6c1a-4e86-999f-85d5f0830df6'), 1.0),\n",
       " (('biosphere3', 'ddd99a3a-be86-423d-b36a-a9dc8af1b1f8'), 1.0),\n",
       " (('biosphere3', '66f50b33-fd62-4fdd-a373-c5b0de7de00d'), 1.0),\n",
       " (('biosphere3', '230d8a0a-517c-43fe-8357-1818dd12997a'), 10.0),\n",
       " (('biosphere3', '9115356e-a534-4329-9ec6-d9208720241b'), 0.5),\n",
       " (('biosphere3', 'd068f3e2-b033-417b-a359-ca4f25da9731'), 5.0),\n",
       " (('biosphere3', '4841a0fe-c250-4a39-94a1-1bc31426c0f1'), 0.1),\n",
       " (('biosphere3', 'c1b91234-6f24-417b-8309-46111d09c457'),\n",
       "  {'amount': 5.0,\n",
       "   'maximum': 5.0,\n",
       "   'minimum': 0.1,\n",
       "   'loc': 5.0,\n",
       "   'uncertainty type': 5}),\n",
       " (('biosphere3', '21e46cb8-6233-4c99-bac3-c41d2ab99498'),\n",
       "  {'amount': 10.0,\n",
       "   'maximum': 10.0,\n",
       "   'minimum': 1.0,\n",
       "   'loc': 10.0,\n",
       "   'uncertainty type': 5})]"
      ]
     },
     "execution_count": 67,
     "metadata": {},
     "output_type": "execute_result"
    }
   ],
   "source": [
    "bd.Method(('test method','1 unspecified','uncertain','triangular')).load()"
   ]
  },
  {
   "cell_type": "code",
   "execution_count": null,
   "metadata": {},
   "outputs": [],
   "source": []
  }
 ],
 "metadata": {
  "kernelspec": {
   "display_name": "Python 3",
   "language": "python",
   "name": "python3"
  },
  "language_info": {
   "codemirror_mode": {
    "name": "ipython",
    "version": 3
   },
   "file_extension": ".py",
   "mimetype": "text/x-python",
   "name": "python",
   "nbconvert_exporter": "python",
   "pygments_lexer": "ipython3",
   "version": "3.11.9"
  }
 },
 "nbformat": 4,
 "nbformat_minor": 4
}
