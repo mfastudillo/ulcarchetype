{
 "cells": [
  {
   "cell_type": "code",
   "execution_count": null,
   "metadata": {
    "scrolled": true
   },
   "outputs": [],
   "source": [
    "import bw2data as bwd\n",
    "import bw2io\n",
    "import bw2calc as bwc\n",
    "from ulcarchetype.utils import get_cf_info,minmax_archetype,cf_add_uncertainty\n",
    "from ulcarchetype.utils import LCIAMethod\n",
    "import pandas as pd\n",
    "import numpy as np\n",
    "import matplotlib.pyplot as plt"
   ]
  },
  {
   "cell_type": "code",
   "execution_count": null,
   "metadata": {},
   "outputs": [],
   "source": [
    "# or instead use an existing project with the biosphere3 database and\n",
    "# standard impact assessment methods\n",
    "bwd.projects.set_current('test_ulcarchetype')"
   ]
  },
  {
   "cell_type": "code",
   "execution_count": null,
   "metadata": {},
   "outputs": [
    {
     "name": "stdout",
     "output_type": "stream",
     "text": [
      "Biosphere database already present!!! No setup is needed\n"
     ]
    }
   ],
   "source": [
    "bw2io.bw2setup()"
   ]
  },
  {
   "cell_type": "code",
   "execution_count": null,
   "metadata": {},
   "outputs": [
    {
     "data": {
      "text/plain": [
       "Databases dictionary with 2 object(s):\n",
       "\tbiosphere3\n",
       "\ttest_db"
      ]
     },
     "execution_count": 4,
     "metadata": {},
     "output_type": "execute_result"
    }
   ],
   "source": [
    "bwd.databases"
   ]
  },
  {
   "cell_type": "markdown",
   "metadata": {},
   "source": [
    "as example lets use a method with not many characterisation factors"
   ]
  },
  {
   "cell_type": "code",
   "execution_count": null,
   "metadata": {},
   "outputs": [],
   "source": [
    "method = ('EF v3.0', 'particulate matter formation', 'impact on human health')"
   ]
  },
  {
   "cell_type": "code",
   "execution_count": null,
   "metadata": {},
   "outputs": [],
   "source": [
    "assert method in bwd.methods"
   ]
  },
  {
   "attachments": {},
   "cell_type": "markdown",
   "metadata": {},
   "source": [
    "## new implementation"
   ]
  },
  {
   "cell_type": "code",
   "execution_count": null,
   "metadata": {},
   "outputs": [],
   "source": []
  },
  {
   "cell_type": "markdown",
   "metadata": {},
   "source": [
    "## get_cf_info"
   ]
  },
  {
   "cell_type": "code",
   "execution_count": 11,
   "metadata": {},
   "outputs": [
    {
     "ename": "MultipleResults",
     "evalue": "Found 4709 results for the given search",
     "output_type": "error",
     "traceback": [
      "\u001b[0;31m---------------------------------------------------------------------------\u001b[0m",
      "\u001b[0;31mMultipleResults\u001b[0m                           Traceback (most recent call last)",
      "Cell \u001b[0;32mIn[11], line 1\u001b[0m\n\u001b[0;32m----> 1\u001b[0m cf_df \u001b[39m=\u001b[39m get_cf_info(method)\n\u001b[1;32m      2\u001b[0m cf_df\n",
      "File \u001b[0;32m~/Documents/repos/ulcarchetype/ulcarchetype/utils.py:140\u001b[0m, in \u001b[0;36mget_cf_info\u001b[0;34m(m)\u001b[0m\n\u001b[1;32m    138\u001b[0m \u001b[39mfor\u001b[39;00m cf \u001b[39min\u001b[39;00m cfs:\n\u001b[1;32m    139\u001b[0m     key,value \u001b[39m=\u001b[39m cf\n\u001b[0;32m--> 140\u001b[0m     flow \u001b[39m=\u001b[39m bwd\u001b[39m.\u001b[39;49mget_activity(key)\n\u001b[1;32m    141\u001b[0m     compartments \u001b[39m=\u001b[39m flow[\u001b[39m\"\u001b[39m\u001b[39mcategories\u001b[39m\u001b[39m\"\u001b[39m]\n\u001b[1;32m    142\u001b[0m     compartment \u001b[39m=\u001b[39m compartments[\u001b[39m0\u001b[39m]\n",
      "File \u001b[0;32m~/anaconda3/envs/ds/lib/python3.11/site-packages/bw2data/utils.py:468\u001b[0m, in \u001b[0;36mget_activity\u001b[0;34m(key, **kwargs)\u001b[0m\n\u001b[1;32m    466\u001b[0m \u001b[39melif\u001b[39;00m \u001b[39misinstance\u001b[39m(key, numbers\u001b[39m.\u001b[39mIntegral):\n\u001b[1;32m    467\u001b[0m     kwargs[\u001b[39m\"\u001b[39m\u001b[39mid\u001b[39m\u001b[39m\"\u001b[39m] \u001b[39m=\u001b[39m key\n\u001b[0;32m--> 468\u001b[0m \u001b[39mreturn\u001b[39;00m get_node(\u001b[39m*\u001b[39;49m\u001b[39m*\u001b[39;49mkwargs)\n",
      "File \u001b[0;32m~/anaconda3/envs/ds/lib/python3.11/site-packages/bw2data/utils.py:446\u001b[0m, in \u001b[0;36mget_node\u001b[0;34m(**kwargs)\u001b[0m\n\u001b[1;32m    436\u001b[0m     candidates \u001b[39m=\u001b[39m [\n\u001b[1;32m    437\u001b[0m         obj\n\u001b[1;32m    438\u001b[0m         \u001b[39mfor\u001b[39;00m obj \u001b[39min\u001b[39;00m candidates\n\u001b[0;32m   (...)\u001b[0m\n\u001b[1;32m    443\u001b[0m         )\n\u001b[1;32m    444\u001b[0m     ]\n\u001b[1;32m    445\u001b[0m \u001b[39mif\u001b[39;00m \u001b[39mlen\u001b[39m(candidates) \u001b[39m>\u001b[39m \u001b[39m1\u001b[39m:\n\u001b[0;32m--> 446\u001b[0m     \u001b[39mraise\u001b[39;00m MultipleResults(\n\u001b[1;32m    447\u001b[0m         \u001b[39m\"\u001b[39m\u001b[39mFound \u001b[39m\u001b[39m{}\u001b[39;00m\u001b[39m results for the given search\u001b[39m\u001b[39m\"\u001b[39m\u001b[39m.\u001b[39mformat(\u001b[39mlen\u001b[39m(candidates))\n\u001b[1;32m    448\u001b[0m     )\n\u001b[1;32m    449\u001b[0m \u001b[39melif\u001b[39;00m \u001b[39mnot\u001b[39;00m candidates:\n\u001b[1;32m    450\u001b[0m     \u001b[39mraise\u001b[39;00m UnknownObject\n",
      "\u001b[0;31mMultipleResults\u001b[0m: Found 4709 results for the given search"
     ]
    }
   ],
   "source": [
    "cf_df = get_cf_info(method)\n",
    "cf_df"
   ]
  },
  {
   "cell_type": "markdown",
   "metadata": {},
   "source": [
    "## minmax_archetype"
   ]
  },
  {
   "cell_type": "code",
   "execution_count": 7,
   "metadata": {},
   "outputs": [
    {
     "data": {
      "text/html": [
       "<div>\n",
       "<style scoped>\n",
       "    .dataframe tbody tr th:only-of-type {\n",
       "        vertical-align: middle;\n",
       "    }\n",
       "\n",
       "    .dataframe tbody tr th {\n",
       "        vertical-align: top;\n",
       "    }\n",
       "\n",
       "    .dataframe thead th {\n",
       "        text-align: right;\n",
       "    }\n",
       "</style>\n",
       "<table border=\"1\" class=\"dataframe\">\n",
       "  <thead>\n",
       "    <tr style=\"text-align: right;\">\n",
       "      <th></th>\n",
       "      <th>code</th>\n",
       "      <th>name</th>\n",
       "      <th>amount</th>\n",
       "      <th>minimum</th>\n",
       "      <th>maximum</th>\n",
       "      <th>compartment</th>\n",
       "    </tr>\n",
       "  </thead>\n",
       "  <tbody>\n",
       "    <tr>\n",
       "      <th>114</th>\n",
       "      <td>(biosphere3, 9d9246d4-0ce3-4b47-8491-cf62e562a...</td>\n",
       "      <td>Cesium-134</td>\n",
       "      <td>1.300000e+01</td>\n",
       "      <td>5.400000</td>\n",
       "      <td>1.300000e+01</td>\n",
       "      <td>water</td>\n",
       "    </tr>\n",
       "    <tr>\n",
       "      <th>116</th>\n",
       "      <td>(biosphere3, 8bbe0b4c-5c9c-4959-a878-572f680e4...</td>\n",
       "      <td>Cesium-137</td>\n",
       "      <td>1.600000e+01</td>\n",
       "      <td>5.400000</td>\n",
       "      <td>1.600000e+01</td>\n",
       "      <td>water</td>\n",
       "    </tr>\n",
       "    <tr>\n",
       "      <th>152</th>\n",
       "      <td>(biosphere3, 8d8e393e-39c4-44e1-b424-8eeefcd33...</td>\n",
       "      <td>Cobalt-60</td>\n",
       "      <td>4.200000e+00</td>\n",
       "      <td>4.200000</td>\n",
       "      <td>2.600000e+01</td>\n",
       "      <td>water</td>\n",
       "    </tr>\n",
       "    <tr>\n",
       "      <th>251</th>\n",
       "      <td>(biosphere3, deb80fa5-4d0a-427e-9526-443f88d17...</td>\n",
       "      <td>Ethane, 1,2-dichloro-</td>\n",
       "      <td>4.600000e+05</td>\n",
       "      <td>120000.000000</td>\n",
       "      <td>4.600000e+05</td>\n",
       "      <td>water</td>\n",
       "    </tr>\n",
       "    <tr>\n",
       "      <th>265</th>\n",
       "      <td>(biosphere3, 4b0d68e7-37bc-4184-93b5-91b70c62e...</td>\n",
       "      <td>Ethene, tetrachloro-</td>\n",
       "      <td>1.900000e+07</td>\n",
       "      <td>150000.000000</td>\n",
       "      <td>1.900000e+07</td>\n",
       "      <td>water</td>\n",
       "    </tr>\n",
       "    <tr>\n",
       "      <th>371</th>\n",
       "      <td>(biosphere3, 9be02ae0-3170-4544-8665-f03a1b43f...</td>\n",
       "      <td>Hydrogen-3, Tritium</td>\n",
       "      <td>4.200000e-05</td>\n",
       "      <td>0.000042</td>\n",
       "      <td>4.700000e-03</td>\n",
       "      <td>water</td>\n",
       "    </tr>\n",
       "    <tr>\n",
       "      <th>517</th>\n",
       "      <td>(biosphere3, 5189de76-6bbb-44ba-8c42-5714f1b43...</td>\n",
       "      <td>Nitrate</td>\n",
       "      <td>1.300000e+04</td>\n",
       "      <td>13000.000000</td>\n",
       "      <td>2.700000e+04</td>\n",
       "      <td>water</td>\n",
       "    </tr>\n",
       "    <tr>\n",
       "      <th>660</th>\n",
       "      <td>(biosphere3, e8c62990-85c7-4f16-ab5f-76a5fc28a...</td>\n",
       "      <td>Radioactive species, Nuclides, unspecified</td>\n",
       "      <td>2.800000e+00</td>\n",
       "      <td>2.800000</td>\n",
       "      <td>3.300000e+02</td>\n",
       "      <td>water</td>\n",
       "    </tr>\n",
       "    <tr>\n",
       "      <th>770</th>\n",
       "      <td>(biosphere3, 1869fd74-ed68-4814-9596-12315b1e8...</td>\n",
       "      <td>Uranium-234</td>\n",
       "      <td>2.300000e-01</td>\n",
       "      <td>0.230000</td>\n",
       "      <td>1.600000e+00</td>\n",
       "      <td>water</td>\n",
       "    </tr>\n",
       "    <tr>\n",
       "      <th>772</th>\n",
       "      <td>(biosphere3, 4d466648-95dd-4866-97ad-6008746d3...</td>\n",
       "      <td>Uranium-235</td>\n",
       "      <td>2.200000e-01</td>\n",
       "      <td>0.220000</td>\n",
       "      <td>1.700000e+00</td>\n",
       "      <td>water</td>\n",
       "    </tr>\n",
       "    <tr>\n",
       "      <th>774</th>\n",
       "      <td>(biosphere3, 71d27d29-04f2-421a-981f-5c5c2b004...</td>\n",
       "      <td>Uranium-238</td>\n",
       "      <td>2.200000e-01</td>\n",
       "      <td>0.220000</td>\n",
       "      <td>1.600000e+00</td>\n",
       "      <td>water</td>\n",
       "    </tr>\n",
       "  </tbody>\n",
       "</table>\n",
       "</div>"
      ],
      "text/plain": [
       "                                                  code  \\\n",
       "114  (biosphere3, 9d9246d4-0ce3-4b47-8491-cf62e562a...   \n",
       "116  (biosphere3, 8bbe0b4c-5c9c-4959-a878-572f680e4...   \n",
       "152  (biosphere3, 8d8e393e-39c4-44e1-b424-8eeefcd33...   \n",
       "251  (biosphere3, deb80fa5-4d0a-427e-9526-443f88d17...   \n",
       "265  (biosphere3, 4b0d68e7-37bc-4184-93b5-91b70c62e...   \n",
       "371  (biosphere3, 9be02ae0-3170-4544-8665-f03a1b43f...   \n",
       "517  (biosphere3, 5189de76-6bbb-44ba-8c42-5714f1b43...   \n",
       "660  (biosphere3, e8c62990-85c7-4f16-ab5f-76a5fc28a...   \n",
       "770  (biosphere3, 1869fd74-ed68-4814-9596-12315b1e8...   \n",
       "772  (biosphere3, 4d466648-95dd-4866-97ad-6008746d3...   \n",
       "774  (biosphere3, 71d27d29-04f2-421a-981f-5c5c2b004...   \n",
       "\n",
       "                                           name        amount        minimum  \\\n",
       "114                                  Cesium-134  1.300000e+01       5.400000   \n",
       "116                                  Cesium-137  1.600000e+01       5.400000   \n",
       "152                                   Cobalt-60  4.200000e+00       4.200000   \n",
       "251                       Ethane, 1,2-dichloro-  4.600000e+05  120000.000000   \n",
       "265                        Ethene, tetrachloro-  1.900000e+07  150000.000000   \n",
       "371                         Hydrogen-3, Tritium  4.200000e-05       0.000042   \n",
       "517                                     Nitrate  1.300000e+04   13000.000000   \n",
       "660  Radioactive species, Nuclides, unspecified  2.800000e+00       2.800000   \n",
       "770                                 Uranium-234  2.300000e-01       0.230000   \n",
       "772                                 Uranium-235  2.200000e-01       0.220000   \n",
       "774                                 Uranium-238  2.200000e-01       0.220000   \n",
       "\n",
       "          maximum compartment  \n",
       "114  1.300000e+01       water  \n",
       "116  1.600000e+01       water  \n",
       "152  2.600000e+01       water  \n",
       "251  4.600000e+05       water  \n",
       "265  1.900000e+07       water  \n",
       "371  4.700000e-03       water  \n",
       "517  2.700000e+04       water  \n",
       "660  3.300000e+02       water  \n",
       "770  1.600000e+00       water  \n",
       "772  1.700000e+00       water  \n",
       "774  1.600000e+00       water  "
      ]
     },
     "execution_count": 7,
     "metadata": {},
     "output_type": "execute_result"
    }
   ],
   "source": [
    "minmax_archetype(cf_df)"
   ]
  },
  {
   "cell_type": "markdown",
   "metadata": {},
   "source": [
    "## cf_add_uncertainty"
   ]
  },
  {
   "cell_type": "code",
   "execution_count": 8,
   "metadata": {},
   "outputs": [],
   "source": [
    "cfs = cf_add_uncertainty(method,uncertainty_type=4)"
   ]
  },
  {
   "cell_type": "code",
   "execution_count": 9,
   "metadata": {},
   "outputs": [
    {
     "data": {
      "text/plain": [
       "1602"
      ]
     },
     "execution_count": 9,
     "metadata": {},
     "output_type": "execute_result"
    }
   ],
   "source": [
    "len(cfs)"
   ]
  },
  {
   "cell_type": "markdown",
   "metadata": {},
   "source": [
    "the result is a list of characterisation factors in the format needed to create a brightway2 method."
   ]
  },
  {
   "cell_type": "code",
   "execution_count": 10,
   "metadata": {},
   "outputs": [
    {
     "data": {
      "text/plain": [
       "1602"
      ]
     },
     "execution_count": 10,
     "metadata": {},
     "output_type": "execute_result"
    }
   ],
   "source": [
    "len(bwd.Method(method).load())"
   ]
  },
  {
   "cell_type": "markdown",
   "metadata": {},
   "source": [
    "some of these are uncertain, they can be distinguished because their value is not a variable of type float but a dict"
   ]
  },
  {
   "cell_type": "code",
   "execution_count": 11,
   "metadata": {},
   "outputs": [
    {
     "data": {
      "text/plain": [
       "[(('biosphere3', '9d9246d4-0ce3-4b47-8491-cf62e562ad38'),\n",
       "  {'amount': 13.0, 'maximum': 13.0, 'minimum': 5.4, 'uncertainty type': 4}),\n",
       " (('biosphere3', '8bbe0b4c-5c9c-4959-a878-572f680e428d'),\n",
       "  {'amount': 16.0, 'maximum': 16.0, 'minimum': 5.4, 'uncertainty type': 4}),\n",
       " (('biosphere3', '8d8e393e-39c4-44e1-b424-8eeefcd33560'),\n",
       "  {'amount': 4.2, 'maximum': 26.0, 'minimum': 4.2, 'uncertainty type': 4}),\n",
       " (('biosphere3', 'deb80fa5-4d0a-427e-9526-443f88d17b53'),\n",
       "  {'amount': 460000.0,\n",
       "   'maximum': 460000.0,\n",
       "   'minimum': 120000.0,\n",
       "   'uncertainty type': 4}),\n",
       " (('biosphere3', '4b0d68e7-37bc-4184-93b5-91b70c62e585'),\n",
       "  {'amount': 19000000.0,\n",
       "   'maximum': 19000000.0,\n",
       "   'minimum': 150000.0,\n",
       "   'uncertainty type': 4}),\n",
       " (('biosphere3', '9be02ae0-3170-4544-8665-f03a1b43f2bd'),\n",
       "  {'amount': 4.2e-05,\n",
       "   'maximum': 0.0047,\n",
       "   'minimum': 4.2e-05,\n",
       "   'uncertainty type': 4}),\n",
       " (('biosphere3', '5189de76-6bbb-44ba-8c42-5714f1b4371f'),\n",
       "  {'amount': 13000.0,\n",
       "   'maximum': 27000.0,\n",
       "   'minimum': 13000.0,\n",
       "   'uncertainty type': 4}),\n",
       " (('biosphere3', 'e8c62990-85c7-4f16-ab5f-76a5fc28a2a5'),\n",
       "  {'amount': 2.8, 'maximum': 330.0, 'minimum': 2.8, 'uncertainty type': 4}),\n",
       " (('biosphere3', '1869fd74-ed68-4814-9596-12315b1e810d'),\n",
       "  {'amount': 0.23, 'maximum': 1.6, 'minimum': 0.23, 'uncertainty type': 4}),\n",
       " (('biosphere3', '4d466648-95dd-4866-97ad-6008746d32ab'),\n",
       "  {'amount': 0.22, 'maximum': 1.7, 'minimum': 0.22, 'uncertainty type': 4}),\n",
       " (('biosphere3', '71d27d29-04f2-421a-981f-5c5c2b00486f'),\n",
       "  {'amount': 0.22, 'maximum': 1.6, 'minimum': 0.22, 'uncertainty type': 4})]"
      ]
     },
     "execution_count": 11,
     "metadata": {},
     "output_type": "execute_result"
    }
   ],
   "source": [
    "[(key,cfvalue) for key,cfvalue in cfs if isinstance(cfvalue,float)==False]"
   ]
  },
  {
   "cell_type": "markdown",
   "metadata": {},
   "source": [
    "# Example with ficticious method"
   ]
  },
  {
   "cell_type": "code",
   "execution_count": 12,
   "metadata": {},
   "outputs": [],
   "source": [
    "e1 = ('biosphere3', '051aaf7a-6c1a-4e86-999f-85d5f0830df6')\n",
    "e2 = ('biosphere3', 'ddd99a3a-be86-423d-b36a-a9dc8af1b1f8')\n",
    "e3 = ('biosphere3', '66f50b33-fd62-4fdd-a373-c5b0de7de00d')\n",
    "e4 = ('biosphere3', '21e46cb8-6233-4c99-bac3-c41d2ab99498')\n",
    "e5 = ('biosphere3', '230d8a0a-517c-43fe-8357-1818dd12997a')"
   ]
  },
  {
   "cell_type": "code",
   "execution_count": 14,
   "metadata": {},
   "outputs": [
    {
     "name": "stdout",
     "output_type": "stream",
     "text": [
      "'Particulate Matter, < 2.5 um' (kilogram, None, ('air', 'low population density, long-term'))\n",
      "'Particulate Matter, < 2.5 um' (kilogram, None, ('air', 'lower stratosphere + upper troposphere'))\n",
      "'Particulate Matter, < 2.5 um' (kilogram, None, ('air', 'non-urban air or from high stacks'))\n",
      "'Particulate Matter, < 2.5 um' (kilogram, None, ('air',))\n",
      "'Particulate Matter, < 2.5 um' (kilogram, None, ('air', 'urban air close to ground'))\n"
     ]
    }
   ],
   "source": [
    "for e in [e1,e2,e3,e4,e5]:\n",
    "    emission = bwd.get_activity(e)\n",
    "    print(emission)"
   ]
  },
  {
   "cell_type": "markdown",
   "metadata": {},
   "source": [
    "## 1 unspecified flow"
   ]
  },
  {
   "cell_type": "code",
   "execution_count": 15,
   "metadata": {},
   "outputs": [],
   "source": [
    "cfs=[(e1,1),\n",
    "     (e2,1),\n",
    "     (e3,1),\n",
    "     (e4,10),#unspecified\n",
    "     (e5,10)]\n",
    "\n",
    "test_method_name_1=('test method','1 unspecified')\n",
    "\n",
    "test_method_1=bwd.Method(test_method_name_1)\n",
    "\n",
    "metadata_test_method={'description':'method to test uncertainty on archetype',\n",
    "                      'unit':'DALY'}\n",
    "\n",
    "test_method_1.register(**metadata_test_method)"
   ]
  },
  {
   "cell_type": "code",
   "execution_count": 15,
   "metadata": {},
   "outputs": [],
   "source": [
    "test_method_1.write(cfs)"
   ]
  },
  {
   "cell_type": "code",
   "execution_count": 16,
   "metadata": {},
   "outputs": [],
   "source": [
    "if ('test method','1 unspecified') not in bwd.methods:\n",
    "    test_method_1.write(cfs)"
   ]
  },
  {
   "cell_type": "code",
   "execution_count": 17,
   "metadata": {},
   "outputs": [],
   "source": [
    "assert ('test method','1 unspecified') in bwd.methods"
   ]
  },
  {
   "cell_type": "markdown",
   "metadata": {},
   "source": [
    "create uncertain version."
   ]
  },
  {
   "cell_type": "code",
   "execution_count": 18,
   "metadata": {},
   "outputs": [
    {
     "data": {
      "text/plain": [
       "{'description': 'method to test uncertainty on archetype',\n",
       " 'unit': 'DALY',\n",
       " 'abbreviation': 'test-method1-unspecified.09ba6589931e66416098408f7a8b09b2',\n",
       " 'num_cfs': 5}"
      ]
     },
     "execution_count": 18,
     "metadata": {},
     "output_type": "execute_result"
    }
   ],
   "source": [
    "bwd.Method(('test method','1 unspecified')).metadata"
   ]
  },
  {
   "cell_type": "code",
   "execution_count": 19,
   "metadata": {},
   "outputs": [
    {
     "data": {
      "text/plain": [
       "[(('biosphere3', '051aaf7a-6c1a-4e86-999f-85d5f0830df6'), 1),\n",
       " (('biosphere3', 'ddd99a3a-be86-423d-b36a-a9dc8af1b1f8'), 1),\n",
       " (('biosphere3', '66f50b33-fd62-4fdd-a373-c5b0de7de00d'), 1),\n",
       " (('biosphere3', '21e46cb8-6233-4c99-bac3-c41d2ab99498'), 10),\n",
       " (('biosphere3', '230d8a0a-517c-43fe-8357-1818dd12997a'), 10)]"
      ]
     },
     "execution_count": 19,
     "metadata": {},
     "output_type": "execute_result"
    }
   ],
   "source": [
    "bwd.Method(('test method','1 unspecified')).load()"
   ]
  },
  {
   "cell_type": "code",
   "execution_count": 20,
   "metadata": {},
   "outputs": [
    {
     "data": {
      "text/plain": [
       "[(('biosphere3', '051aaf7a-6c1a-4e86-999f-85d5f0830df6'), 1),\n",
       " (('biosphere3', 'ddd99a3a-be86-423d-b36a-a9dc8af1b1f8'), 1),\n",
       " (('biosphere3', '66f50b33-fd62-4fdd-a373-c5b0de7de00d'), 1),\n",
       " (('biosphere3', '230d8a0a-517c-43fe-8357-1818dd12997a'), 10),\n",
       " (('biosphere3', '21e46cb8-6233-4c99-bac3-c41d2ab99498'),\n",
       "  {'amount': 10, 'maximum': 10, 'minimum': 1, 'uncertainty type': 4})]"
      ]
     },
     "execution_count": 20,
     "metadata": {},
     "output_type": "execute_result"
    }
   ],
   "source": [
    "cf_add_uncertainty(test_method_name_1,uncertainty_type=4)"
   ]
  },
  {
   "cell_type": "code",
   "execution_count": 21,
   "metadata": {},
   "outputs": [],
   "source": [
    "# uncertain uniform\n",
    "cfs_uniform_t1=cf_add_uncertainty(test_method_name_1,uncertainty_type=4)\n",
    "new_method_name=('test method','1 unspecified','uncertain','uniform')\n",
    "metadata=bw.Method(test_method_name_1).metadata\n",
    "new_method=bw.Method(new_method_name)\n",
    "new_method.register(**metadata)"
   ]
  },
  {
   "cell_type": "code",
   "execution_count": 22,
   "metadata": {},
   "outputs": [],
   "source": [
    "new_method.write(cfs_uniform_t1)"
   ]
  },
  {
   "cell_type": "code",
   "execution_count": 23,
   "metadata": {},
   "outputs": [],
   "source": [
    "# uncertain triangular\n",
    "cfs_triangular_t1=cf_add_uncertainty(test_method_name_1,uncertainty_type=5)\n",
    "new_method_name=('test method','1 unspecified','uncertain','triangular')\n",
    "metadata=bwd.Method(test_method_name_1).metadata\n",
    "new_method=bwd.Method(new_method_name)\n",
    "new_method.register(**metadata)"
   ]
  },
  {
   "cell_type": "code",
   "execution_count": 24,
   "metadata": {},
   "outputs": [],
   "source": [
    "new_method.write(cfs_triangular_t1)"
   ]
  },
  {
   "cell_type": "code",
   "execution_count": 25,
   "metadata": {},
   "outputs": [],
   "source": [
    "assert bw.Method(('test method','1 unspecified','uncertain','uniform')).load() == cf_add_uncertainty(('test method','1 unspecified'))"
   ]
  },
  {
   "cell_type": "code",
   "execution_count": 26,
   "metadata": {},
   "outputs": [
    {
     "data": {
      "text/html": [
       "<div>\n",
       "<style scoped>\n",
       "    .dataframe tbody tr th:only-of-type {\n",
       "        vertical-align: middle;\n",
       "    }\n",
       "\n",
       "    .dataframe tbody tr th {\n",
       "        vertical-align: top;\n",
       "    }\n",
       "\n",
       "    .dataframe thead th {\n",
       "        text-align: right;\n",
       "    }\n",
       "</style>\n",
       "<table border=\"1\" class=\"dataframe\">\n",
       "  <thead>\n",
       "    <tr style=\"text-align: right;\">\n",
       "      <th></th>\n",
       "      <th>database</th>\n",
       "      <th>code</th>\n",
       "      <th>name</th>\n",
       "      <th>amount</th>\n",
       "      <th>unit</th>\n",
       "      <th>type</th>\n",
       "      <th>compartment</th>\n",
       "      <th>subcompartment</th>\n",
       "    </tr>\n",
       "  </thead>\n",
       "  <tbody>\n",
       "    <tr>\n",
       "      <th>0</th>\n",
       "      <td>biosphere3</td>\n",
       "      <td>051aaf7a-6c1a-4e86-999f-85d5f0830df6</td>\n",
       "      <td>Particulates, &lt; 2.5 um</td>\n",
       "      <td>1</td>\n",
       "      <td>kilogram</td>\n",
       "      <td>emission</td>\n",
       "      <td>air</td>\n",
       "      <td>low population density, long-term</td>\n",
       "    </tr>\n",
       "    <tr>\n",
       "      <th>1</th>\n",
       "      <td>biosphere3</td>\n",
       "      <td>ddd99a3a-be86-423d-b36a-a9dc8af1b1f8</td>\n",
       "      <td>Particulates, &lt; 2.5 um</td>\n",
       "      <td>1</td>\n",
       "      <td>kilogram</td>\n",
       "      <td>emission</td>\n",
       "      <td>air</td>\n",
       "      <td>lower stratosphere + upper troposphere</td>\n",
       "    </tr>\n",
       "    <tr>\n",
       "      <th>2</th>\n",
       "      <td>biosphere3</td>\n",
       "      <td>66f50b33-fd62-4fdd-a373-c5b0de7de00d</td>\n",
       "      <td>Particulates, &lt; 2.5 um</td>\n",
       "      <td>1</td>\n",
       "      <td>kilogram</td>\n",
       "      <td>emission</td>\n",
       "      <td>air</td>\n",
       "      <td>non-urban air or from high stacks</td>\n",
       "    </tr>\n",
       "    <tr>\n",
       "      <th>3</th>\n",
       "      <td>biosphere3</td>\n",
       "      <td>230d8a0a-517c-43fe-8357-1818dd12997a</td>\n",
       "      <td>Particulates, &lt; 2.5 um</td>\n",
       "      <td>10</td>\n",
       "      <td>kilogram</td>\n",
       "      <td>emission</td>\n",
       "      <td>air</td>\n",
       "      <td>urban air close to ground</td>\n",
       "    </tr>\n",
       "    <tr>\n",
       "      <th>4</th>\n",
       "      <td>biosphere3</td>\n",
       "      <td>21e46cb8-6233-4c99-bac3-c41d2ab99498</td>\n",
       "      <td>Particulates, &lt; 2.5 um</td>\n",
       "      <td>{'amount': 10, 'maximum': 10, 'minimum': 1, 'u...</td>\n",
       "      <td>kilogram</td>\n",
       "      <td>emission</td>\n",
       "      <td>air</td>\n",
       "      <td>None</td>\n",
       "    </tr>\n",
       "  </tbody>\n",
       "</table>\n",
       "</div>"
      ],
      "text/plain": [
       "     database                                  code                    name  \\\n",
       "0  biosphere3  051aaf7a-6c1a-4e86-999f-85d5f0830df6  Particulates, < 2.5 um   \n",
       "1  biosphere3  ddd99a3a-be86-423d-b36a-a9dc8af1b1f8  Particulates, < 2.5 um   \n",
       "2  biosphere3  66f50b33-fd62-4fdd-a373-c5b0de7de00d  Particulates, < 2.5 um   \n",
       "3  biosphere3  230d8a0a-517c-43fe-8357-1818dd12997a  Particulates, < 2.5 um   \n",
       "4  biosphere3  21e46cb8-6233-4c99-bac3-c41d2ab99498  Particulates, < 2.5 um   \n",
       "\n",
       "                                              amount      unit      type  \\\n",
       "0                                                  1  kilogram  emission   \n",
       "1                                                  1  kilogram  emission   \n",
       "2                                                  1  kilogram  emission   \n",
       "3                                                 10  kilogram  emission   \n",
       "4  {'amount': 10, 'maximum': 10, 'minimum': 1, 'u...  kilogram  emission   \n",
       "\n",
       "  compartment                          subcompartment  \n",
       "0         air       low population density, long-term  \n",
       "1         air  lower stratosphere + upper troposphere  \n",
       "2         air       non-urban air or from high stacks  \n",
       "3         air               urban air close to ground  \n",
       "4         air                                    None  "
      ]
     },
     "execution_count": 26,
     "metadata": {},
     "output_type": "execute_result"
    }
   ],
   "source": [
    "cf_df= get_cf_info(('test method','1 unspecified','uncertain','uniform'))\n",
    "cf_df"
   ]
  },
  {
   "cell_type": "markdown",
   "metadata": {},
   "source": [
    "some validations"
   ]
  },
  {
   "cell_type": "code",
   "execution_count": 27,
   "metadata": {},
   "outputs": [],
   "source": [
    "# get_cf_info returns the same number of cf than the method\n",
    "assert len(bwd.Method(('test method','1 unspecified','uncertain','uniform')).load()) == len(get_cf_info(('test method','1 unspecified','uncertain','uniform')))"
   ]
  },
  {
   "cell_type": "code",
   "execution_count": 28,
   "metadata": {},
   "outputs": [],
   "source": [
    "#data type\n",
    "assert pd.api.types.is_numeric_dtype(get_cf_info(('test method','1 unspecified')).amount)"
   ]
  },
  {
   "cell_type": "code",
   "execution_count": 29,
   "metadata": {},
   "outputs": [],
   "source": [
    "# there is just one uncertain flow\n",
    "assert len(minmax_archetype(get_cf_info(('test method','1 unspecified'))))==1"
   ]
  },
  {
   "cell_type": "code",
   "execution_count": 30,
   "metadata": {},
   "outputs": [],
   "source": [
    "# the maximum and minimum is rightly calculated\n",
    "assert minmax_archetype(get_cf_info(('test method','1 unspecified'))).loc[0,'maximum']==\\\n",
    "get_cf_info(('test method','1 unspecified'))['amount'].max()\n",
    "\n",
    "assert minmax_archetype(get_cf_info(('test method','1 unspecified'))).loc[0,'minimum']==\\\n",
    "get_cf_info(('test method','1 unspecified'))['amount'].min()"
   ]
  },
  {
   "cell_type": "code",
   "execution_count": 31,
   "metadata": {},
   "outputs": [],
   "source": [
    "#test the fields \n",
    "cfs_uncertain=[cf for k,cf in cf_add_uncertainty(('test method','1 unspecified')) if isinstance(cf,dict)]\n",
    "\n",
    "for cf in cfs_uncertain:\n",
    "    assert 'amount' in cf\n",
    "    assert 'minimum' in cf\n",
    "    assert 'maximum' in cf\n",
    "    assert 'uncertainty type' in cf"
   ]
  },
  {
   "cell_type": "markdown",
   "metadata": {},
   "source": [
    "## 0 unnespecified flows"
   ]
  },
  {
   "cell_type": "code",
   "execution_count": 32,
   "metadata": {},
   "outputs": [],
   "source": [
    "cfs=[(e1,1),\n",
    " (e2,1),\n",
    " (e3,1),\n",
    " #(e4,10),#unspecified\n",
    " (e5,10)]\n",
    "\n",
    "test_method_name_2=('test method','0 unspecified')\n",
    "\n",
    "test_method_2=bw.Method(test_method_name_2)\n",
    "\n",
    "metadata_test_method_2={'description':'method to test uncertainty on archetype',\n",
    " 'unit':'DALY'}\n",
    "\n",
    "test_method_2.register(**metadata_test_method_2)\n",
    "\n",
    "test_method_2.write(cfs)"
   ]
  },
  {
   "cell_type": "code",
   "execution_count": 33,
   "metadata": {},
   "outputs": [
    {
     "data": {
      "text/html": [
       "<div>\n",
       "<style scoped>\n",
       "    .dataframe tbody tr th:only-of-type {\n",
       "        vertical-align: middle;\n",
       "    }\n",
       "\n",
       "    .dataframe tbody tr th {\n",
       "        vertical-align: top;\n",
       "    }\n",
       "\n",
       "    .dataframe thead th {\n",
       "        text-align: right;\n",
       "    }\n",
       "</style>\n",
       "<table border=\"1\" class=\"dataframe\">\n",
       "  <thead>\n",
       "    <tr style=\"text-align: right;\">\n",
       "      <th></th>\n",
       "      <th>database</th>\n",
       "      <th>code</th>\n",
       "      <th>name</th>\n",
       "      <th>amount</th>\n",
       "      <th>unit</th>\n",
       "      <th>type</th>\n",
       "      <th>compartment</th>\n",
       "      <th>subcompartment</th>\n",
       "    </tr>\n",
       "  </thead>\n",
       "  <tbody>\n",
       "    <tr>\n",
       "      <th>0</th>\n",
       "      <td>biosphere3</td>\n",
       "      <td>051aaf7a-6c1a-4e86-999f-85d5f0830df6</td>\n",
       "      <td>Particulates, &lt; 2.5 um</td>\n",
       "      <td>1</td>\n",
       "      <td>kilogram</td>\n",
       "      <td>emission</td>\n",
       "      <td>air</td>\n",
       "      <td>low population density, long-term</td>\n",
       "    </tr>\n",
       "    <tr>\n",
       "      <th>1</th>\n",
       "      <td>biosphere3</td>\n",
       "      <td>ddd99a3a-be86-423d-b36a-a9dc8af1b1f8</td>\n",
       "      <td>Particulates, &lt; 2.5 um</td>\n",
       "      <td>1</td>\n",
       "      <td>kilogram</td>\n",
       "      <td>emission</td>\n",
       "      <td>air</td>\n",
       "      <td>lower stratosphere + upper troposphere</td>\n",
       "    </tr>\n",
       "    <tr>\n",
       "      <th>2</th>\n",
       "      <td>biosphere3</td>\n",
       "      <td>66f50b33-fd62-4fdd-a373-c5b0de7de00d</td>\n",
       "      <td>Particulates, &lt; 2.5 um</td>\n",
       "      <td>1</td>\n",
       "      <td>kilogram</td>\n",
       "      <td>emission</td>\n",
       "      <td>air</td>\n",
       "      <td>non-urban air or from high stacks</td>\n",
       "    </tr>\n",
       "    <tr>\n",
       "      <th>3</th>\n",
       "      <td>biosphere3</td>\n",
       "      <td>230d8a0a-517c-43fe-8357-1818dd12997a</td>\n",
       "      <td>Particulates, &lt; 2.5 um</td>\n",
       "      <td>10</td>\n",
       "      <td>kilogram</td>\n",
       "      <td>emission</td>\n",
       "      <td>air</td>\n",
       "      <td>urban air close to ground</td>\n",
       "    </tr>\n",
       "  </tbody>\n",
       "</table>\n",
       "</div>"
      ],
      "text/plain": [
       "     database                                  code                    name  \\\n",
       "0  biosphere3  051aaf7a-6c1a-4e86-999f-85d5f0830df6  Particulates, < 2.5 um   \n",
       "1  biosphere3  ddd99a3a-be86-423d-b36a-a9dc8af1b1f8  Particulates, < 2.5 um   \n",
       "2  biosphere3  66f50b33-fd62-4fdd-a373-c5b0de7de00d  Particulates, < 2.5 um   \n",
       "3  biosphere3  230d8a0a-517c-43fe-8357-1818dd12997a  Particulates, < 2.5 um   \n",
       "\n",
       "   amount      unit      type compartment  \\\n",
       "0       1  kilogram  emission         air   \n",
       "1       1  kilogram  emission         air   \n",
       "2       1  kilogram  emission         air   \n",
       "3      10  kilogram  emission         air   \n",
       "\n",
       "                           subcompartment  \n",
       "0       low population density, long-term  \n",
       "1  lower stratosphere + upper troposphere  \n",
       "2       non-urban air or from high stacks  \n",
       "3               urban air close to ground  "
      ]
     },
     "execution_count": 33,
     "metadata": {},
     "output_type": "execute_result"
    }
   ],
   "source": [
    "get_cf_info(('test method','0 unspecified'))"
   ]
  },
  {
   "cell_type": "code",
   "execution_count": 34,
   "metadata": {},
   "outputs": [],
   "source": [
    "minmax_archetype(get_cf_info(test_method_name_2))"
   ]
  },
  {
   "cell_type": "code",
   "execution_count": 35,
   "metadata": {},
   "outputs": [],
   "source": [
    "cf_add_uncertainty(('test method','0 unspecified'))"
   ]
  },
  {
   "cell_type": "code",
   "execution_count": 36,
   "metadata": {},
   "outputs": [],
   "source": [
    "assert cf_add_uncertainty(test_method_name_2) is None"
   ]
  },
  {
   "cell_type": "markdown",
   "metadata": {},
   "source": [
    "## 1 flow only, and unspecified"
   ]
  },
  {
   "cell_type": "code",
   "execution_count": 37,
   "metadata": {},
   "outputs": [],
   "source": [
    "cfs=[\n",
    " #(e1,1),\n",
    " #(e2,1),\n",
    " #(e3,1),\n",
    " (e4,10),#unspecified\n",
    " #(e5,10)\n",
    "]\n",
    "\n",
    "test_method_name_3=('test method','1 only unspecified')\n",
    "\n",
    "test_method_3=bw.Method(test_method_name_3)\n",
    "\n",
    "metadata_test_method_3={'description':'method to test uncertainty on archetype',\n",
    " 'unit':'DALY'}\n",
    "\n",
    "test_method_3.register(**metadata_test_method_3)\n",
    "\n",
    "test_method_3.write(cfs)"
   ]
  },
  {
   "cell_type": "code",
   "execution_count": 38,
   "metadata": {},
   "outputs": [],
   "source": [
    "cf_df = get_cf_info(('test method','1 only unspecified'))"
   ]
  },
  {
   "cell_type": "code",
   "execution_count": 39,
   "metadata": {},
   "outputs": [
    {
     "data": {
      "text/html": [
       "<div>\n",
       "<style scoped>\n",
       "    .dataframe tbody tr th:only-of-type {\n",
       "        vertical-align: middle;\n",
       "    }\n",
       "\n",
       "    .dataframe tbody tr th {\n",
       "        vertical-align: top;\n",
       "    }\n",
       "\n",
       "    .dataframe thead th {\n",
       "        text-align: right;\n",
       "    }\n",
       "</style>\n",
       "<table border=\"1\" class=\"dataframe\">\n",
       "  <thead>\n",
       "    <tr style=\"text-align: right;\">\n",
       "      <th></th>\n",
       "      <th>database</th>\n",
       "      <th>code</th>\n",
       "      <th>name</th>\n",
       "      <th>amount</th>\n",
       "      <th>unit</th>\n",
       "      <th>type</th>\n",
       "      <th>compartment</th>\n",
       "      <th>subcompartment</th>\n",
       "    </tr>\n",
       "  </thead>\n",
       "  <tbody>\n",
       "    <tr>\n",
       "      <th>0</th>\n",
       "      <td>biosphere3</td>\n",
       "      <td>21e46cb8-6233-4c99-bac3-c41d2ab99498</td>\n",
       "      <td>Particulates, &lt; 2.5 um</td>\n",
       "      <td>10</td>\n",
       "      <td>kilogram</td>\n",
       "      <td>emission</td>\n",
       "      <td>air</td>\n",
       "      <td>None</td>\n",
       "    </tr>\n",
       "  </tbody>\n",
       "</table>\n",
       "</div>"
      ],
      "text/plain": [
       "     database                                  code                    name  \\\n",
       "0  biosphere3  21e46cb8-6233-4c99-bac3-c41d2ab99498  Particulates, < 2.5 um   \n",
       "\n",
       "   amount      unit      type compartment subcompartment  \n",
       "0      10  kilogram  emission         air           None  "
      ]
     },
     "execution_count": 39,
     "metadata": {},
     "output_type": "execute_result"
    }
   ],
   "source": [
    "cf_df"
   ]
  },
  {
   "cell_type": "code",
   "execution_count": 40,
   "metadata": {},
   "outputs": [],
   "source": [
    "assert cf_add_uncertainty(('test method','1 only unspecified')) is None"
   ]
  },
  {
   "cell_type": "markdown",
   "metadata": {},
   "source": [
    "## create product system example\n",
    "\n",
    "create a very simple product system for validation purposes"
   ]
  },
  {
   "cell_type": "markdown",
   "metadata": {},
   "source": [
    "activity 1"
   ]
  },
  {
   "cell_type": "code",
   "execution_count": 16,
   "metadata": {},
   "outputs": [],
   "source": [
    "act1_key=('test_db','activity_1')"
   ]
  },
  {
   "cell_type": "code",
   "execution_count": 17,
   "metadata": {},
   "outputs": [],
   "source": [
    "# a unique emission of PM in an uncertain archetype\n",
    "biosphere_exchange_1={'amount':1,\n",
    "                    'input':e4,\n",
    "                    'output':act1_key,\n",
    "                    'type':'biosphere',\n",
    "                    'uncertainty type': 0}"
   ]
  },
  {
   "cell_type": "code",
   "execution_count": 18,
   "metadata": {},
   "outputs": [],
   "source": [
    "production_exchange_1={'amount':1,\n",
    "                     'input':act1_key,\n",
    "                     'output':act1_key,\n",
    "                     'type':'production',\n",
    "                     'uncertainty type':0}"
   ]
  },
  {
   "cell_type": "code",
   "execution_count": 19,
   "metadata": {},
   "outputs": [],
   "source": [
    "act_1_dict={'name':'test_activity_1',\n",
    " 'unit':'megajoule',\n",
    " 'exchanges':[production_exchange_1,biosphere_exchange_1]}"
   ]
  },
  {
   "cell_type": "code",
   "execution_count": 45,
   "metadata": {},
   "outputs": [],
   "source": [
    "#act1_data={act1_key:act_1_dict}"
   ]
  },
  {
   "cell_type": "markdown",
   "metadata": {},
   "source": [
    "activity 2"
   ]
  },
  {
   "cell_type": "code",
   "execution_count": 20,
   "metadata": {},
   "outputs": [],
   "source": [
    "act2_key=('test_db','activity_2')"
   ]
  },
  {
   "cell_type": "code",
   "execution_count": 21,
   "metadata": {},
   "outputs": [],
   "source": [
    "production_exchange_2={'amount':1,\n",
    "                     'input':act2_key,\n",
    "                     'output':act2_key,\n",
    "                     'type':'production',\n",
    "                     'uncertainty type':0}"
   ]
  },
  {
   "cell_type": "code",
   "execution_count": 22,
   "metadata": {},
   "outputs": [],
   "source": [
    "technosphere_exchange_1={\n",
    "    'amount':10, # or negative?\n",
    "    'input':act1_key,\n",
    "    'output':act2_key,\n",
    "    'type':'technosphere',\n",
    "    'uncertainty type':3,\n",
    "    'loc':10,\n",
    "    'scale':1,\n",
    "}"
   ]
  },
  {
   "cell_type": "code",
   "execution_count": 23,
   "metadata": {},
   "outputs": [],
   "source": [
    "act_2_dict={'name':'test_activity_2','unit':'megajoule','exchanges':\n",
    "[production_exchange_2,technosphere_exchange_1]}"
   ]
  },
  {
   "cell_type": "code",
   "execution_count": 50,
   "metadata": {},
   "outputs": [],
   "source": [
    "#act2_data={act2_key:act_2_dict}"
   ]
  },
  {
   "cell_type": "code",
   "execution_count": 24,
   "metadata": {},
   "outputs": [],
   "source": [
    "database_dict={act1_key:act_1_dict,\n",
    "               act2_key:act_2_dict}"
   ]
  },
  {
   "cell_type": "code",
   "execution_count": 25,
   "metadata": {},
   "outputs": [],
   "source": [
    "db=bwd.Database('test_db')"
   ]
  },
  {
   "cell_type": "code",
   "execution_count": 29,
   "metadata": {},
   "outputs": [
    {
     "name": "stdout",
     "output_type": "stream",
     "text": [
      "Not able to determine geocollections for all datasets. This database is not ready for regionalization.\n",
      "Warning: No valid output stream.\n",
      "Title: Writing activities to SQLite3 database:\n",
      "  Started: 03/11/2023 09:26:47\n",
      "  Finished: 03/11/2023 09:26:47\n",
      "  Total time elapsed: 00:00:00\n",
      "  CPU %: 0.00\n",
      "  Memory %: 5.38\n"
     ]
    }
   ],
   "source": [
    "db.write(database_dict)"
   ]
  },
  {
   "cell_type": "markdown",
   "metadata": {},
   "source": [
    "## simplest test"
   ]
  },
  {
   "cell_type": "code",
   "execution_count": 30,
   "metadata": {},
   "outputs": [
    {
     "ename": "CreateFailed",
     "evalue": "unable to create filesystem, [Errno 2] No such file or directory: '/home/migmig/.local/share/Brightway3/test_ulcarchetype.3f6f4fb7/processed/test-method1-unspecified.09ba6589931e66416098408f7a8b09b2.zip'",
     "output_type": "error",
     "traceback": [
      "\u001b[0;31m---------------------------------------------------------------------------\u001b[0m",
      "\u001b[0;31mFileNotFoundError\u001b[0m                         Traceback (most recent call last)",
      "File \u001b[0;32m~/anaconda3/envs/ds/lib/python3.11/site-packages/fs/errors.py:126\u001b[0m, in \u001b[0;36mCreateFailed.catch_all.<locals>.new_func\u001b[0;34m(*args, **kwargs)\u001b[0m\n\u001b[1;32m    125\u001b[0m \u001b[39mtry\u001b[39;00m:\n\u001b[0;32m--> 126\u001b[0m     \u001b[39mreturn\u001b[39;00m func(\u001b[39m*\u001b[39;49margs, \u001b[39m*\u001b[39;49m\u001b[39m*\u001b[39;49mkwargs)\n\u001b[1;32m    127\u001b[0m \u001b[39mexcept\u001b[39;00m \u001b[39mcls\u001b[39m:\n",
      "File \u001b[0;32m~/anaconda3/envs/ds/lib/python3.11/site-packages/fs/zipfs.py:297\u001b[0m, in \u001b[0;36mReadZipFS.__init__\u001b[0;34m(self, file, encoding)\u001b[0m\n\u001b[1;32m    296\u001b[0m \u001b[39mself\u001b[39m\u001b[39m.\u001b[39mencoding \u001b[39m=\u001b[39m encoding\n\u001b[0;32m--> 297\u001b[0m \u001b[39mself\u001b[39m\u001b[39m.\u001b[39m_zip \u001b[39m=\u001b[39m zipfile\u001b[39m.\u001b[39;49mZipFile(file, \u001b[39m\"\u001b[39;49m\u001b[39mr\u001b[39;49m\u001b[39m\"\u001b[39;49m)\n\u001b[1;32m    298\u001b[0m \u001b[39mself\u001b[39m\u001b[39m.\u001b[39m_directory_fs \u001b[39m=\u001b[39m \u001b[39mNone\u001b[39;00m\n",
      "File \u001b[0;32m~/anaconda3/envs/ds/lib/python3.11/zipfile.py:1281\u001b[0m, in \u001b[0;36mZipFile.__init__\u001b[0;34m(self, file, mode, compression, allowZip64, compresslevel, strict_timestamps, metadata_encoding)\u001b[0m\n\u001b[1;32m   1280\u001b[0m \u001b[39mtry\u001b[39;00m:\n\u001b[0;32m-> 1281\u001b[0m     \u001b[39mself\u001b[39m\u001b[39m.\u001b[39mfp \u001b[39m=\u001b[39m io\u001b[39m.\u001b[39mopen(file, filemode)\n\u001b[1;32m   1282\u001b[0m \u001b[39mexcept\u001b[39;00m \u001b[39mOSError\u001b[39;00m:\n",
      "\u001b[0;31mFileNotFoundError\u001b[0m: [Errno 2] No such file or directory: '/home/migmig/.local/share/Brightway3/test_ulcarchetype.3f6f4fb7/processed/test-method1-unspecified.09ba6589931e66416098408f7a8b09b2.zip'",
      "\nDuring handling of the above exception, another exception occurred:\n",
      "\u001b[0;31mCreateFailed\u001b[0m                              Traceback (most recent call last)",
      "Cell \u001b[0;32mIn[30], line 1\u001b[0m\n\u001b[0;32m----> 1\u001b[0m lca\u001b[39m=\u001b[39mbwc\u001b[39m.\u001b[39;49mLCA({(\u001b[39m'\u001b[39;49m\u001b[39mtest_db\u001b[39;49m\u001b[39m'\u001b[39;49m,\u001b[39m'\u001b[39;49m\u001b[39mactivity_2\u001b[39;49m\u001b[39m'\u001b[39;49m):\u001b[39m1\u001b[39;49m},(\u001b[39m'\u001b[39;49m\u001b[39mtest method\u001b[39;49m\u001b[39m'\u001b[39;49m,\u001b[39m'\u001b[39;49m\u001b[39m1 unspecified\u001b[39;49m\u001b[39m'\u001b[39;49m))\n",
      "File \u001b[0;32m~/anaconda3/envs/ds/lib/python3.11/site-packages/bw2calc/lca.py:79\u001b[0m, in \u001b[0;36mLCA.__init__\u001b[0;34m(self, demand, method, weighting, normalization, data_objs, remapping_dicts, log_config, seed_override, use_arrays, use_distributions)\u001b[0m\n\u001b[1;32m     77\u001b[0m \u001b[39mif\u001b[39;00m data_objs \u001b[39mis\u001b[39;00m \u001b[39mNone\u001b[39;00m:\n\u001b[1;32m     78\u001b[0m     \u001b[39mself\u001b[39m\u001b[39m.\u001b[39mensure_bw2data_available()\n\u001b[0;32m---> 79\u001b[0m     demand, \u001b[39mself\u001b[39m\u001b[39m.\u001b[39mpackages, remapping_dicts \u001b[39m=\u001b[39m prepare_lca_inputs(\n\u001b[1;32m     80\u001b[0m         demand\u001b[39m=\u001b[39;49mdemand,\n\u001b[1;32m     81\u001b[0m         method\u001b[39m=\u001b[39;49mmethod,\n\u001b[1;32m     82\u001b[0m         weighting\u001b[39m=\u001b[39;49mweighting,\n\u001b[1;32m     83\u001b[0m         normalization\u001b[39m=\u001b[39;49mnormalization,\n\u001b[1;32m     84\u001b[0m     )\n\u001b[1;32m     85\u001b[0m     \u001b[39mself\u001b[39m\u001b[39m.\u001b[39mmethod \u001b[39m=\u001b[39m method\n\u001b[1;32m     86\u001b[0m     \u001b[39mself\u001b[39m\u001b[39m.\u001b[39mweighting \u001b[39m=\u001b[39m weighting\n",
      "File \u001b[0;32m~/anaconda3/envs/ds/lib/python3.11/site-packages/bw2data/compat.py:123\u001b[0m, in \u001b[0;36mprepare_lca_inputs\u001b[0;34m(demand, method, weighting, normalization, demands, remapping, demand_database_last)\u001b[0m\n\u001b[1;32m    121\u001b[0m \u001b[39mif\u001b[39;00m method:\n\u001b[1;32m    122\u001b[0m     \u001b[39massert\u001b[39;00m method \u001b[39min\u001b[39;00m methods\n\u001b[0;32m--> 123\u001b[0m     data_objs\u001b[39m.\u001b[39mappend(Method(method)\u001b[39m.\u001b[39;49mdatapackage())\n\u001b[1;32m    124\u001b[0m \u001b[39mif\u001b[39;00m weighting:\n\u001b[1;32m    125\u001b[0m     \u001b[39massert\u001b[39;00m weighting \u001b[39min\u001b[39;00m weightings\n",
      "File \u001b[0;32m~/anaconda3/envs/ds/lib/python3.11/site-packages/bw2data/data_store.py:163\u001b[0m, in \u001b[0;36mProcessedDataStore.datapackage\u001b[0;34m(self)\u001b[0m\n\u001b[1;32m    162\u001b[0m \u001b[39mdef\u001b[39;00m \u001b[39mdatapackage\u001b[39m(\u001b[39mself\u001b[39m):\n\u001b[0;32m--> 163\u001b[0m     \u001b[39mreturn\u001b[39;00m load_datapackage(ZipFS(\u001b[39mself\u001b[39;49m\u001b[39m.\u001b[39;49mfilepath_processed()))\n",
      "File \u001b[0;32m~/anaconda3/envs/ds/lib/python3.11/site-packages/fs/zipfs.py:184\u001b[0m, in \u001b[0;36mZipFS.__new__\u001b[0;34m(cls, file, write, compression, encoding, temp_fs)\u001b[0m\n\u001b[1;32m    180\u001b[0m     \u001b[39mreturn\u001b[39;00m WriteZipFS(\n\u001b[1;32m    181\u001b[0m         file, compression\u001b[39m=\u001b[39mcompression, encoding\u001b[39m=\u001b[39mencoding, temp_fs\u001b[39m=\u001b[39mtemp_fs\n\u001b[1;32m    182\u001b[0m     )\n\u001b[1;32m    183\u001b[0m \u001b[39melse\u001b[39;00m:\n\u001b[0;32m--> 184\u001b[0m     \u001b[39mreturn\u001b[39;00m ReadZipFS(file, encoding\u001b[39m=\u001b[39;49mencoding)\n",
      "File \u001b[0;32m~/anaconda3/envs/ds/lib/python3.11/site-packages/fs/errors.py:130\u001b[0m, in \u001b[0;36mCreateFailed.catch_all.<locals>.new_func\u001b[0;34m(*args, **kwargs)\u001b[0m\n\u001b[1;32m    128\u001b[0m     \u001b[39mraise\u001b[39;00m\n\u001b[1;32m    129\u001b[0m \u001b[39mexcept\u001b[39;00m \u001b[39mException\u001b[39;00m \u001b[39mas\u001b[39;00m e:\n\u001b[0;32m--> 130\u001b[0m     \u001b[39mraise\u001b[39;00m \u001b[39mcls\u001b[39m(exc\u001b[39m=\u001b[39me)\n",
      "\u001b[0;31mCreateFailed\u001b[0m: unable to create filesystem, [Errno 2] No such file or directory: '/home/migmig/.local/share/Brightway3/test_ulcarchetype.3f6f4fb7/processed/test-method1-unspecified.09ba6589931e66416098408f7a8b09b2.zip'"
     ]
    }
   ],
   "source": [
    "lca=bwc.LCA({('test_db','activity_2'):1},('test method','1 unspecified'))"
   ]
  },
  {
   "cell_type": "code",
   "execution_count": 55,
   "metadata": {},
   "outputs": [
    {
     "data": {
      "text/plain": [
       "100.0"
      ]
     },
     "execution_count": 55,
     "metadata": {},
     "output_type": "execute_result"
    }
   ],
   "source": [
    "lca.lci()\n",
    "lca.lcia()\n",
    "lca.score"
   ]
  },
  {
   "cell_type": "code",
   "execution_count": 56,
   "metadata": {},
   "outputs": [
    {
     "data": {
      "text/plain": [
       "array([[  1., -10.],\n",
       "       [  0.,   1.]])"
      ]
     },
     "execution_count": 56,
     "metadata": {},
     "output_type": "execute_result"
    }
   ],
   "source": [
    "lca.technosphere_matrix.toarray()"
   ]
  },
  {
   "cell_type": "code",
   "execution_count": 57,
   "metadata": {},
   "outputs": [],
   "source": [
    "ainv=np.linalg.inv(lca.technosphere_matrix.toarray())"
   ]
  },
  {
   "cell_type": "code",
   "execution_count": 58,
   "metadata": {},
   "outputs": [
    {
     "data": {
      "text/plain": [
       "array([[1., 0.]])"
      ]
     },
     "execution_count": 58,
     "metadata": {},
     "output_type": "execute_result"
    }
   ],
   "source": [
    "(lca.biosphere_matrix.toarray()).dot((ainv.dot(np.eye(2))).T)"
   ]
  },
  {
   "cell_type": "code",
   "execution_count": 59,
   "metadata": {},
   "outputs": [
    {
     "data": {
      "text/plain": [
       "array([0., 1.])"
      ]
     },
     "execution_count": 59,
     "metadata": {},
     "output_type": "execute_result"
    }
   ],
   "source": [
    "lca.demand_array"
   ]
  },
  {
   "cell_type": "code",
   "execution_count": 60,
   "metadata": {},
   "outputs": [
    {
     "data": {
      "text/plain": [
       "array([[1., 0.]])"
      ]
     },
     "execution_count": 60,
     "metadata": {},
     "output_type": "execute_result"
    }
   ],
   "source": [
    "lca.biosphere_matrix.toarray()"
   ]
  },
  {
   "cell_type": "code",
   "execution_count": 61,
   "metadata": {},
   "outputs": [
    {
     "data": {
      "text/plain": [
       "array([10.,  1.])"
      ]
     },
     "execution_count": 61,
     "metadata": {},
     "output_type": "execute_result"
    }
   ],
   "source": [
    "lca.supply_array"
   ]
  },
  {
   "cell_type": "code",
   "execution_count": 62,
   "metadata": {},
   "outputs": [
    {
     "data": {
      "text/plain": [
       "{('test_db', 'activity_2'): 1}"
      ]
     },
     "execution_count": 62,
     "metadata": {},
     "output_type": "execute_result"
    }
   ],
   "source": [
    "lca.demand"
   ]
  },
  {
   "cell_type": "code",
   "execution_count": 63,
   "metadata": {},
   "outputs": [],
   "source": [
    "lca.switch_method(method=('test method','1 unspecified','uncertain','uniform'))"
   ]
  },
  {
   "cell_type": "code",
   "execution_count": 64,
   "metadata": {},
   "outputs": [],
   "source": [
    "lca.redo_lcia(demand={act2_key:1})"
   ]
  },
  {
   "cell_type": "code",
   "execution_count": 65,
   "metadata": {},
   "outputs": [
    {
     "data": {
      "text/plain": [
       "100.0"
      ]
     },
     "execution_count": 65,
     "metadata": {},
     "output_type": "execute_result"
    }
   ],
   "source": [
    "lca.score"
   ]
  },
  {
   "cell_type": "markdown",
   "metadata": {},
   "source": [
    "uniform"
   ]
  },
  {
   "cell_type": "code",
   "execution_count": 66,
   "metadata": {},
   "outputs": [],
   "source": [
    "mc_uncertain_u=bw.MonteCarloLCA({act2_key:1},('test method','1 unspecified','uncertain','uniform'))"
   ]
  },
  {
   "cell_type": "code",
   "execution_count": 67,
   "metadata": {},
   "outputs": [
    {
     "name": "stdout",
     "output_type": "stream",
     "text": [
      "Wall time: 11.6 s\n"
     ]
    }
   ],
   "source": [
    "%time results_uncertain_u = [next(mc_uncertain_u) for _ in range(0,10000)]"
   ]
  },
  {
   "cell_type": "code",
   "execution_count": 68,
   "metadata": {},
   "outputs": [],
   "source": [
    "mc_uncertain_t=bw.MonteCarloLCA({act2_key:1},('test method','1 unspecified','uncertain','triangular'))"
   ]
  },
  {
   "cell_type": "code",
   "execution_count": 69,
   "metadata": {},
   "outputs": [
    {
     "name": "stdout",
     "output_type": "stream",
     "text": [
      "Wall time: 11.1 s\n"
     ]
    }
   ],
   "source": [
    "%time results_uncertain_t = [next(mc_uncertain_t) for _ in range(0,10000)]"
   ]
  },
  {
   "cell_type": "code",
   "execution_count": 70,
   "metadata": {},
   "outputs": [],
   "source": [
    "mc_reference = bw.MonteCarloLCA({act2_key:1},('test method','1 unspecified'))"
   ]
  },
  {
   "cell_type": "code",
   "execution_count": 71,
   "metadata": {},
   "outputs": [
    {
     "name": "stdout",
     "output_type": "stream",
     "text": [
      "Wall time: 10.8 s\n"
     ]
    }
   ],
   "source": [
    "%time results_reference = [next(mc_reference) for _ in range(0,10000)]"
   ]
  },
  {
   "cell_type": "code",
   "execution_count": 72,
   "metadata": {},
   "outputs": [
    {
     "data": {
      "image/png": "[encoded data removed]",
      "text/plain": [
       "<Figure size 432x288 with 1 Axes>"
      ]
     },
     "metadata": {
      "needs_background": "light"
     },
     "output_type": "display_data"
    }
   ],
   "source": [
    "plt.hist(results_reference,density=True,alpha=0.7,label='static CF',bins=50);\n",
    "plt.hist(results_uncertain_u,density=True,alpha=0.5,label='uniform CF',bins=50);\n",
    "plt.hist(results_uncertain_t,density=True,alpha=0.5,label='triangular CF',bins=50);\n",
    "plt.legend();"
   ]
  },
  {
   "cell_type": "code",
   "execution_count": 73,
   "metadata": {},
   "outputs": [
    {
     "data": {
      "text/plain": [
       "[(('biosphere3', '051aaf7a-6c1a-4e86-999f-85d5f0830df6'), 1),\n",
       " (('biosphere3', 'ddd99a3a-be86-423d-b36a-a9dc8af1b1f8'), 1),\n",
       " (('biosphere3', '66f50b33-fd62-4fdd-a373-c5b0de7de00d'), 1),\n",
       " (('biosphere3', '230d8a0a-517c-43fe-8357-1818dd12997a'), 10),\n",
       " (('biosphere3', '21e46cb8-6233-4c99-bac3-c41d2ab99498'),\n",
       "  {'amount': 10, 'maximum': 10, 'minimum': 1, 'uncertainty type': 4})]"
      ]
     },
     "execution_count": 73,
     "metadata": {},
     "output_type": "execute_result"
    }
   ],
   "source": [
    "bw.Method(('test method','1 unspecified','uncertain','uniform')).load()"
   ]
  },
  {
   "cell_type": "code",
   "execution_count": 74,
   "metadata": {},
   "outputs": [
    {
     "data": {
      "text/plain": [
       "[(('biosphere3', '051aaf7a-6c1a-4e86-999f-85d5f0830df6'), 1),\n",
       " (('biosphere3', 'ddd99a3a-be86-423d-b36a-a9dc8af1b1f8'), 1),\n",
       " (('biosphere3', '66f50b33-fd62-4fdd-a373-c5b0de7de00d'), 1),\n",
       " (('biosphere3', '230d8a0a-517c-43fe-8357-1818dd12997a'), 10),\n",
       " (('biosphere3', '21e46cb8-6233-4c99-bac3-c41d2ab99498'),\n",
       "  {'amount': 10,\n",
       "   'maximum': 10,\n",
       "   'minimum': 1,\n",
       "   'loc': 10,\n",
       "   'uncertainty type': 5})]"
      ]
     },
     "execution_count": 74,
     "metadata": {},
     "output_type": "execute_result"
    }
   ],
   "source": [
    "bw.Method(('test method','1 unspecified','uncertain','triangular')).load()"
   ]
  },
  {
   "cell_type": "code",
   "execution_count": null,
   "metadata": {},
   "outputs": [],
   "source": []
  }
 ],
 "metadata": {
  "kernelspec": {
   "display_name": "ds",
   "language": "python",
   "name": "python3"
  },
  "language_info": {
   "codemirror_mode": {
    "name": "ipython",
    "version": 3
   },
   "file_extension": ".py",
   "mimetype": "text/x-python",
   "name": "python",
   "nbconvert_exporter": "python",
   "pygments_lexer": "ipython3",
   "version": "3.11.0 | packaged by conda-forge | (main, Oct 25 2022, 06:24:40) [GCC 10.4.0]"
  },
  "vscode": {
   "interpreter": {
    "hash": "7cd394071a58d2b701fc2eb5d34bb6035414468341369599f5330d5d5c96fcbe"
   }
  }
 },
 "nbformat": 4,
 "nbformat_minor": 4
}
